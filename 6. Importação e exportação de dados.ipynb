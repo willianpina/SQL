{
 "cells": [
  {
   "cell_type": "markdown",
   "source": [
    "# Importação e Exportação de dados\n",
    "<p><img src = https://www.misterpostman.com.br/wp-content/uploads/2016/07/Importacao-de-Dados.jpg width=500></p>\n",
    "\n",
    "## Introdução\n",
    "Para extrair insights do seu banco de dados, você precisa de dados. E, embora seja possível que alguns desses dados sejam preenchidos e atualizados para você, sempre haverá cenários em que você precisa de mais dados que ainda não estão em seu banco de dados. Neste módulo, vamos explorar como podemos fazer *upload* de dados com eficiência para nosso banco de dados centralizado para análise posterior.\n",
    "\n",
    "Não apenas queremos fazer *upload* de dados para nosso banco de dados para análise posterior, mas também haverá momentos em que queremos fazer *download* de dados de nosso banco de dados para processamento adicional. Também exploraremos o processo de extração de dados de nosso banco de dados.\n",
    "\n",
    "Um dos principais motivos pelos quais você deseja fazer *upload* ou *download* de dados de ou para seu banco de dados é porque você tem outras ferramentas de análise que deseja usar. Muitas vezes, você desejará usar outro *software* para analisar seus dados. Neste módulo, também veremos como você pode integrar seus fluxos de trabalho com duas linguagens de programação específicas que são frequentemente usadas para análise: **Python** e **R**. Essas linguagens são poderosas porque são fáceis de usar, permitem funcionalidades avançadas e são de código aberto, e têm grandes comunidades que os apoiam como resultado de sua popularidade. Veremos como grandes conjuntos de dados podem ser passados entre nossas linguagens de programação e nossos bancos de dados de forma eficiente para que possamos ter fluxos de trabalho que aproveitem todas as ferramentas disponíveis para nós.\n",
    "\n",
    "Com isso em mente, começaremos analisando a funcionalidade de *upload* e *download* em massa no cliente de linha de comando do *Postgres*, *psql*, e então passaremos para a importação e exportação de dados usando **Python** e **R**.\n",
    "## O comando COPY\n",
    "A esta altura, você provavelmente está bastante familiarizado com a instrução **SELECT**,  que nos permite recuperar dados de nosso banco de dados. Embora esse comando seja útil para pequenos conjuntos de dados que podem ser verificados rapidamente, geralmente desejamos salvar um grande conjunto de dados em um arquivo. Ao salvar esses conjuntos de dados em arquivos, podemos processar ou analisar os dados localmente usando *Excel*, *Python* ou *R*. Para recuperar esses grandes conjuntos de dados, podemos usar o comando Postgres **COPY**, que transfere dados de um banco de dados para um arquivo com eficiência, ou de um arquivo para um banco de dados."
   ],
   "metadata": {
    "collapsed": false,
    "pycharm": {
     "name": "#%% md\n"
    }
   }
  }
 ],
 "metadata": {
  "kernelspec": {
   "display_name": "Python 3",
   "language": "python",
   "name": "python3"
  },
  "language_info": {
   "codemirror_mode": {
    "name": "ipython",
    "version": 2
   },
   "file_extension": ".py",
   "mimetype": "text/x-python",
   "name": "python",
   "nbconvert_exporter": "python",
   "pygments_lexer": "ipython2",
   "version": "2.7.6"
  }
 },
 "nbformat": 4,
 "nbformat_minor": 0
}