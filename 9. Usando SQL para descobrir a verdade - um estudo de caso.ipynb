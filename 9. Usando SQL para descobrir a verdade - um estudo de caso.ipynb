{
 "cells": [
  {
   "cell_type": "markdown",
   "source": [
    "# Usando SQL para descobrir a verdade - um estudo de caso\n",
    "\n",
    "<p><img src=https://encrypted-tbn0.gstatic.com/images?q=tbn:ANd9GcSe21g6Ubf1hIohHngQwdEA9R8ZgwbiKtEdBVeDG-iOF167MaVknxM2UiO5ha93WE2lciI&usqp=CAU width=500></p>"
   ],
   "metadata": {
    "collapsed": false,
    "pycharm": {
     "name": "#%% md\n"
    }
   }
  }
 ],
 "metadata": {
  "kernelspec": {
   "display_name": "Python 3",
   "language": "python",
   "name": "python3"
  },
  "language_info": {
   "codemirror_mode": {
    "name": "ipython",
    "version": 2
   },
   "file_extension": ".py",
   "mimetype": "text/x-python",
   "name": "python",
   "nbconvert_exporter": "python",
   "pygments_lexer": "ipython2",
   "version": "2.7.6"
  }
 },
 "nbformat": 4,
 "nbformat_minor": 0
}