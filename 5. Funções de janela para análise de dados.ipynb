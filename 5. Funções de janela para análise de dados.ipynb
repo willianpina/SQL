{
 "cells": [
  {
   "cell_type": "markdown",
   "source": [
    "# Funções de janela para análise de dados\n",
    "<p><img src = https://sp-ao.shortpixel.ai/client/q_glossy,ret_img,w_780,h_450/https://blog.academiain1.com.br/wp-content/uploads/2017/08/104629-big-data-voce-conhece-os-4-tipos-de-analise-de-dados-780x450.jpg width = 500></p>\n",
    "\n",
    "## Introdução\n",
    "No módulo anterior, discutimos funções agregadas, funções que podem receber um grande grupo de linhas e gerar um único valor para elas. Muitas vezes, ser capaz de resumir um grupo de linhas em um único valor é importante e útil. No entanto, há momentos em que você deseja manter as linhas individuais, além de obter um valor resumido. Para fazer isso, neste módulo, apresentaremos um novo conjunto de funções chamadas **funções de janela**, que podem calcular estatísticas agregadas mantendo linhas individuais. Estas funções são muito úteis para poder calcular novos tipos de estatísticas, como classificações e médias móveis, com relativa facilidade no SQL. Neste módulo, aprenderemos o que são funções de janela e como podemos usá-las para calcular estatísticas.\n",
    "\n",
    "## Funções da janela\n",
    "As funções agregadas nos permitem pegar muitas linhas e converter essas linhas em um número. Por exemplo, a função **COUNT** recebe as linhas de uma tabela e retorna o número de linhas que existem. No entanto, às vezes queremos poder calcular várias linhas, mas ainda manter todas as linhas após o cálculo. Por exemplo, digamos que você queira classificar todos os usuários em ordem de acordo com o momento em que se tornaram clientes, com o primeiro cliente sendo classificado como 1, o segundo cliente mais antigo classificado como 2 e assim por diante. Você pode obter todos os clientes usando a seguinte consulta:"
   ],
   "metadata": {
    "collapsed": false,
    "pycharm": {
     "name": "#%% md\n"
    }
   }
  },
  {
   "cell_type": "code",
   "execution_count": 2,
   "outputs": [
    {
     "data": {
      "text/plain": "   customer_id title first_name    last_name suffix  \\\n0         6173  None     Danila    Gristwood   None   \n1         2625  None      Binky      Dawtrey   None   \n2         7486  None       Ciro  Ferencowicz   None   \n3        13390  None     Danika        Lough   None   \n4        12484  None     Lillis      Brayley   None   \n\n                        email gender       ip_address         phone  \\\n0      dgristwood4rg@furl.net      F   254.239.58.108  832-157-3870   \n1  bdawtrey20w@shareasale.com      M     15.75.236.78  804-990-4322   \n2     cferencowicz5rx@ucoz.ru      M    8.151.167.184  786-458-8754   \n3         dloughabx@skype.com      F     188.19.7.207  212-769-6845   \n4         lbrayley9mr@ovh.net      F  253.224.181.145          None   \n\n          street_address           city state postal_code  latitude  \\\n0    79865 Hagan Terrace           Katy    TX       77493   29.8678   \n1         0353 Iowa Road       Richmond    VA       23208   37.5593   \n2    61 Village Crossing          Miami    FL       33111   25.5584   \n3  38463 Forest Dale Way  New York City    NY       10019   40.7651   \n4                   None           None  None        None       NaN   \n\n   longitude date_added  \n0   -95.8298 2010-03-15  \n1   -77.4471 2010-03-15  \n2   -80.4582 2010-03-15  \n3   -73.9858 2010-03-15  \n4        NaN 2010-03-15  ",
      "text/html": "<div>\n<style scoped>\n    .dataframe tbody tr th:only-of-type {\n        vertical-align: middle;\n    }\n\n    .dataframe tbody tr th {\n        vertical-align: top;\n    }\n\n    .dataframe thead th {\n        text-align: right;\n    }\n</style>\n<table border=\"1\" class=\"dataframe\">\n  <thead>\n    <tr style=\"text-align: right;\">\n      <th></th>\n      <th>customer_id</th>\n      <th>title</th>\n      <th>first_name</th>\n      <th>last_name</th>\n      <th>suffix</th>\n      <th>email</th>\n      <th>gender</th>\n      <th>ip_address</th>\n      <th>phone</th>\n      <th>street_address</th>\n      <th>city</th>\n      <th>state</th>\n      <th>postal_code</th>\n      <th>latitude</th>\n      <th>longitude</th>\n      <th>date_added</th>\n    </tr>\n  </thead>\n  <tbody>\n    <tr>\n      <th>0</th>\n      <td>6173</td>\n      <td>None</td>\n      <td>Danila</td>\n      <td>Gristwood</td>\n      <td>None</td>\n      <td>dgristwood4rg@furl.net</td>\n      <td>F</td>\n      <td>254.239.58.108</td>\n      <td>832-157-3870</td>\n      <td>79865 Hagan Terrace</td>\n      <td>Katy</td>\n      <td>TX</td>\n      <td>77493</td>\n      <td>29.8678</td>\n      <td>-95.8298</td>\n      <td>2010-03-15</td>\n    </tr>\n    <tr>\n      <th>1</th>\n      <td>2625</td>\n      <td>None</td>\n      <td>Binky</td>\n      <td>Dawtrey</td>\n      <td>None</td>\n      <td>bdawtrey20w@shareasale.com</td>\n      <td>M</td>\n      <td>15.75.236.78</td>\n      <td>804-990-4322</td>\n      <td>0353 Iowa Road</td>\n      <td>Richmond</td>\n      <td>VA</td>\n      <td>23208</td>\n      <td>37.5593</td>\n      <td>-77.4471</td>\n      <td>2010-03-15</td>\n    </tr>\n    <tr>\n      <th>2</th>\n      <td>7486</td>\n      <td>None</td>\n      <td>Ciro</td>\n      <td>Ferencowicz</td>\n      <td>None</td>\n      <td>cferencowicz5rx@ucoz.ru</td>\n      <td>M</td>\n      <td>8.151.167.184</td>\n      <td>786-458-8754</td>\n      <td>61 Village Crossing</td>\n      <td>Miami</td>\n      <td>FL</td>\n      <td>33111</td>\n      <td>25.5584</td>\n      <td>-80.4582</td>\n      <td>2010-03-15</td>\n    </tr>\n    <tr>\n      <th>3</th>\n      <td>13390</td>\n      <td>None</td>\n      <td>Danika</td>\n      <td>Lough</td>\n      <td>None</td>\n      <td>dloughabx@skype.com</td>\n      <td>F</td>\n      <td>188.19.7.207</td>\n      <td>212-769-6845</td>\n      <td>38463 Forest Dale Way</td>\n      <td>New York City</td>\n      <td>NY</td>\n      <td>10019</td>\n      <td>40.7651</td>\n      <td>-73.9858</td>\n      <td>2010-03-15</td>\n    </tr>\n    <tr>\n      <th>4</th>\n      <td>12484</td>\n      <td>None</td>\n      <td>Lillis</td>\n      <td>Brayley</td>\n      <td>None</td>\n      <td>lbrayley9mr@ovh.net</td>\n      <td>F</td>\n      <td>253.224.181.145</td>\n      <td>None</td>\n      <td>None</td>\n      <td>None</td>\n      <td>None</td>\n      <td>None</td>\n      <td>NaN</td>\n      <td>NaN</td>\n      <td>2010-03-15</td>\n    </tr>\n  </tbody>\n</table>\n</div>"
     },
     "execution_count": 2,
     "metadata": {},
     "output_type": "execute_result"
    }
   ],
   "source": [
    "import pandas as pd\n",
    "import psycopg2 as pg\n",
    "\n",
    "# Realizando a conexão local no Banco de dados (SQLDA)\n",
    "connection = pg.connect(user=\"postgres\",\n",
    "                        password=\"admin\",\n",
    "                        host=\"127.0.0.1\",\n",
    "                        port=\"5432\",\n",
    "                        database=\"sqlda\")\n",
    "# Query a ser realizada\n",
    "\n",
    "sql = \"\"\"\n",
    "      SELECT *\n",
    "      FROM customers\n",
    "      ORDER BY date_added;\n",
    "      \"\"\"\n",
    "df = pd.read_sql_query(con=connection, sql=sql)\n",
    "df.head()"
   ],
   "metadata": {
    "collapsed": false,
    "pycharm": {
     "name": "#%%\n"
    }
   }
  },
  {
   "cell_type": "markdown",
   "source": [
    "Você pode solicitar clientes do mais antigo ao mais recente, mas não pode atribuir um número a eles. Você pode usar uma função agregada para obter as datas e ordená-las dessa maneira:"
   ],
   "metadata": {
    "collapsed": false,
    "pycharm": {
     "name": "#%% md\n"
    }
   }
  },
  {
   "cell_type": "code",
   "execution_count": 3,
   "outputs": [
    {
     "data": {
      "text/plain": "  date_added  count\n0 2010-03-15     11\n1 2010-03-16     13\n2 2010-03-17     12\n3 2010-03-18     19\n4 2010-03-19     23",
      "text/html": "<div>\n<style scoped>\n    .dataframe tbody tr th:only-of-type {\n        vertical-align: middle;\n    }\n\n    .dataframe tbody tr th {\n        vertical-align: top;\n    }\n\n    .dataframe thead th {\n        text-align: right;\n    }\n</style>\n<table border=\"1\" class=\"dataframe\">\n  <thead>\n    <tr style=\"text-align: right;\">\n      <th></th>\n      <th>date_added</th>\n      <th>count</th>\n    </tr>\n  </thead>\n  <tbody>\n    <tr>\n      <th>0</th>\n      <td>2010-03-15</td>\n      <td>11</td>\n    </tr>\n    <tr>\n      <th>1</th>\n      <td>2010-03-16</td>\n      <td>13</td>\n    </tr>\n    <tr>\n      <th>2</th>\n      <td>2010-03-17</td>\n      <td>12</td>\n    </tr>\n    <tr>\n      <th>3</th>\n      <td>2010-03-18</td>\n      <td>19</td>\n    </tr>\n    <tr>\n      <th>4</th>\n      <td>2010-03-19</td>\n      <td>23</td>\n    </tr>\n  </tbody>\n</table>\n</div>"
     },
     "execution_count": 3,
     "metadata": {},
     "output_type": "execute_result"
    }
   ],
   "source": [
    "sql = \"\"\"\n",
    "      SELECT date_added, COUNT(*)\n",
    "      FROM customers\n",
    "      GROUP BY date_added\n",
    "      ORDER BY date_added;\n",
    "      \"\"\"\n",
    "df = pd.read_sql_query(con=connection, sql=sql)\n",
    "df.head()"
   ],
   "metadata": {
    "collapsed": false,
    "pycharm": {
     "name": "#%%\n"
    }
   }
  },
  {
   "cell_type": "markdown",
   "source": [
    "Embora isso forneça as datas, ele elimina o restante das colunas e ainda não fornece informações de classificação. O que podemos fazer? É aqui que as funções da janela entram em jogo. As funções de janela podem pegar várias linhas de dados e processá-las, mas ainda retêm todas as informações nas linhas. Para coisas como classificações, isso é exatamente o que você precisa. Para melhor compreensão, vamos ver como é uma consulta de função do Windows na próxima seção."
   ],
   "metadata": {
    "collapsed": false,
    "pycharm": {
     "name": "#%% md\n"
    }
   }
  },
  {
   "cell_type": "markdown",
   "source": [
    "### Noções básicas de funções de janela\n",
    "A seguir está a sintaxe básica de uma função de janela:\n",
    "\n",
    "`SELECT {columns},`\n",
    "\n",
    "`{window_func} OVER (PARTITION BY {partition_key} ORDER BY {order_key})`\n",
    "\n",
    "`FROM table1;`\n",
    "\n",
    "Onde **{columns}** são as colunas a serem recuperadas das tabelas para a consulta, **{window_func}** é a função de janela que você deseja usar, **{partition_key}** é a coluna ou colunas nas quais você deseja particionar (mais sobre isso posteriormente), **{order_key}** é a coluna ou colunas pelas quais você deseja ordenar e **table1** é a tabela ou tabelas unidas das quais você deseja extrair dados. A palavra-chave **OVER** indica onde a definição da janela começa."
   ],
   "metadata": {
    "collapsed": false,
    "pycharm": {
     "name": "#%% md\n"
    }
   }
  }
 ],
 "metadata": {
  "kernelspec": {
   "display_name": "Python 3",
   "language": "python",
   "name": "python3"
  },
  "language_info": {
   "codemirror_mode": {
    "name": "ipython",
    "version": 2
   },
   "file_extension": ".py",
   "mimetype": "text/x-python",
   "name": "python",
   "nbconvert_exporter": "python",
   "pygments_lexer": "ipython2",
   "version": "2.7.6"
  }
 },
 "nbformat": 4,
 "nbformat_minor": 0
}