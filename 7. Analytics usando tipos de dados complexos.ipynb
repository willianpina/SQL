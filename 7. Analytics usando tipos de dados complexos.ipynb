{
 "cells": [
  {
   "cell_type": "markdown",
   "source": [
    "# Analytics usando tipos de dados complexos\n",
    "<p><img src = https://thumbs.dreamstime.com/b/cores-em-ascens%C3%A3o-superf%C3%ADcie-tridimensional-colorida-de-indiv%C3%ADduos-com-dados-complexos-arco-%C3%ADris-como-malha-arame-preto-ou-241163870.jpg width=500></p>"
   ],
   "metadata": {
    "collapsed": false,
    "pycharm": {
     "name": "#%% md\n"
    }
   }
  },
  {
   "cell_type": "markdown",
   "source": [
    "## Introdução\n",
    "No módulo anterior, vimos como podemos importar e exportar dados para outras ferramentas analíticas para aproveitar as ferramentas analíticas fora do nosso banco de dados. Muitas vezes é mais fácil analisar números, mas no mundo real, os dados são frequentemente encontrados em outros formatos: palavras, locais, datas e, às vezes, estruturas de dados complexas. Neste módulo, veremos esses outros formatos e veremos como podemos usar esses dados na nossa análise.\n",
    "\n",
    "Primeiro, veremos dois tipos de coluna comumente encontrados: colunas de data e hora (**datetime**) e colunas de **latitude** e **longitude**. Esses tipos de dados nos darão uma compreensão fundamental de como entender nossos dados de uma perspectiva temporal e geoespacial. Em seguida, veremos tipos de dados complexos, como **arrays** e **JSON**, e aprenderemos como extrair pontos de dados desses tipos de dados complexos. Essas estruturas de dados são frequentemente usadas para dados alternativos ou dados em nível de log, como logs de sites. Por fim, veremos como podemos extrair significado do texto em nosso banco de dados e usar dados de texto para extrair **insights**.\n",
    "Ao final do módulo, você terá ampliado seus recursos de análise para que possa aproveitar praticamente qualquer tipo de dado disponível para você.\n",
    "## Tipos de dados de data e hora para análise\n",
    "Estamos todos familiarizados com datas e horários, mas não pensamos frequentemente em como essas medidas quantitativas são representadas. Sim, eles são representados por números, mas não por um único número. Em vez disso, eles são medidos com um conjunto de números, um para o ano, um para o mês, um para o dia do mês, um para a hora, um para o minuto e assim por diante.\n",
    "\n",
    "O que podemos não perceber, porém, é que esta é uma representação complexa, composta por vários componentes diferentes. Por exemplo, saber o minuto atual sem saber a hora atual é inútil. Além disso, existem maneiras complexas de interagir com datas e horas, por exemplo, diferentes pontos no tempo podem ser subtraídos um do outro. Além disso, a hora atual pode ser representada de forma diferente dependendo de onde você está no mundo.\n",
    "\n",
    "Como resultado desses meandros, precisamos ter um cuidado especial ao trabalhar com esse tipo de dados. Na verdade, o *Postgres*, como a maioria dos bancos de dados, oferece tipos de dados especiais que podem representar esses tipos de valores. Começaremos examinando o tipo de data (**date**).\n",
    "\n",
    "### Começando com o tipo de data\n",
    "As datas podem ser facilmente representadas usando strings, por exemplo, \"1 de janeiro de 2000\", que representa claramente uma data específica, mas as datas são uma forma especial de texto, pois representam um valor quantitativo e sequencial. Você pode adicionar uma semana à data atual, por exemplo. Uma determinada data tem muitas propriedades diferentes que você pode querer usar em sua análise, por exemplo, o ano ou o dia da semana que a data representa. Trabalhar com datas também é necessário para a análise de séries temporais, que é um dos tipos mais comuns de análise que surgem.\n",
    "\n",
    "O padrão SQL inclui um tipo de dados **DATE** e o *PostgreSQL* oferece ótimas funcionalidades para interagir com esse tipo de dados. Primeiro, podemos configurar nosso banco de dados para exibir datas no formato com o qual estamos mais familiarizados. O PostgreSQL usa o parâmetro **DateStyle** para definir essas configurações. Para ver suas configurações atuais, você pode usar o seguinte comando:\n",
    "\n",
    "`SHOW DateStyle;`\n",
    "\n",
    "A seguir está a saída da consulta anterior:"
   ],
   "metadata": {
    "collapsed": false,
    "pycharm": {
     "name": "#%% md\n"
    }
   }
  },
  {
   "cell_type": "code",
   "execution_count": 1,
   "outputs": [
    {
     "name": "stdout",
     "output_type": "stream",
     "text": [
      "('ISO, DMY',)\n"
     ]
    }
   ],
   "source": [
    "# Importando o SqlAlchemy\n",
    "import pandas as pd\n",
    "from sqlalchemy import create_engine\n",
    "\n",
    "cnxn_string = (\"postgresql+psycopg2://{username}:{pswd}\"\n",
    "               \"@{host}:{port}/{database}\")\n",
    "\n",
    "# Instanciando a Função create_engine com a string de conexão\n",
    "engine = create_engine(cnxn_string.format(\n",
    "    username=\"postgres\",\n",
    "    pswd=\"admin\",\n",
    "    host=\"127.0.0.1\",\n",
    "    port=5432,\n",
    "    database=\"sqlda\"))\n",
    "\n",
    "# Criando a Consulta ou o comando SQL a ser executado\n",
    "sql = \"\"\"\n",
    "\t\tSHOW DateStyle\n",
    "      \"\"\"\n",
    "# Conectando a Engine\n",
    "conn = engine.connect()\n",
    "\n",
    "# Executando o Comando SQL\n",
    "rs = conn.execute(sql)\n",
    "\n",
    "for row in rs:\n",
    "    print(row)"
   ],
   "metadata": {
    "collapsed": false,
    "pycharm": {
     "name": "#%%\n"
    }
   }
  },
  {
   "cell_type": "markdown",
   "source": [
    "O primeiro parâmetro especifica o formato de saída da **International Organization Standardization (ISO)**, que exibe a data como Ano, Mês, Dia e o segundo parâmetro especifica a ordem (por exemplo, Mês, Dia, Ano versus Dia, Mês, Ano) para entrada ou resultado. Você pode configurar a saída para seu banco de dados usando o seguinte comando:\n",
    "\n",
    "`SET DateStyle='ISO, MDY';`\n",
    "\n"
   ],
   "metadata": {
    "collapsed": false,
    "pycharm": {
     "name": "#%% md\n"
    }
   }
  },
  {
   "cell_type": "code",
   "execution_count": 87,
   "outputs": [
    {
     "name": "stdout",
     "output_type": "stream",
     "text": [
      "('ISO, MDY',)\n"
     ]
    }
   ],
   "source": [
    "sql = \"\"\"\n",
    "\t  SET DateStyle='ISO, MDY';\n",
    "      \"\"\"\n",
    "# Executando o Comando SQL\n",
    "conn.execute(sql)\n",
    "\n",
    "# Criando a Consulta ou o comando SQL a ser executado\n",
    "sql1 = \"\"\"\n",
    "\t\tSHOW DateStyle\n",
    "      \"\"\"\n",
    "\n",
    "# Executando o Comando SQL\n",
    "rs = conn.execute(sql1)\n",
    "\n",
    "for row in rs:\n",
    "    print(row)"
   ],
   "metadata": {
    "collapsed": false,
    "pycharm": {
     "name": "#%%\n"
    }
   }
  },
  {
   "cell_type": "markdown",
   "source": [
    "Por exemplo, se você quiser defini-lo para o formato europeu de Dia, Mês, Ano, defina DateStyle como 'GERMAN, DMY'. Para este módulo, usaremos o formato de exibição ISO (Ano, Mês, Dia) e o formato de entrada Mês, Dia, Ano. Você pode configurar esse formato usando o comando anterior."
   ],
   "metadata": {
    "collapsed": false,
    "pycharm": {
     "name": "#%% md\n"
    }
   }
  },
  {
   "cell_type": "code",
   "execution_count": 82,
   "outputs": [
    {
     "name": "stdout",
     "output_type": "stream",
     "text": [
      "('German, DMY',)\n"
     ]
    }
   ],
   "source": [
    "sql = \"\"\"\n",
    "\t  SET DateStyle='GERMAN, DMY';\n",
    "      \"\"\"\n",
    "# Executando o Comando SQL\n",
    "conn.execute(sql)\n",
    "\n",
    "# Criando a Consulta ou o comando SQL a ser executado\n",
    "sql1 = \"\"\"\n",
    "\t\tSHOW DateStyle\n",
    "      \"\"\"\n",
    "\n",
    "# Executando o Comando SQL\n",
    "rs = conn.execute(sql1)\n",
    "\n",
    "for row in rs:\n",
    "    print(row)"
   ],
   "metadata": {
    "collapsed": false,
    "pycharm": {
     "name": "#%%\n"
    }
   }
  },
  {
   "cell_type": "markdown",
   "source": [
    "Vamos verificar se funcionou com uma consulta no SQL:"
   ],
   "metadata": {
    "collapsed": false,
    "pycharm": {
     "name": "#%% md\n"
    }
   }
  },
  {
   "cell_type": "code",
   "execution_count": 88,
   "outputs": [
    {
     "name": "stdout",
     "output_type": "stream",
     "text": [
      "(datetime.date(1999, 1, 8),)\n"
     ]
    }
   ],
   "source": [
    "sql = \"\"\"\n",
    "       SELECT '1/8/1999'::DATE;\n",
    "\t  \"\"\"\n",
    "rs = conn.execute(sql)\n",
    "for row in rs:\n",
    "    print(row)"
   ],
   "metadata": {
    "collapsed": false,
    "pycharm": {
     "name": "#%%\n"
    }
   }
  },
  {
   "cell_type": "markdown",
   "source": [
    "Como podemos ver, quando inserimos uma string, '1/8/1999', usando o formato **Mês, Dia, Ano,** o *Postgres* entende que é 8 de janeiro de 1999 (e não 1º de agosto de 1999). Exibe a data usando o formato ISO especificado anteriormente, no formato AAAA-MM-DD.\n",
    "\n",
    "Da mesma forma, podemos usar os seguintes formatos com traços e pontos para separar os componentes de data:"
   ],
   "metadata": {
    "collapsed": false,
    "pycharm": {
     "name": "#%% md\n"
    }
   }
  },
  {
   "cell_type": "code",
   "execution_count": 89,
   "outputs": [
    {
     "name": "stdout",
     "output_type": "stream",
     "text": [
      "(datetime.date(1999, 1, 8),)\n"
     ]
    }
   ],
   "source": [
    "sql = \"\"\"\n",
    "      SELECT '1-8-1999'::DATE;\n",
    "\t  \"\"\"\n",
    "rs = conn.execute(sql)\n",
    "for row in rs:\n",
    "    print(row)"
   ],
   "metadata": {
    "collapsed": false,
    "pycharm": {
     "name": "#%%\n"
    }
   }
  },
  {
   "cell_type": "code",
   "execution_count": 90,
   "outputs": [
    {
     "name": "stdout",
     "output_type": "stream",
     "text": [
      "(datetime.date(1999, 1, 8),)\n"
     ]
    }
   ],
   "source": [
    "sql = \"\"\"\n",
    "      SELECT '1.8.1999'::DATE;\n",
    "\t  \"\"\"\n",
    "rs = conn.execute(sql)\n",
    "for row in rs:\n",
    "    print(row)"
   ],
   "metadata": {
    "collapsed": false,
    "pycharm": {
     "name": "#%%\n"
    }
   }
  },
  {
   "cell_type": "markdown",
   "source": [
    "Além de exibir datas que são inseridas como strings, podemos exibir a data atual de maneira muito simples usando as palavras-chave **current_date** no Postgres:"
   ],
   "metadata": {
    "collapsed": false,
    "pycharm": {
     "name": "#%% md\n"
    }
   }
  },
  {
   "cell_type": "code",
   "execution_count": 91,
   "outputs": [
    {
     "name": "stdout",
     "output_type": "stream",
     "text": [
      "(datetime.date(2022, 7, 11),)\n"
     ]
    }
   ],
   "source": [
    "sql = \"\"\"\n",
    "      SELECT current_date;\n",
    "\t  \"\"\"\n",
    "rs = conn.execute(sql)\n",
    "for row in rs:\n",
    "    print(row)"
   ],
   "metadata": {
    "collapsed": false,
    "pycharm": {
     "name": "#%%\n"
    }
   }
  },
  {
   "cell_type": "markdown",
   "source": [
    "Além do tipo de dados **DATE**, o padrão SQL oferece um tipo de dado **TIMESTAMP**. Um carimbo de data/hora representa uma data e uma hora, até um microssegundo.\n",
    "\n",
    "Podemos ver o timestamp atual usando a função **now()** e podemos especificar o nosso fuso horário usando **AT TIME ZONE 'UTC'**. Aqui está um exemplo da função **now()** com o fuso horário Eastern Standard especificado:"
   ],
   "metadata": {
    "collapsed": false,
    "pycharm": {
     "name": "#%% md\n"
    }
   }
  },
  {
   "cell_type": "code",
   "execution_count": 93,
   "outputs": [
    {
     "name": "stdout",
     "output_type": "stream",
     "text": [
      "(datetime.datetime(2022, 7, 11, 19, 43, 15, 464824),)\n"
     ]
    }
   ],
   "source": [
    "sql = \"\"\"\n",
    "      SELECT now() AT TIME ZONE 'EST';\n",
    "\t  \"\"\"\n",
    "rs = conn.execute(sql)\n",
    "for row in rs:\n",
    "    print(row)"
   ],
   "metadata": {
    "collapsed": false,
    "pycharm": {
     "name": "#%%\n"
    }
   }
  },
  {
   "cell_type": "markdown",
   "source": [
    "Também podemos usar o tipo de dados timestamp sem o fuso horário especificado. Você pode pegar o fuso horário atual com a função **now()**:"
   ],
   "metadata": {
    "collapsed": false,
    "pycharm": {
     "name": "#%% md\n"
    }
   }
  },
  {
   "cell_type": "code",
   "execution_count": 94,
   "outputs": [
    {
     "name": "stdout",
     "output_type": "stream",
     "text": [
      "(datetime.datetime(2022, 7, 11, 20, 43, 15, 464824, tzinfo=datetime.timezone(datetime.timedelta(days=-1, seconds=72000))),)\n"
     ]
    }
   ],
   "source": [
    "sql = \"\"\"\n",
    "      SELECT now();\n",
    "\t  \"\"\"\n",
    "rs = conn.execute(sql)\n",
    "for row in rs:\n",
    "    print(row)"
   ],
   "metadata": {
    "collapsed": false,
    "pycharm": {
     "name": "#%%\n"
    }
   }
  },
  {
   "cell_type": "markdown",
   "source": [
    "> #### Observação\n",
    "> Em geral, é recomendável usar um carimbo de data/hora com o fuso horário especificado. Se você não especificar o fuso horário, o valor do carimbo de data/hora pode ser questionável (por exemplo, o horário pode ser representado no fuso horário em que a empresa está localizada, no horário Universal Time Coordinated (UTC) ou no fuso horário do cliente ).\n",
    "\n",
    "Os tipos de dados date e timestamp são úteis não apenas porque exibem datas em um formato legível, mas também porque armazenam esses valores usando menos bytes do que a representação de string equivalente (um valor de tipo de data requer apenas 4 bytes, enquanto a representação de texto equivalente pode ser 8 bytes para uma representação de 8 caracteres, como **'20160101'**). Além disso, o *Postgres* fornece funcionalidades especiais para manipular e transformar datas, e isso é particularmente útil para análise de dados.\n",
    "\n",
    "### Transformando Tipos de Data\n",
    "Muitas vezes, queremos decompor nossas datas em suas partes componentes. Por exemplo, podemos estar interessados apenas no ano e no mês, mas não no dia, para a análise mensal de nossos dados. Para fazer isso, podemos usar **EXTRACT(component FROM data)**. Aqui está um exemplo:"
   ],
   "metadata": {
    "collapsed": false,
    "pycharm": {
     "name": "#%% md\n"
    }
   }
  },
  {
   "cell_type": "code",
   "execution_count": 2,
   "outputs": [
    {
     "data": {
      "text/plain": "  current_date    year  month   day\n0   2022-07-16  2022.0    7.0  16.0",
      "text/html": "<div>\n<style scoped>\n    .dataframe tbody tr th:only-of-type {\n        vertical-align: middle;\n    }\n\n    .dataframe tbody tr th {\n        vertical-align: top;\n    }\n\n    .dataframe thead th {\n        text-align: right;\n    }\n</style>\n<table border=\"1\" class=\"dataframe\">\n  <thead>\n    <tr style=\"text-align: right;\">\n      <th></th>\n      <th>current_date</th>\n      <th>year</th>\n      <th>month</th>\n      <th>day</th>\n    </tr>\n  </thead>\n  <tbody>\n    <tr>\n      <th>0</th>\n      <td>2022-07-16</td>\n      <td>2022.0</td>\n      <td>7.0</td>\n      <td>16.0</td>\n    </tr>\n  </tbody>\n</table>\n</div>"
     },
     "execution_count": 2,
     "metadata": {},
     "output_type": "execute_result"
    }
   ],
   "source": [
    "import pandas as pd\n",
    "\n",
    "sql = \"\"\"\n",
    "      SELECT current_date,\n",
    "        EXTRACT(year FROM current_date) AS year,\n",
    "        EXTRACT(month FROM current_date) AS month,\n",
    "        EXTRACT(day FROM current_date) AS day;\n",
    "\t  \"\"\"\n",
    "pd.read_sql_query(con=conn, sql=sql)"
   ],
   "metadata": {
    "collapsed": false,
    "pycharm": {
     "name": "#%%\n"
    }
   }
  },
  {
   "cell_type": "markdown",
   "source": [
    "Da mesma forma, podemos abreviar esses componentes como **y**, **mon** e **d**, e o *Postgres* entenderá o que queremos:"
   ],
   "metadata": {
    "collapsed": false,
    "pycharm": {
     "name": "#%% md\n"
    }
   }
  },
  {
   "cell_type": "code",
   "execution_count": 99,
   "outputs": [
    {
     "data": {
      "text/plain": "  current_date    year  month   day\n0   2022-07-11  2022.0    7.0  11.0",
      "text/html": "<div>\n<style scoped>\n    .dataframe tbody tr th:only-of-type {\n        vertical-align: middle;\n    }\n\n    .dataframe tbody tr th {\n        vertical-align: top;\n    }\n\n    .dataframe thead th {\n        text-align: right;\n    }\n</style>\n<table border=\"1\" class=\"dataframe\">\n  <thead>\n    <tr style=\"text-align: right;\">\n      <th></th>\n      <th>current_date</th>\n      <th>year</th>\n      <th>month</th>\n      <th>day</th>\n    </tr>\n  </thead>\n  <tbody>\n    <tr>\n      <th>0</th>\n      <td>2022-07-11</td>\n      <td>2022.0</td>\n      <td>7.0</td>\n      <td>11.0</td>\n    </tr>\n  </tbody>\n</table>\n</div>"
     },
     "execution_count": 99,
     "metadata": {},
     "output_type": "execute_result"
    }
   ],
   "source": [
    "sql = \"\"\"\n",
    "      SELECT current_date,\n",
    "            EXTRACT(y FROM current_date) AS year,\n",
    "            EXTRACT(mon FROM current_date) AS month,\n",
    "            EXTRACT(d FROM current_date) AS day;\n",
    "\t  \"\"\"\n",
    "pd.read_sql_query(con=conn, sql=sql)"
   ],
   "metadata": {
    "collapsed": false,
    "pycharm": {
     "name": "#%%\n"
    }
   }
  },
  {
   "cell_type": "markdown",
   "source": [
    "Além do ano, mês e dia, às vezes queremos componentes adicionais, como dia da semana, semana do ano ou trimestre. Você também pode extrair essas partes de data da seguinte forma:"
   ],
   "metadata": {
    "collapsed": false,
    "pycharm": {
     "name": "#%% md\n"
    }
   }
  },
  {
   "cell_type": "code",
   "execution_count": 100,
   "outputs": [
    {
     "data": {
      "text/plain": "  current_date  day_of_week  week_of_year  quarter\n0   2022-07-11          1.0          28.0      3.0",
      "text/html": "<div>\n<style scoped>\n    .dataframe tbody tr th:only-of-type {\n        vertical-align: middle;\n    }\n\n    .dataframe tbody tr th {\n        vertical-align: top;\n    }\n\n    .dataframe thead th {\n        text-align: right;\n    }\n</style>\n<table border=\"1\" class=\"dataframe\">\n  <thead>\n    <tr style=\"text-align: right;\">\n      <th></th>\n      <th>current_date</th>\n      <th>day_of_week</th>\n      <th>week_of_year</th>\n      <th>quarter</th>\n    </tr>\n  </thead>\n  <tbody>\n    <tr>\n      <th>0</th>\n      <td>2022-07-11</td>\n      <td>1.0</td>\n      <td>28.0</td>\n      <td>3.0</td>\n    </tr>\n  </tbody>\n</table>\n</div>"
     },
     "execution_count": 100,
     "metadata": {},
     "output_type": "execute_result"
    }
   ],
   "source": [
    "sql = \"\"\"\n",
    "      SELECT current_date,\n",
    "        EXTRACT(dow FROM current_date) AS day_of_week,\n",
    "        EXTRACT(week FROM current_date) AS week_of_year,\n",
    "        EXTRACT(quarter FROM current_date) AS quarter;\n",
    "\t  \"\"\"\n",
    "pd.read_sql_query(con=conn, sql=sql)"
   ],
   "metadata": {
    "collapsed": false,
    "pycharm": {
     "name": "#%%\n"
    }
   }
  },
  {
   "cell_type": "markdown",
   "source": [
    "Observe que **EXTRACT** sempre gera um número, portanto, neste caso, **day_of_week** começa em 0 (domingo) e vai até 6 (sábado). Em vez de **dow**, você pode usar **isodow**, que começa em 1 (segunda-feira) e vai até 7 (domingo).\n",
    "\n",
    "Além de extrair partes de uma data, podemos simplesmente truncar nossa data ou carimbo de data/hora. Por exemplo, podemos querer simplesmente truncar nossa data para o ano e mês. Podemos fazer isso usando a função **DATE_TRUNC()**:"
   ],
   "metadata": {
    "collapsed": false,
    "pycharm": {
     "name": "#%% md\n"
    }
   }
  },
  {
   "cell_type": "code",
   "execution_count": 101,
   "outputs": [
    {
     "data": {
      "text/plain": "                               now                date_trunc\n0 2022-07-12 00:43:15.464824+00:00 2022-07-01 04:00:00+00:00",
      "text/html": "<div>\n<style scoped>\n    .dataframe tbody tr th:only-of-type {\n        vertical-align: middle;\n    }\n\n    .dataframe tbody tr th {\n        vertical-align: top;\n    }\n\n    .dataframe thead th {\n        text-align: right;\n    }\n</style>\n<table border=\"1\" class=\"dataframe\">\n  <thead>\n    <tr style=\"text-align: right;\">\n      <th></th>\n      <th>now</th>\n      <th>date_trunc</th>\n    </tr>\n  </thead>\n  <tbody>\n    <tr>\n      <th>0</th>\n      <td>2022-07-12 00:43:15.464824+00:00</td>\n      <td>2022-07-01 04:00:00+00:00</td>\n    </tr>\n  </tbody>\n</table>\n</div>"
     },
     "execution_count": 101,
     "metadata": {},
     "output_type": "execute_result"
    }
   ],
   "source": [
    "sql = \"\"\"\n",
    "      SELECT NOW(), DATE_TRUNC('month', NOW());\n",
    "\t  \"\"\"\n",
    "pd.read_sql_query(con=conn, sql=sql)"
   ],
   "metadata": {
    "collapsed": false,
    "pycharm": {
     "name": "#%%\n"
    }
   }
  },
  {
   "cell_type": "markdown",
   "source": [
    "Observe que a função **DATE_TRUNC (...)** não arredonda o valor. Em vez disso, ele gera o maior valor arredondado menor ou igual ao valor de data inserido.\n",
    "> ##### Observação\n",
    "> A função **DATE_TRUNC(...)** é semelhante à função de *floor* em matemática, que gera o maior inteiro menor ou igual à entrada (por exemplo, 5.7 seria reduzido a 5)."
   ],
   "metadata": {
    "collapsed": false,
    "pycharm": {
     "name": "#%% md\n"
    }
   }
  },
  {
   "cell_type": "markdown",
   "source": [
    "A função **DATE_TRUNC (...)** é particularmente útil para instruções **GROUP BY**. Por exemplo, você pode usá-lo para agrupar as vendas por trimestre e obter o total de vendas trimestrais:"
   ],
   "metadata": {
    "collapsed": false,
    "pycharm": {
     "name": "#%% md\n"
    }
   }
  },
  {
   "cell_type": "code",
   "execution_count": 102,
   "outputs": [
    {
     "data": {
      "text/plain": "                    quarter  total_quarterly_sales\n0 2022-07-01 04:00:00+00:00           2.672534e+08",
      "text/html": "<div>\n<style scoped>\n    .dataframe tbody tr th:only-of-type {\n        vertical-align: middle;\n    }\n\n    .dataframe tbody tr th {\n        vertical-align: top;\n    }\n\n    .dataframe thead th {\n        text-align: right;\n    }\n</style>\n<table border=\"1\" class=\"dataframe\">\n  <thead>\n    <tr style=\"text-align: right;\">\n      <th></th>\n      <th>quarter</th>\n      <th>total_quarterly_sales</th>\n    </tr>\n  </thead>\n  <tbody>\n    <tr>\n      <th>0</th>\n      <td>2022-07-01 04:00:00+00:00</td>\n      <td>2.672534e+08</td>\n    </tr>\n  </tbody>\n</table>\n</div>"
     },
     "execution_count": 102,
     "metadata": {},
     "output_type": "execute_result"
    }
   ],
   "source": [
    "sql = \"\"\"\n",
    "      SELECT DATE_TRUNC('quarter', NOW()) AS quarter,\n",
    "            SUM(sales_amount) AS total_quarterly_sales\n",
    "      FROM sales\n",
    "      GROUP BY 1\n",
    "      ORDER BY 1 DESC;\n",
    "\t  \"\"\"\n",
    "pd.read_sql_query(con=conn, sql=sql)"
   ],
   "metadata": {
    "collapsed": false,
    "pycharm": {
     "name": "#%%\n"
    }
   }
  },
  {
   "cell_type": "markdown",
   "source": [
    "> ##### Observação\n",
    "> **DATE_TRUNC(...)** requer uma string representando o campo para o qual você deseja truncar, enquanto **EXTRACT(...)** aceita a representação de string (com aspas) ou o nome do campo (sem aspas).\n",
    "\n",
    "### Intervalos\n",
    "Além de representar datas, também podemos representar intervalos de tempo fixos usando o tipo de dados **INTERVAL**. Isso é útil se quisermos analisar quanto tempo demora algo, por exemplo, se quisermos saber quanto tempo um cliente leva para fazer uma compra.\n",
    "\n",
    "Aqui está um exemplo:"
   ],
   "metadata": {
    "collapsed": false,
    "pycharm": {
     "name": "#%% md\n"
    }
   }
  },
  {
   "cell_type": "code",
   "execution_count": 103,
   "outputs": [
    {
     "data": {
      "text/plain": "  interval\n0   5 days",
      "text/html": "<div>\n<style scoped>\n    .dataframe tbody tr th:only-of-type {\n        vertical-align: middle;\n    }\n\n    .dataframe tbody tr th {\n        vertical-align: top;\n    }\n\n    .dataframe thead th {\n        text-align: right;\n    }\n</style>\n<table border=\"1\" class=\"dataframe\">\n  <thead>\n    <tr style=\"text-align: right;\">\n      <th></th>\n      <th>interval</th>\n    </tr>\n  </thead>\n  <tbody>\n    <tr>\n      <th>0</th>\n      <td>5 days</td>\n    </tr>\n  </tbody>\n</table>\n</div>"
     },
     "execution_count": 103,
     "metadata": {},
     "output_type": "execute_result"
    }
   ],
   "source": [
    "sql = \"\"\"\n",
    "      SELECT INTERVAL '5 days';\n",
    "\t  \"\"\"\n",
    "pd.read_sql_query(con=conn, sql=sql)"
   ],
   "metadata": {
    "collapsed": false,
    "pycharm": {
     "name": "#%%\n"
    }
   }
  },
  {
   "cell_type": "markdown",
   "source": [
    "Os intervalos são úteis para subtrair *timestamps* de data/hora, por exemplo:"
   ],
   "metadata": {
    "collapsed": false,
    "pycharm": {
     "name": "#%% md\n"
    }
   }
  },
  {
   "cell_type": "code",
   "execution_count": 104,
   "outputs": [
    {
     "data": {
      "text/plain": "  days_in_feb\n0     29 days",
      "text/html": "<div>\n<style scoped>\n    .dataframe tbody tr th:only-of-type {\n        vertical-align: middle;\n    }\n\n    .dataframe tbody tr th {\n        vertical-align: top;\n    }\n\n    .dataframe thead th {\n        text-align: right;\n    }\n</style>\n<table border=\"1\" class=\"dataframe\">\n  <thead>\n    <tr style=\"text-align: right;\">\n      <th></th>\n      <th>days_in_feb</th>\n    </tr>\n  </thead>\n  <tbody>\n    <tr>\n      <th>0</th>\n      <td>29 days</td>\n    </tr>\n  </tbody>\n</table>\n</div>"
     },
     "execution_count": 104,
     "metadata": {},
     "output_type": "execute_result"
    }
   ],
   "source": [
    "sql = \"\"\"\n",
    "      SELECT TIMESTAMP '2016-03-01 00:00:00' - TIMESTAMP '2016-02-01 00:00:00'\n",
    "        AS days_in_feb;\n",
    "\t  \"\"\"\n",
    "pd.read_sql_query(con=conn, sql=sql)"
   ],
   "metadata": {
    "collapsed": false,
    "pycharm": {
     "name": "#%%\n"
    }
   }
  },
  {
   "cell_type": "markdown",
   "source": [
    "Ou, alternativamente, os intervalos podem ser usados para adicionar o número de dias a um *timestamps* de data/hora:"
   ],
   "metadata": {
    "collapsed": false,
    "pycharm": {
     "name": "#%% md\n"
    }
   }
  },
  {
   "cell_type": "code",
   "execution_count": 105,
   "outputs": [
    {
     "data": {
      "text/plain": "    new_date\n0 2016-03-08",
      "text/html": "<div>\n<style scoped>\n    .dataframe tbody tr th:only-of-type {\n        vertical-align: middle;\n    }\n\n    .dataframe tbody tr th {\n        vertical-align: top;\n    }\n\n    .dataframe thead th {\n        text-align: right;\n    }\n</style>\n<table border=\"1\" class=\"dataframe\">\n  <thead>\n    <tr style=\"text-align: right;\">\n      <th></th>\n      <th>new_date</th>\n    </tr>\n  </thead>\n  <tbody>\n    <tr>\n      <th>0</th>\n      <td>2016-03-08</td>\n    </tr>\n  </tbody>\n</table>\n</div>"
     },
     "execution_count": 105,
     "metadata": {},
     "output_type": "execute_result"
    }
   ],
   "source": [
    "sql = \"\"\"\n",
    "      SELECT TIMESTAMP '2016-03-01 00:00:00' + INTERVAL '7 days' AS new_date;\n",
    "\t  \"\"\"\n",
    "pd.read_sql_query(con=conn, sql=sql)"
   ],
   "metadata": {
    "collapsed": false,
    "pycharm": {
     "name": "#%%\n"
    }
   }
  },
  {
   "cell_type": "markdown",
   "source": [
    "Embora os intervalos ofereçam um método preciso para fazer aritmética de *timestamps* de data/hora, o formato **DATE** pode ser usado com números inteiros para obter um resultado semelhante. No exemplo a seguir, simplesmente adicionamos 7 (um inteiro) à data para calcular a nova data:"
   ],
   "metadata": {
    "collapsed": false,
    "pycharm": {
     "name": "#%% md\n"
    }
   }
  },
  {
   "cell_type": "code",
   "execution_count": 106,
   "outputs": [
    {
     "data": {
      "text/plain": "     new_date\n0  2016-03-08",
      "text/html": "<div>\n<style scoped>\n    .dataframe tbody tr th:only-of-type {\n        vertical-align: middle;\n    }\n\n    .dataframe tbody tr th {\n        vertical-align: top;\n    }\n\n    .dataframe thead th {\n        text-align: right;\n    }\n</style>\n<table border=\"1\" class=\"dataframe\">\n  <thead>\n    <tr style=\"text-align: right;\">\n      <th></th>\n      <th>new_date</th>\n    </tr>\n  </thead>\n  <tbody>\n    <tr>\n      <th>0</th>\n      <td>2016-03-08</td>\n    </tr>\n  </tbody>\n</table>\n</div>"
     },
     "execution_count": 106,
     "metadata": {},
     "output_type": "execute_result"
    }
   ],
   "source": [
    "sql = \"\"\"\n",
    "      SELECT DATE '2016-03-01' + 7 AS new_date;\n",
    "\t  \"\"\"\n",
    "pd.read_sql_query(con=conn, sql=sql)"
   ],
   "metadata": {
    "collapsed": false,
    "pycharm": {
     "name": "#%%\n"
    }
   }
  },
  {
   "cell_type": "markdown",
   "source": [
    "Da mesma forma, podemos subtrair duas datas e obter um resultado inteiro:"
   ],
   "metadata": {
    "collapsed": false,
    "pycharm": {
     "name": "#%% md\n"
    }
   }
  },
  {
   "cell_type": "code",
   "execution_count": 107,
   "outputs": [
    {
     "data": {
      "text/plain": "   days_in_feb\n0           29",
      "text/html": "<div>\n<style scoped>\n    .dataframe tbody tr th:only-of-type {\n        vertical-align: middle;\n    }\n\n    .dataframe tbody tr th {\n        vertical-align: top;\n    }\n\n    .dataframe thead th {\n        text-align: right;\n    }\n</style>\n<table border=\"1\" class=\"dataframe\">\n  <thead>\n    <tr style=\"text-align: right;\">\n      <th></th>\n      <th>days_in_feb</th>\n    </tr>\n  </thead>\n  <tbody>\n    <tr>\n      <th>0</th>\n      <td>29</td>\n    </tr>\n  </tbody>\n</table>\n</div>"
     },
     "execution_count": 107,
     "metadata": {},
     "output_type": "execute_result"
    }
   ],
   "source": [
    "sql = \"\"\"\n",
    "      SELECT DATE '2016-03-01' - DATE '2016-02-01' AS days_in_feb;\n",
    "\t  \"\"\"\n",
    "pd.read_sql_query(con=conn, sql=sql)"
   ],
   "metadata": {
    "collapsed": false,
    "pycharm": {
     "name": "#%%\n"
    }
   }
  },
  {
   "cell_type": "markdown",
   "source": [
    "Enquanto o tipo de dados de data oferece facilidade de uso, o *timestamp* com o tipo de dados de fuso horário oferece precisão. Se você precisar que seu campo de data/hora seja exatamente igual à hora em que a ação ocorreu, use o *timestamp* com o fuso horário. Caso contrário, você pode usar o campo de data."
   ],
   "metadata": {
    "collapsed": false,
    "pycharm": {
     "name": "#%% md\n"
    }
   }
  },
  {
   "cell_type": "markdown",
   "source": [
    "### Exercício 22: Análise com Dados de Séries Temporais\n",
    "Neste exercício, realizaremos uma análise básica usando dados de séries temporais para obter insights sobre como o ZoomZoom aumentou seus esforços para vender mais veículos durante o ano de 2018 usando o banco de dados ZoomZoom.\n",
    "\n",
    "1. Primeiro, vejamos o número de vendas mensais. Podemos usar a seguinte consulta agregada usando o método **DATE_TRUNC**:"
   ],
   "metadata": {
    "collapsed": false,
    "pycharm": {
     "name": "#%% md\n"
    }
   }
  },
  {
   "cell_type": "code",
   "execution_count": 3,
   "outputs": [
    {
     "data": {
      "text/plain": "   month_date  number_of_sales\n0  2018-01-01              504\n1  2018-02-01              487\n2  2018-03-01              624\n3  2018-04-01              755\n4  2018-05-01              945\n5  2018-06-01              993\n6  2018-07-01             1119\n7  2018-08-01             1046\n8  2018-09-01              867\n9  2018-10-01              780\n10 2018-11-01              801\n11 2018-12-01              596",
      "text/html": "<div>\n<style scoped>\n    .dataframe tbody tr th:only-of-type {\n        vertical-align: middle;\n    }\n\n    .dataframe tbody tr th {\n        vertical-align: top;\n    }\n\n    .dataframe thead th {\n        text-align: right;\n    }\n</style>\n<table border=\"1\" class=\"dataframe\">\n  <thead>\n    <tr style=\"text-align: right;\">\n      <th></th>\n      <th>month_date</th>\n      <th>number_of_sales</th>\n    </tr>\n  </thead>\n  <tbody>\n    <tr>\n      <th>0</th>\n      <td>2018-01-01</td>\n      <td>504</td>\n    </tr>\n    <tr>\n      <th>1</th>\n      <td>2018-02-01</td>\n      <td>487</td>\n    </tr>\n    <tr>\n      <th>2</th>\n      <td>2018-03-01</td>\n      <td>624</td>\n    </tr>\n    <tr>\n      <th>3</th>\n      <td>2018-04-01</td>\n      <td>755</td>\n    </tr>\n    <tr>\n      <th>4</th>\n      <td>2018-05-01</td>\n      <td>945</td>\n    </tr>\n    <tr>\n      <th>5</th>\n      <td>2018-06-01</td>\n      <td>993</td>\n    </tr>\n    <tr>\n      <th>6</th>\n      <td>2018-07-01</td>\n      <td>1119</td>\n    </tr>\n    <tr>\n      <th>7</th>\n      <td>2018-08-01</td>\n      <td>1046</td>\n    </tr>\n    <tr>\n      <th>8</th>\n      <td>2018-09-01</td>\n      <td>867</td>\n    </tr>\n    <tr>\n      <th>9</th>\n      <td>2018-10-01</td>\n      <td>780</td>\n    </tr>\n    <tr>\n      <th>10</th>\n      <td>2018-11-01</td>\n      <td>801</td>\n    </tr>\n    <tr>\n      <th>11</th>\n      <td>2018-12-01</td>\n      <td>596</td>\n    </tr>\n  </tbody>\n</table>\n</div>"
     },
     "execution_count": 3,
     "metadata": {},
     "output_type": "execute_result"
    }
   ],
   "source": [
    "sql = \"\"\"\n",
    "      SELECT\n",
    "            DATE_TRUNC('month', sales_transaction_date)\n",
    "                        AS month_date,\n",
    "            COUNT(1) AS number_of_sales\n",
    "\t  FROM sales\n",
    "\t  WHERE EXTRACT(year FROM sales_transaction_date) = 2018\n",
    "\t  GROUP BY 1\n",
    "\t  ORDER BY 1;\n",
    "\t  \"\"\"\n",
    "pd.read_sql_query(con=conn, sql=sql)"
   ],
   "metadata": {
    "collapsed": false,
    "pycharm": {
     "name": "#%%\n"
    }
   }
  },
  {
   "cell_type": "markdown",
   "source": [
    "2. Em seguida, podemos ver como isso se compara ao número de novos clientes que se juntam a cada mês:"
   ],
   "metadata": {
    "collapsed": false,
    "pycharm": {
     "name": "#%% md\n"
    }
   }
  },
  {
   "cell_type": "code",
   "execution_count": 4,
   "outputs": [
    {
     "data": {
      "text/plain": "   month_date  number_of_new_customers\n0  2018-01-01                      430\n1  2018-02-01                      415\n2  2018-03-01                      450\n3  2018-04-01                      423\n4  2018-05-01                      454\n5  2018-06-01                      456\n6  2018-07-01                      478\n7  2018-08-01                      448\n8  2018-09-01                      440\n9  2018-10-01                      464\n10 2018-11-01                      460\n11 2018-12-01                      473",
      "text/html": "<div>\n<style scoped>\n    .dataframe tbody tr th:only-of-type {\n        vertical-align: middle;\n    }\n\n    .dataframe tbody tr th {\n        vertical-align: top;\n    }\n\n    .dataframe thead th {\n        text-align: right;\n    }\n</style>\n<table border=\"1\" class=\"dataframe\">\n  <thead>\n    <tr style=\"text-align: right;\">\n      <th></th>\n      <th>month_date</th>\n      <th>number_of_new_customers</th>\n    </tr>\n  </thead>\n  <tbody>\n    <tr>\n      <th>0</th>\n      <td>2018-01-01</td>\n      <td>430</td>\n    </tr>\n    <tr>\n      <th>1</th>\n      <td>2018-02-01</td>\n      <td>415</td>\n    </tr>\n    <tr>\n      <th>2</th>\n      <td>2018-03-01</td>\n      <td>450</td>\n    </tr>\n    <tr>\n      <th>3</th>\n      <td>2018-04-01</td>\n      <td>423</td>\n    </tr>\n    <tr>\n      <th>4</th>\n      <td>2018-05-01</td>\n      <td>454</td>\n    </tr>\n    <tr>\n      <th>5</th>\n      <td>2018-06-01</td>\n      <td>456</td>\n    </tr>\n    <tr>\n      <th>6</th>\n      <td>2018-07-01</td>\n      <td>478</td>\n    </tr>\n    <tr>\n      <th>7</th>\n      <td>2018-08-01</td>\n      <td>448</td>\n    </tr>\n    <tr>\n      <th>8</th>\n      <td>2018-09-01</td>\n      <td>440</td>\n    </tr>\n    <tr>\n      <th>9</th>\n      <td>2018-10-01</td>\n      <td>464</td>\n    </tr>\n    <tr>\n      <th>10</th>\n      <td>2018-11-01</td>\n      <td>460</td>\n    </tr>\n    <tr>\n      <th>11</th>\n      <td>2018-12-01</td>\n      <td>473</td>\n    </tr>\n  </tbody>\n</table>\n</div>"
     },
     "execution_count": 4,
     "metadata": {},
     "output_type": "execute_result"
    }
   ],
   "source": [
    "sql = \"\"\"\n",
    "      SELECT\n",
    "            DATE_TRUNC('month', date_added)\n",
    "                        AS month_date,\n",
    "            COUNT(1) AS number_of_new_customers\n",
    "\t  FROM customers\n",
    "\t  WHERE EXTRACT(year FROM date_added) = 2018\n",
    "\t  GROUP BY 1\n",
    "\t  ORDER BY 1;\n",
    "\t  \"\"\"\n",
    "pd.read_sql_query(con=conn, sql=sql)"
   ],
   "metadata": {
    "collapsed": false,
    "pycharm": {
     "name": "#%%\n"
    }
   }
  },
  {
   "cell_type": "markdown",
   "source": [
    "Provavelmente, podemos deduzir que os clientes não estão sendo inseridos em nosso banco de dados durante a compra, mas estão se inscrevendo conosco antes de fazer uma compra. O fluxo de novos clientes em potencial é bastante estável e gira em torno de 400 a 500 novos cadastros de clientes todos os meses, enquanto o número de vendas (conforme consultado na etapa 1) varia consideravelmente – em julho, temos 2.3 vezes mais vendas ( 1.119), pois temos novos clientes (478).\n",
    "\n",
    "A partir deste exercício, podemos ver que temos um número constante de clientes entrando em nosso banco de dados, mas as transações de vendas variam consideravelmente de mês para mês."
   ],
   "metadata": {
    "collapsed": false,
    "pycharm": {
     "name": "#%% md\n"
    }
   }
  },
  {
   "cell_type": "markdown",
   "source": [
    "## Executando Análise Geoespacial no Postgres\n",
    "Além de analisar dados de séries temporais para entender melhor as tendências, também podemos usar informações geoespaciais – como cidade, país ou latitude e longitude – para entender melhor nossos clientes. Por exemplo, os governos usam a análise geoespacial para entender melhor as diferenças econômicas regionais, enquanto uma plataforma de compartilhamento de viagens pode usar dados geoespaciais para encontrar o motorista mais próximo para um determinado cliente.\n",
    "\n",
    "Podemos representar uma localização geoespacial usando coordenadas de latitude e longitude, e este será o alicerce fundamental para começarmos a análise geoespacial.\n",
    "\n",
    "### Latitude e longitude\n",
    "Quando pensamos em locais, geralmente pensamos em termos de endereço – a cidade, estado, país ou código postal atribuído ao local em que estamos interessados. De uma perspectiva analítica, às vezes isso é bom – para Por exemplo, você pode analisar o volume de vendas por cidade e obter resultados significativos sobre quais cidades estão com bom desempenho.\n",
    "\n",
    "Muitas vezes, no entanto, precisamos entender as relações geoespaciais numericamente, entender as distâncias entre dois pontos ou entender as relações que variam com base em onde você está em um mapa. Afinal, se você mora na fronteira entre duas cidades, é raro que seu comportamento mude de repente se você se mudar para a outra cidade.\n",
    "\n",
    "Latitude e longitude nos permitem olhar para o local em um contexto contínuo. Isso nos permite analisar as relações numéricas entre a localização e outros fatores (por exemplo, vendas). latitude e longitude também nos permitem ver as distâncias entre dois locais.\n",
    "\n",
    "A latitude nos diz a que distância norte ou sul está um ponto. Um ponto a +90° de latitude está no Pólo Norte, enquanto um ponto a 0° de latitude está no equador e um ponto a -90° está no Pólo Sul. Em um mapa, linhas de latitude constante correm para leste e oeste.\n",
    "\n",
    "A longitude nos diz a que distância a leste, ou oeste, um ponto está. Em um mapa, linhas de latitude constante correm para leste e oeste. Greenwich, Inglaterra, é o ponto de longitude 0°. Os pontos podem ser definidos usando a longitude como oeste (-) ou leste (+) deste ponto, e os valores variam de -180° oeste a +180° leste. Esses valores são, na verdade, equivalentes porque ambos apontam para a linha vertical que atravessa o Oceano Pacífico, que fica do outro lado do mundo de Greenwich, na Inglaterra.\n",
    "\n",
    "### Representando Latitude e Longitude no Postgres\n",
    "No Postgres, podemos representar latitude e longitude usando dois números de ponto flutuante. Na verdade, é assim que a latitude e a longitude são representadas na tabela de clientes do ZoomZoom:"
   ],
   "metadata": {
    "collapsed": false,
    "pycharm": {
     "name": "#%% md\n"
    }
   }
  },
  {
   "cell_type": "code",
   "execution_count": 5,
   "outputs": [
    {
     "data": {
      "text/plain": "   latitude  longitude\n0       NaN        NaN\n1   38.5814   -90.2625\n2   30.6143   -87.2758\n3   36.0986   -86.8219\n4   25.5584   -80.4582\n5   25.6364   -80.3187\n6   28.5663   -81.2608\n7   41.3087   -72.9271\n8   38.8999   -94.8320\n9   31.6948  -106.3000",
      "text/html": "<div>\n<style scoped>\n    .dataframe tbody tr th:only-of-type {\n        vertical-align: middle;\n    }\n\n    .dataframe tbody tr th {\n        vertical-align: top;\n    }\n\n    .dataframe thead th {\n        text-align: right;\n    }\n</style>\n<table border=\"1\" class=\"dataframe\">\n  <thead>\n    <tr style=\"text-align: right;\">\n      <th></th>\n      <th>latitude</th>\n      <th>longitude</th>\n    </tr>\n  </thead>\n  <tbody>\n    <tr>\n      <th>0</th>\n      <td>NaN</td>\n      <td>NaN</td>\n    </tr>\n    <tr>\n      <th>1</th>\n      <td>38.5814</td>\n      <td>-90.2625</td>\n    </tr>\n    <tr>\n      <th>2</th>\n      <td>30.6143</td>\n      <td>-87.2758</td>\n    </tr>\n    <tr>\n      <th>3</th>\n      <td>36.0986</td>\n      <td>-86.8219</td>\n    </tr>\n    <tr>\n      <th>4</th>\n      <td>25.5584</td>\n      <td>-80.4582</td>\n    </tr>\n    <tr>\n      <th>5</th>\n      <td>25.6364</td>\n      <td>-80.3187</td>\n    </tr>\n    <tr>\n      <th>6</th>\n      <td>28.5663</td>\n      <td>-81.2608</td>\n    </tr>\n    <tr>\n      <th>7</th>\n      <td>41.3087</td>\n      <td>-72.9271</td>\n    </tr>\n    <tr>\n      <th>8</th>\n      <td>38.8999</td>\n      <td>-94.8320</td>\n    </tr>\n    <tr>\n      <th>9</th>\n      <td>31.6948</td>\n      <td>-106.3000</td>\n    </tr>\n  </tbody>\n</table>\n</div>"
     },
     "execution_count": 5,
     "metadata": {},
     "output_type": "execute_result"
    }
   ],
   "source": [
    "sql = \"\"\"\n",
    "      SELECT latitude, longitude\n",
    "      FROM customers\n",
    "      LIMIT 10;\n",
    "\t  \"\"\"\n",
    "pd.read_sql_query(con=conn, sql=sql)"
   ],
   "metadata": {
    "collapsed": false,
    "pycharm": {
     "name": "#%%\n"
    }
   }
  },
  {
   "cell_type": "markdown",
   "source": [
    "Aqui, podemos ver que todas as latitudes são positivas porque os Estados Unidos estão ao norte do equador. Todas as longitudes são negativas porque os Estados Unidos estão a oeste de Greenwich, na Inglaterra. Também podemos ver que alguns clientes não possuem os valores de latitude e longitude preenchidos, pois sua localização é desconhecida.\n",
    "Embora esses valores possam nos fornecer a localização exata de um cliente, não podemos fazer muito com essa informação, porque os cálculos de distância exigem trigonometria e simplificam suposições sobre a forma da Terra. Felizmente, o Postgres tem ferramentas para resolver esse problema. Podemos calcular distâncias no Postgres instalando estes pacotes:"
   ],
   "metadata": {
    "collapsed": false,
    "pycharm": {
     "name": "#%% md\n"
    }
   }
  },
  {
   "cell_type": "code",
   "execution_count": 6,
   "outputs": [
    {
     "data": {
      "text/plain": "                          point\n0                          None\n1            (-90.2625,38.5814)\n2            (-87.2758,30.6143)\n3            (-86.8219,36.0986)\n4            (-80.4582,25.5584)\n5            (-80.3187,25.6364)\n6            (-81.2608,28.5663)\n7            (-72.9271,41.3087)\n8  (-94.83200000000001,38.8999)\n9              (-106.3,31.6948)",
      "text/html": "<div>\n<style scoped>\n    .dataframe tbody tr th:only-of-type {\n        vertical-align: middle;\n    }\n\n    .dataframe tbody tr th {\n        vertical-align: top;\n    }\n\n    .dataframe thead th {\n        text-align: right;\n    }\n</style>\n<table border=\"1\" class=\"dataframe\">\n  <thead>\n    <tr style=\"text-align: right;\">\n      <th></th>\n      <th>point</th>\n    </tr>\n  </thead>\n  <tbody>\n    <tr>\n      <th>0</th>\n      <td>None</td>\n    </tr>\n    <tr>\n      <th>1</th>\n      <td>(-90.2625,38.5814)</td>\n    </tr>\n    <tr>\n      <th>2</th>\n      <td>(-87.2758,30.6143)</td>\n    </tr>\n    <tr>\n      <th>3</th>\n      <td>(-86.8219,36.0986)</td>\n    </tr>\n    <tr>\n      <th>4</th>\n      <td>(-80.4582,25.5584)</td>\n    </tr>\n    <tr>\n      <th>5</th>\n      <td>(-80.3187,25.6364)</td>\n    </tr>\n    <tr>\n      <th>6</th>\n      <td>(-81.2608,28.5663)</td>\n    </tr>\n    <tr>\n      <th>7</th>\n      <td>(-72.9271,41.3087)</td>\n    </tr>\n    <tr>\n      <th>8</th>\n      <td>(-94.83200000000001,38.8999)</td>\n    </tr>\n    <tr>\n      <th>9</th>\n      <td>(-106.3,31.6948)</td>\n    </tr>\n  </tbody>\n</table>\n</div>"
     },
     "execution_count": 6,
     "metadata": {},
     "output_type": "execute_result"
    }
   ],
   "source": [
    "sql = \"\"\"\n",
    "      SELECT point(longitude, latitude)\n",
    "      FROM customers\n",
    "      LIMIT 10;\n",
    "\t  \"\"\"\n",
    "pd.read_sql_query(con=conn, sql=sql)"
   ],
   "metadata": {
    "collapsed": false,
    "pycharm": {
     "name": "#%%\n"
    }
   }
  },
  {
   "cell_type": "markdown",
   "source": [
    "> ##### Observação\n",
    "> Um ponto é definido com longitude primeiro e depois latitude. Isso é contrário à convenção de latitude primeiro e depois longitude. A lógica por trás disso é que a longitude representa mais de perto os pontos ao longo de um eixo x, e a latitude representa mais de perto os pontos no eixo y e, em matemática, os pontos representados graficamente são geralmente anotados por sua coordenada x seguida por sua coordenada y."
   ],
   "metadata": {
    "collapsed": false,
    "pycharm": {
     "name": "#%% md\n"
    }
   }
  },
  {
   "cell_type": "code",
   "execution_count": 7,
   "outputs": [
    {
     "data": {
      "text/plain": "   distance_in_miles\n0          88.194934",
      "text/html": "<div>\n<style scoped>\n    .dataframe tbody tr th:only-of-type {\n        vertical-align: middle;\n    }\n\n    .dataframe tbody tr th {\n        vertical-align: top;\n    }\n\n    .dataframe thead th {\n        text-align: right;\n    }\n</style>\n<table border=\"1\" class=\"dataframe\">\n  <thead>\n    <tr style=\"text-align: right;\">\n      <th></th>\n      <th>distance_in_miles</th>\n    </tr>\n  </thead>\n  <tbody>\n    <tr>\n      <th>0</th>\n      <td>88.194934</td>\n    </tr>\n  </tbody>\n</table>\n</div>"
     },
     "execution_count": 7,
     "metadata": {},
     "output_type": "execute_result"
    }
   ],
   "source": [
    "sql = \"\"\"\n",
    "      SELECT point(-90, 38) <@> point(-91, 37) AS distance_in_miles;\n",
    "\t  \"\"\"\n",
    "pd.read_sql_query(con=conn, sql=sql)"
   ],
   "metadata": {
    "collapsed": false,
    "pycharm": {
     "name": "#%%\n"
    }
   }
  },
  {
   "cell_type": "markdown",
   "source": [
    "Neste exemplo, definimos dois pontos, (38° N, 90° W) e (37° N, 91° W), e conseguimos calcular a distância entre esses pontos usando o operador <@>, que calcula o distância em milhas (neste caso, esses dois pontos estão separados por **88,2** milhas). No exercício a seguir, veremos como podemos usar esses cálculos de distância em um contexto prático de negócios."
   ],
   "metadata": {
    "collapsed": false,
    "pycharm": {
     "name": "#%% md\n"
    }
   }
  },
  {
   "cell_type": "markdown",
   "source": [
    "## Usando tipos de dados de matriz no Postgres\n",
    "Embora os tipos de dados Postgres que exploramos até agora nos permitam armazenar muitos tipos diferentes de dados, ocasionalmente desejaremos armazenar uma série de valores em uma tabela. Por exemplo, podemos querer armazenar uma lista dos produtos que um cliente comprou ou uma lista dos números de identificação de funcionários associados a uma concessionária específica. Para este cenário, o Postgres oferece o tipo de dados ARRAY, que nos permite armazenar exatamente isso – uma lista de valores.\n",
    "### Começando com matrizes\n",
    "Arrays Postgres nos permitem armazenar vários valores em um campo em uma tabela. Por exemplo, considere o primeiro registro a seguir na tabela de clientes:"
   ],
   "metadata": {
    "collapsed": false,
    "pycharm": {
     "name": "#%% md\n"
    }
   }
  },
  {
   "cell_type": "code",
   "execution_count": 17,
   "outputs": [
    {
     "data": {
      "text/plain": "   customer_id title first_name last_name suffix                      email  \\\n0            1  None     Arlena   Riveles   None  ariveles0@stumbleupon.com   \n\n  gender     ip_address phone street_address  city state postal_code latitude  \\\n0      F  98.36.172.246  None           None  None  None        None     None   \n\n  longitude date_added  \n0      None 2017-04-23  ",
      "text/html": "<div>\n<style scoped>\n    .dataframe tbody tr th:only-of-type {\n        vertical-align: middle;\n    }\n\n    .dataframe tbody tr th {\n        vertical-align: top;\n    }\n\n    .dataframe thead th {\n        text-align: right;\n    }\n</style>\n<table border=\"1\" class=\"dataframe\">\n  <thead>\n    <tr style=\"text-align: right;\">\n      <th></th>\n      <th>customer_id</th>\n      <th>title</th>\n      <th>first_name</th>\n      <th>last_name</th>\n      <th>suffix</th>\n      <th>email</th>\n      <th>gender</th>\n      <th>ip_address</th>\n      <th>phone</th>\n      <th>street_address</th>\n      <th>city</th>\n      <th>state</th>\n      <th>postal_code</th>\n      <th>latitude</th>\n      <th>longitude</th>\n      <th>date_added</th>\n    </tr>\n  </thead>\n  <tbody>\n    <tr>\n      <th>0</th>\n      <td>1</td>\n      <td>None</td>\n      <td>Arlena</td>\n      <td>Riveles</td>\n      <td>None</td>\n      <td>ariveles0@stumbleupon.com</td>\n      <td>F</td>\n      <td>98.36.172.246</td>\n      <td>None</td>\n      <td>None</td>\n      <td>None</td>\n      <td>None</td>\n      <td>None</td>\n      <td>None</td>\n      <td>None</td>\n      <td>2017-04-23</td>\n    </tr>\n  </tbody>\n</table>\n</div>"
     },
     "execution_count": 17,
     "metadata": {},
     "output_type": "execute_result"
    }
   ],
   "source": [
    "sql = \"\"\"\n",
    "      SELECT *\n",
    "      FROM customers\n",
    "      LIMIT 1\n",
    "\t  \"\"\"\n",
    "pd.read_sql_query(con=conn, sql=sql)"
   ],
   "metadata": {
    "collapsed": false,
    "pycharm": {
     "name": "#%%\n"
    }
   }
  },
  {
   "cell_type": "markdown",
   "source": [
    "Cada campo contém exatamente um valor (o valor **NULL** ainda é um valor); no entanto, existem alguns atributos que podem conter vários valores com um comprimento não especificado. Por exemplo, imagine que queremos ter um campo **Purchase_products**. Isso pode conter zero ou mais valores dentro do campo. Por exemplo, imagine que o cliente comprou as scooters **Lemon** e **Bat Limited Edition**; podemos representar isso da seguinte forma:\n",
    "\n",
    "`purchased_products | {Lemon,\"Bat Limited Edition\"}`\n",
    "\n",
    "Podemos definir um array de várias maneiras. Para começar, podemos simplesmente criar um array usando o seguinte comando:"
   ],
   "metadata": {
    "collapsed": false,
    "pycharm": {
     "name": "#%% md\n"
    }
   }
  },
  {
   "cell_type": "code",
   "execution_count": 18,
   "outputs": [
    {
     "data": {
      "text/plain": "     example_purchased_products\n0  [Lemon, Bat Limited Edition]",
      "text/html": "<div>\n<style scoped>\n    .dataframe tbody tr th:only-of-type {\n        vertical-align: middle;\n    }\n\n    .dataframe tbody tr th {\n        vertical-align: top;\n    }\n\n    .dataframe thead th {\n        text-align: right;\n    }\n</style>\n<table border=\"1\" class=\"dataframe\">\n  <thead>\n    <tr style=\"text-align: right;\">\n      <th></th>\n      <th>example_purchased_products</th>\n    </tr>\n  </thead>\n  <tbody>\n    <tr>\n      <th>0</th>\n      <td>[Lemon, Bat Limited Edition]</td>\n    </tr>\n  </tbody>\n</table>\n</div>"
     },
     "execution_count": 18,
     "metadata": {},
     "output_type": "execute_result"
    }
   ],
   "source": [
    "sql = \"\"\"\n",
    "      SELECT ARRAY['Lemon', 'Bat Limited Edition'] AS example_purchased_products;\n",
    "\t  \"\"\"\n",
    "pd.read_sql_query(con=conn, sql=sql)"
   ],
   "metadata": {
    "collapsed": false,
    "pycharm": {
     "name": "#%%\n"
    }
   }
  },
  {
   "cell_type": "markdown",
   "source": [
    "O Postgres sabe que os valores **'Lemon'** e **'Bat Limited Edition'** são do tipo de dados de texto, então ele cria uma matriz de texto para armazenar esses valores.\n",
    "\n",
    "Embora você possa criar uma matriz para qualquer tipo de dados, a matriz é limitada apenas aos valores desse tipo de dados. Portanto, você não poderia ter um valor inteiro seguido por um valor de texto (isso provavelmente produziria um erro).\n",
    "\n",
    "Também podemos criar arrays usando a função agregada **ARRAY_AGG**. Por exemplo, a consulta a seguir agrega todos os veículos para cada tipo de produto:"
   ],
   "metadata": {
    "collapsed": false,
    "pycharm": {
     "name": "#%% md\n"
    }
   }
  },
  {
   "cell_type": "code",
   "execution_count": 19,
   "outputs": [
    {
     "data": {
      "text/plain": "  product_type                                             models\n0   automobile  [Model Chi, Model Epsilon, Model Gamma, Model ...\n1      scooter  [Bat, Bat Limited Edition, Blade, Lemon, Lemon...",
      "text/html": "<div>\n<style scoped>\n    .dataframe tbody tr th:only-of-type {\n        vertical-align: middle;\n    }\n\n    .dataframe tbody tr th {\n        vertical-align: top;\n    }\n\n    .dataframe thead th {\n        text-align: right;\n    }\n</style>\n<table border=\"1\" class=\"dataframe\">\n  <thead>\n    <tr style=\"text-align: right;\">\n      <th></th>\n      <th>product_type</th>\n      <th>models</th>\n    </tr>\n  </thead>\n  <tbody>\n    <tr>\n      <th>0</th>\n      <td>automobile</td>\n      <td>[Model Chi, Model Epsilon, Model Gamma, Model ...</td>\n    </tr>\n    <tr>\n      <th>1</th>\n      <td>scooter</td>\n      <td>[Bat, Bat Limited Edition, Blade, Lemon, Lemon...</td>\n    </tr>\n  </tbody>\n</table>\n</div>"
     },
     "execution_count": 19,
     "metadata": {},
     "output_type": "execute_result"
    }
   ],
   "source": [
    "sql = \"\"\"\n",
    "      SELECT product_type, ARRAY_AGG(DISTINCT model)\n",
    "        AS models\n",
    "      FROM products\n",
    "      GROUP BY 1;\n",
    "\t  \"\"\"\n",
    "pd.read_sql_query(con=conn, sql=sql)"
   ],
   "metadata": {
    "collapsed": false,
    "pycharm": {
     "name": "#%%\n"
    }
   }
  },
  {
   "cell_type": "markdown",
   "source": [
    "Você também pode reverter essa operação usando a função **UNNEST**, que cria uma linha para cada valor na matriz:"
   ],
   "metadata": {
    "collapsed": false,
    "pycharm": {
     "name": "#%% md\n"
    }
   }
  },
  {
   "cell_type": "code",
   "execution_count": 20,
   "outputs": [
    {
     "data": {
      "text/plain": "   example_ids\n0          123\n1          456\n2          789",
      "text/html": "<div>\n<style scoped>\n    .dataframe tbody tr th:only-of-type {\n        vertical-align: middle;\n    }\n\n    .dataframe tbody tr th {\n        vertical-align: top;\n    }\n\n    .dataframe thead th {\n        text-align: right;\n    }\n</style>\n<table border=\"1\" class=\"dataframe\">\n  <thead>\n    <tr style=\"text-align: right;\">\n      <th></th>\n      <th>example_ids</th>\n    </tr>\n  </thead>\n  <tbody>\n    <tr>\n      <th>0</th>\n      <td>123</td>\n    </tr>\n    <tr>\n      <th>1</th>\n      <td>456</td>\n    </tr>\n    <tr>\n      <th>2</th>\n      <td>789</td>\n    </tr>\n  </tbody>\n</table>\n</div>"
     },
     "execution_count": 20,
     "metadata": {},
     "output_type": "execute_result"
    }
   ],
   "source": [
    "sql = \"\"\"\n",
    "      SELECT UNNEST(ARRAY[123, 456, 789]) AS example_ids;\n",
    "\t  \"\"\"\n",
    "pd.read_sql_query(con=conn, sql=sql)"
   ],
   "metadata": {
    "collapsed": false,
    "pycharm": {
     "name": "#%%\n"
    }
   }
  },
  {
   "cell_type": "markdown",
   "source": [
    "Você também pode criar uma matriz dividindo um valor de string usando a função **STRING_TO_ARRAY**. Neste exemplo, a frase é dividida usando a segunda string (' '), e acabamos com o resultado, aqui está um exemplo:"
   ],
   "metadata": {
    "collapsed": false,
    "pycharm": {
     "name": "#%% md\n"
    }
   }
  },
  {
   "cell_type": "code",
   "execution_count": 21,
   "outputs": [
    {
     "data": {
      "text/plain": "                  string_to_array\n0  [hello, there, how, are, you?]",
      "text/html": "<div>\n<style scoped>\n    .dataframe tbody tr th:only-of-type {\n        vertical-align: middle;\n    }\n\n    .dataframe tbody tr th {\n        vertical-align: top;\n    }\n\n    .dataframe thead th {\n        text-align: right;\n    }\n</style>\n<table border=\"1\" class=\"dataframe\">\n  <thead>\n    <tr style=\"text-align: right;\">\n      <th></th>\n      <th>string_to_array</th>\n    </tr>\n  </thead>\n  <tbody>\n    <tr>\n      <th>0</th>\n      <td>[hello, there, how, are, you?]</td>\n    </tr>\n  </tbody>\n</table>\n</div>"
     },
     "execution_count": 21,
     "metadata": {},
     "output_type": "execute_result"
    }
   ],
   "source": [
    "sql = \"\"\"\n",
    "      SELECT STRING_TO_ARRAY('hello there how are you?', ' ');\n",
    "\t  \"\"\"\n",
    "pd.read_sql_query(con=conn, sql=sql)"
   ],
   "metadata": {
    "collapsed": false,
    "pycharm": {
     "name": "#%%\n"
    }
   }
  },
  {
   "cell_type": "markdown",
   "source": [
    "Da mesma forma, podemos executar a operação inversa e concatenar um array de strings em uma única string. Neste exemplo, podemos unir a string individual com a segunda string usando ', ':"
   ],
   "metadata": {
    "collapsed": false,
    "pycharm": {
     "name": "#%% md\n"
    }
   }
  },
  {
   "cell_type": "code",
   "execution_count": 22,
   "outputs": [
    {
     "data": {
      "text/plain": "   example_purchased_products\n0  Lemon, Bat Limited Edition",
      "text/html": "<div>\n<style scoped>\n    .dataframe tbody tr th:only-of-type {\n        vertical-align: middle;\n    }\n\n    .dataframe tbody tr th {\n        vertical-align: top;\n    }\n\n    .dataframe thead th {\n        text-align: right;\n    }\n</style>\n<table border=\"1\" class=\"dataframe\">\n  <thead>\n    <tr style=\"text-align: right;\">\n      <th></th>\n      <th>example_purchased_products</th>\n    </tr>\n  </thead>\n  <tbody>\n    <tr>\n      <th>0</th>\n      <td>Lemon, Bat Limited Edition</td>\n    </tr>\n  </tbody>\n</table>\n</div>"
     },
     "execution_count": 22,
     "metadata": {},
     "output_type": "execute_result"
    }
   ],
   "source": [
    "sql = \"\"\"\n",
    "      SELECT ARRAY_TO_STRING(ARRAY['Lemon', 'Bat Limited Edition'], ', ')\n",
    "        AS example_purchased_products;\n",
    "\t  \"\"\"\n",
    "pd.read_sql_query(con=conn, sql=sql)"
   ],
   "metadata": {
    "collapsed": false,
    "pycharm": {
     "name": "#%%\n"
    }
   }
  },
  {
   "cell_type": "markdown",
   "source": [
    "Existem outras funções que permitem interagir com arrays. Aqui estão alguns exemplos da funcionalidade de array adicional que o Postgres fornece:"
   ],
   "metadata": {
    "collapsed": false,
    "pycharm": {
     "name": "#%% md\n"
    }
   }
  },
  {
   "cell_type": "code",
   "execution_count": 24,
   "outputs": [
    {
     "data": {
      "image/png": "[encoded data removed]",
      "text/plain": "<IPython.core.display.Image object>"
     },
     "execution_count": 24,
     "metadata": {},
     "output_type": "execute_result"
    }
   ],
   "source": [
    "from IPython.display import Image\n",
    "Image('images/functionality_array.PNG')"
   ],
   "metadata": {
    "collapsed": false,
    "pycharm": {
     "name": "#%%\n"
    }
   }
  },
  {
   "cell_type": "markdown",
   "source": [
    "## Usando tipos de dados JSON no Postgres\n",
    "Embora os arrays possam ser úteis para armazenar uma lista de valores em um único campo, às vezes nossas estruturas de dados podem ser complexas. Por exemplo, podemos querer armazenar vários valores de diferentes tipos em um único campo e podemos querer que os dados sejam codificados com rótulos em vez de armazenados sequencialmente. Esses são problemas comuns com dados em nível de log, bem como dados alternativos.\n",
    "\n",
    "**JavaScript Object Notation (JSON)** é um formato de texto padrão aberto para armazenar dados de complexidade variável. Pode ser usado para representar qualquer coisa. Semelhante a como uma tabela de banco de dados tem nomes de coluna, os dados JSON têm chaves. Podemos representar um registro do banco de dados de nossos **customers** facilmente usando JSON, armazenando nomes de colunas como chaves e valores de linhas como valores. A função **row_to_json** transforma linhas em JSON:"
   ],
   "metadata": {
    "collapsed": false,
    "pycharm": {
     "name": "#%% md\n"
    }
   }
  },
  {
   "cell_type": "code",
   "execution_count": 26,
   "outputs": [
    {
     "data": {
      "text/plain": "                                         row_to_json\n0  {'customer_id': 1, 'title': None, 'first_name'...",
      "text/html": "<div>\n<style scoped>\n    .dataframe tbody tr th:only-of-type {\n        vertical-align: middle;\n    }\n\n    .dataframe tbody tr th {\n        vertical-align: top;\n    }\n\n    .dataframe thead th {\n        text-align: right;\n    }\n</style>\n<table border=\"1\" class=\"dataframe\">\n  <thead>\n    <tr style=\"text-align: right;\">\n      <th></th>\n      <th>row_to_json</th>\n    </tr>\n  </thead>\n  <tbody>\n    <tr>\n      <th>0</th>\n      <td>{'customer_id': 1, 'title': None, 'first_name'...</td>\n    </tr>\n  </tbody>\n</table>\n</div>"
     },
     "execution_count": 26,
     "metadata": {},
     "output_type": "execute_result"
    }
   ],
   "source": [
    "sql = \"\"\"\n",
    "      SELECT row_to_json(c)\n",
    "      FROM customers c\n",
    "      Limit 1;\n",
    "\t  \"\"\"\n",
    "pd.read_sql_query(con=conn, sql=sql)"
   ],
   "metadata": {
    "collapsed": false,
    "pycharm": {
     "name": "#%%\n"
    }
   }
  },
  {
   "cell_type": "markdown",
   "source": [
    "Isso é um pouco difícil de ler, mas podemos adicionar o sinalizador **pretty_bool** à função **row_to_json** para gerar uma versão legível:"
   ],
   "metadata": {
    "collapsed": false,
    "pycharm": {
     "name": "#%% md\n"
    }
   }
  },
  {
   "cell_type": "code",
   "execution_count": 27,
   "outputs": [
    {
     "data": {
      "text/plain": "                                         row_to_json\n0  {'customer_id': 1, 'title': None, 'first_name'...",
      "text/html": "<div>\n<style scoped>\n    .dataframe tbody tr th:only-of-type {\n        vertical-align: middle;\n    }\n\n    .dataframe tbody tr th {\n        vertical-align: top;\n    }\n\n    .dataframe thead th {\n        text-align: right;\n    }\n</style>\n<table border=\"1\" class=\"dataframe\">\n  <thead>\n    <tr style=\"text-align: right;\">\n      <th></th>\n      <th>row_to_json</th>\n    </tr>\n  </thead>\n  <tbody>\n    <tr>\n      <th>0</th>\n      <td>{'customer_id': 1, 'title': None, 'first_name'...</td>\n    </tr>\n  </tbody>\n</table>\n</div>"
     },
     "execution_count": 27,
     "metadata": {},
     "output_type": "execute_result"
    }
   ],
   "source": [
    "sql = \"\"\"\n",
    "      SELECT row_to_json(c, TRUE)\n",
    "      FROM customers c\n",
    "      Limit 1;\n",
    "\t  \"\"\"\n",
    "pd.read_sql_query(con=conn, sql=sql)"
   ],
   "metadata": {
    "collapsed": false,
    "pycharm": {
     "name": "#%%\n"
    }
   }
  },
  {
   "cell_type": "markdown",
   "source": [
    "Como você pode ver, uma vez que reformatamos o JSON, ele apresenta uma representação de texto simples e legível de nossa linha. A estrutura JSON contém chaves e valores. Neste exemplo, as chaves são simplesmente os nomes das colunas e os valores vêm dos valores das linhas. Os valores JSON podem ser valores numéricos (inteiros ou flutuantes), valores booleanos (**true** ou **false**), valores de texto (entre aspas duplas) ou **null**.\n",
    "\n",
    "JSON também pode incluir estruturas de dados aninhadas. Por exemplo, podemos pegar um cenário hipotético em que também queremos incluir produtos comprados na tabela:\n",
    "`{`\n",
    "`\"customer_id\":1,`\n",
    "`\"example_purchased_products\":[\"Lemon\", \"Bat Limited Edition\"]`\n",
    "`}`\n",
    "\n",
    "Ou podemos levar este exemplo um passo adiante:"
   ],
   "metadata": {
    "collapsed": false,
    "pycharm": {
     "name": "#%% md\n"
    }
   }
  },
  {
   "cell_type": "code",
   "execution_count": 28,
   "outputs": [
    {
     "data": {
      "text/plain": "{'customer_id': 7,\n 'sales': [{'product_id': 7,\n   'sales_amount': 599.99,\n   'sales_transaction_date': '2019-04-25T04:00:30'},\n  {'product_id': 1,\n   'sales_amount': 399.99,\n   'sales_transaction_date': '2011-08-08T08:55:56'},\n  {'product_id': 6,\n   'sales_amount': 65500,\n   'sales_transaction_date': '2016-09-04T12:43:12'}]}"
     },
     "execution_count": 28,
     "metadata": {},
     "output_type": "execute_result"
    }
   ],
   "source": [
    "\n",
    "{\n",
    "    \"customer_id\": 7,\n",
    "    \"sales\": [\n",
    "        {\n",
    "            \"product_id\": 7,\n",
    "            \"sales_amount\": 599.99,\n",
    "            \"sales_transaction_date\": \"2019-04-25T04:00:30\"\n",
    "        },\n",
    "        {\n",
    "            \"product_id\": 1,\n",
    "            \"sales_amount\": 399.99,\n",
    "            \"sales_transaction_date\": \"2011-08-08T08:55:56\"\n",
    "        },\n",
    "        {\n",
    "            \"product_id\": 6,\n",
    "            \"sales_amount\": 65500,\n",
    "            \"sales_transaction_date\": \"2016-09-04T12:43:12\"\n",
    "        }\n",
    "    ],\n",
    "}"
   ],
   "metadata": {
    "collapsed": false,
    "pycharm": {
     "name": "#%%\n"
    }
   }
  },
  {
   "cell_type": "markdown",
   "source": [
    "Neste exemplo, temos um objeto JSON com duas chaves: **customer_id** e **sales**. Como você pode ver, a chave de **sales** aponta para uma matriz JSON de valores, mas cada valor é outro objeto JSON que representa a venda. Objetos JSON que existem em um objeto JSON são chamados de JSON aninhado. Nesse caso, representamos todas as transações de vendas de um cliente usando uma matriz aninhada que contém objetos JSON aninhados para cada venda.\n",
    "\n",
    "Embora o JSON seja um formato universal para armazenar dados, ele é ineficiente, porque tudo é armazenado como uma grande string de texto. Para recuperar um valor associado a uma chave, você precisa primeiro analisar o texto, e isso tem um custo computacional relativamente alto associado a ele. Se você tiver apenas alguns objetos JSON, essa sobrecarga de desempenho pode não ser grande coisa; no entanto, pode se tornar um fardo se, por exemplo, você estiver tentando selecionar o objeto JSON com **\"customer_id\"**: 7 de milhões de outros objetos JSON em seu banco de dados."
   ],
   "metadata": {
    "collapsed": false,
    "pycharm": {
     "name": "#%% md\n"
    }
   }
  },
  {
   "cell_type": "markdown",
   "source": [
    "### JSONB: JSON pré-analisado\n",
    "Embora um campo JSON de texto precise ser analisado sempre que for referenciado, um valor JSONB é pré-analisado e os dados são armazenados em um formato binário decomposto. Isso requer que a entrada inicial seja analisada antecipadamente e o benefício é que há uma melhoria significativa no desempenho ao consultar as chaves ou valores neste campo. Isso ocorre porque as chaves e os valores não precisam ser analisados – eles já foram extraídos e armazenados em um formato binário acessível.\n",
    "> ##### Observação\n",
    "> O JSONB difere do JSON de algumas outras maneiras também. Primeiro, você não pode ter mais de uma chave com o mesmo nome. Em segundo lugar, a ordem das chaves não é preservada. Terceiro, detalhes semanticamente insignificantes, como espaços em branco, não são preservados."
   ],
   "metadata": {
    "collapsed": false,
    "pycharm": {
     "name": "#%% md\n"
    }
   }
  },
  {
   "cell_type": "markdown",
   "source": [
    "### Acessando dados de um campo JSON ou JSONB\n",
    "As chaves JSON podem ser usadas para acessar o valor associado usando o operador ->. Aqui está um exemplo:"
   ],
   "metadata": {
    "collapsed": false,
    "pycharm": {
     "name": "#%% md\n"
    }
   }
  },
  {
   "cell_type": "code",
   "execution_count": 3,
   "outputs": [
    {
     "data": {
      "text/plain": "   data\n0     2",
      "text/html": "<div>\n<style scoped>\n    .dataframe tbody tr th:only-of-type {\n        vertical-align: middle;\n    }\n\n    .dataframe tbody tr th {\n        vertical-align: top;\n    }\n\n    .dataframe thead th {\n        text-align: right;\n    }\n</style>\n<table border=\"1\" class=\"dataframe\">\n  <thead>\n    <tr style=\"text-align: right;\">\n      <th></th>\n      <th>data</th>\n    </tr>\n  </thead>\n  <tbody>\n    <tr>\n      <th>0</th>\n      <td>2</td>\n    </tr>\n  </tbody>\n</table>\n</div>"
     },
     "execution_count": 3,
     "metadata": {},
     "output_type": "execute_result"
    }
   ],
   "source": [
    "sql = \"\"\"\n",
    "      SELECT\n",
    "        '{\n",
    "            \"a\": 1,\n",
    "            \"b\": 2,\n",
    "            \"c\": 3\n",
    "            }'::JSON -> 'b' AS data;\n",
    "\t  \"\"\"\n",
    "pd.read_sql_query(con=conn, sql=sql)"
   ],
   "metadata": {
    "collapsed": false,
    "pycharm": {
     "name": "#%%\n"
    }
   }
  },
  {
   "cell_type": "markdown",
   "source": [
    "Neste exemplo, tínhamos um valor JSON de três chaves e estamos tentando acessar o valor da chave **b**. A saída é uma saída única: **2**. Isso ocorre porque a operação **-> 'b'** obtém o valor da chave b do JSON, **{\"a\": 1, \"b\": 2, \"c\": 3}**.\n",
    "\n",
    "O Postgres também permite que operações mais complexas acessem JSON aninhado usando o operador **#>**. Tome o seguinte exemplo:"
   ],
   "metadata": {
    "collapsed": false,
    "pycharm": {
     "name": "#%% md\n"
    }
   }
  },
  {
   "cell_type": "code",
   "execution_count": 4,
   "outputs": [
    {
     "data": {
      "text/plain": "   data\n0     6",
      "text/html": "<div>\n<style scoped>\n    .dataframe tbody tr th:only-of-type {\n        vertical-align: middle;\n    }\n\n    .dataframe tbody tr th {\n        vertical-align: top;\n    }\n\n    .dataframe thead th {\n        text-align: right;\n    }\n</style>\n<table border=\"1\" class=\"dataframe\">\n  <thead>\n    <tr style=\"text-align: right;\">\n      <th></th>\n      <th>data</th>\n    </tr>\n  </thead>\n  <tbody>\n    <tr>\n      <th>0</th>\n      <td>6</td>\n    </tr>\n  </tbody>\n</table>\n</div>"
     },
     "execution_count": 4,
     "metadata": {},
     "output_type": "execute_result"
    }
   ],
   "source": [
    "sql = \"\"\"\n",
    "      SELECT\n",
    "            '{\n",
    "                \"a\": 1,\n",
    "                \"b\": [\n",
    "                    {\"d\": 4},\n",
    "                    {\"d\": 6},\n",
    "                    {\"d\": 4}\n",
    "            ],\n",
    "                \"c\": 3\n",
    "            }'::JSON #> ARRAY['b', '1', 'd'] AS data;\n",
    "\t  \"\"\"\n",
    "pd.read_sql_query(con=conn, sql=sql)"
   ],
   "metadata": {
    "collapsed": false,
    "pycharm": {
     "name": "#%%\n"
    }
   }
  },
  {
   "cell_type": "markdown",
   "source": [
    "No lado direito do operador **#>**, um array de texto define o caminho para acessar o valor desejado. Nesse caso, selecionamos o valor **'b'**, que é uma lista de objetos JSON aninhados. Em seguida, selecionamos o elemento na lista denotado por **'1'**, que é o segundo elemento porque os índices do array começam em 0. Finalmente, selecionamos o valor associado à chave 'd' – e a saída é **6**.\n",
    "\n",
    "Essas funções funcionam com campos JSON ou JSONB (lembre-se de que serão executadas muito mais rapidamente em campos JSONB). JSONB, no entanto, também permite funcionalidades adicionais. Por exemplo, digamos que você queira filtrar linhas com base em um par chave-valor. Você pode usar o operador **@>**, que verifica se o objeto JSONB à esquerda contém o valor da chave à direita. Aqui está um exemplo:"
   ],
   "metadata": {
    "collapsed": false,
    "pycharm": {
     "name": "#%% md\n"
    }
   }
  },
  {
   "cell_type": "code",
   "execution_count": 5,
   "outputs": [
    {
     "data": {
      "text/plain": "                                       customer_json\n0  {'email': 'ihughillj@nationalgeographic.com', ...",
      "text/html": "<div>\n<style scoped>\n    .dataframe tbody tr th:only-of-type {\n        vertical-align: middle;\n    }\n\n    .dataframe tbody tr th {\n        vertical-align: top;\n    }\n\n    .dataframe thead th {\n        text-align: right;\n    }\n</style>\n<table border=\"1\" class=\"dataframe\">\n  <thead>\n    <tr style=\"text-align: right;\">\n      <th></th>\n      <th>customer_json</th>\n    </tr>\n  </thead>\n  <tbody>\n    <tr>\n      <th>0</th>\n      <td>{'email': 'ihughillj@nationalgeographic.com', ...</td>\n    </tr>\n  </tbody>\n</table>\n</div>"
     },
     "execution_count": 5,
     "metadata": {},
     "output_type": "execute_result"
    }
   ],
   "source": [
    "sql = \"\"\"\n",
    "      SELECT *\n",
    "      FROM customer_sales\n",
    "      WHERE customer_json @> '{\"customer_id\":20}'::JSONB;\n",
    "\t  \"\"\"\n",
    "pd.read_sql_query(con=conn, sql=sql)"
   ],
   "metadata": {
    "collapsed": false,
    "pycharm": {
     "name": "#%%\n"
    }
   }
  },
  {
   "cell_type": "markdown",
   "source": [
    "Com JSONB, também podemos deixar nossa saída bonita usando a função **jsonb_pretty**:"
   ],
   "metadata": {
    "collapsed": false,
    "pycharm": {
     "name": "#%% md\n"
    }
   }
  },
  {
   "cell_type": "code",
   "execution_count": 6,
   "outputs": [
    {
     "data": {
      "text/plain": "                                        jsonb_pretty\n0  {\\n    \"email\": \"ihughillj@nationalgeographic....",
      "text/html": "<div>\n<style scoped>\n    .dataframe tbody tr th:only-of-type {\n        vertical-align: middle;\n    }\n\n    .dataframe tbody tr th {\n        vertical-align: top;\n    }\n\n    .dataframe thead th {\n        text-align: right;\n    }\n</style>\n<table border=\"1\" class=\"dataframe\">\n  <thead>\n    <tr style=\"text-align: right;\">\n      <th></th>\n      <th>jsonb_pretty</th>\n    </tr>\n  </thead>\n  <tbody>\n    <tr>\n      <th>0</th>\n      <td>{\\n    \"email\": \"ihughillj@nationalgeographic....</td>\n    </tr>\n  </tbody>\n</table>\n</div>"
     },
     "execution_count": 6,
     "metadata": {},
     "output_type": "execute_result"
    }
   ],
   "source": [
    "sql = \"\"\"\n",
    "      SELECT JSONB_PRETTY(customer_json)\n",
    "      FROM customer_sales\n",
    "      WHERE customer_json @> '{\"customer_id\":20}'::JSONB;\n",
    "\t  \"\"\"\n",
    "pd.read_sql_query(con=conn, sql=sql)"
   ],
   "metadata": {
    "collapsed": false,
    "pycharm": {
     "name": "#%%\n"
    }
   }
  },
  {
   "cell_type": "markdown",
   "source": [
    "Também podemos selecionar apenas as chaves do campo JSONB e desagrupá-las em várias linhas usando a função **JSONB_OBJECT_KEYS**. Usando esta função, também podemos extrair o valor associado a cada chave do campo JSONB original usando o operador **->**. Aqui está um exemplo:"
   ],
   "metadata": {
    "collapsed": false,
    "pycharm": {
     "name": "#%% md\n"
    }
   }
  },
  {
   "cell_type": "code",
   "execution_count": 7,
   "outputs": [
    {
     "data": {
      "text/plain": "          keys                            values\n0        email  ihughillj@nationalgeographic.com\n1        phone                              None\n2        sales                                []\n3    last_name                           Hughill\n4   date_added               2012-08-08T00:00:00\n5   first_name                              Itch\n6  customer_id                                20",
      "text/html": "<div>\n<style scoped>\n    .dataframe tbody tr th:only-of-type {\n        vertical-align: middle;\n    }\n\n    .dataframe tbody tr th {\n        vertical-align: top;\n    }\n\n    .dataframe thead th {\n        text-align: right;\n    }\n</style>\n<table border=\"1\" class=\"dataframe\">\n  <thead>\n    <tr style=\"text-align: right;\">\n      <th></th>\n      <th>keys</th>\n      <th>values</th>\n    </tr>\n  </thead>\n  <tbody>\n    <tr>\n      <th>0</th>\n      <td>email</td>\n      <td>ihughillj@nationalgeographic.com</td>\n    </tr>\n    <tr>\n      <th>1</th>\n      <td>phone</td>\n      <td>None</td>\n    </tr>\n    <tr>\n      <th>2</th>\n      <td>sales</td>\n      <td>[]</td>\n    </tr>\n    <tr>\n      <th>3</th>\n      <td>last_name</td>\n      <td>Hughill</td>\n    </tr>\n    <tr>\n      <th>4</th>\n      <td>date_added</td>\n      <td>2012-08-08T00:00:00</td>\n    </tr>\n    <tr>\n      <th>5</th>\n      <td>first_name</td>\n      <td>Itch</td>\n    </tr>\n    <tr>\n      <th>6</th>\n      <td>customer_id</td>\n      <td>20</td>\n    </tr>\n  </tbody>\n</table>\n</div>"
     },
     "execution_count": 7,
     "metadata": {},
     "output_type": "execute_result"
    }
   ],
   "source": [
    "sql = \"\"\"\n",
    "      SELECT\n",
    "        JSONB_OBJECT_KEYS(customer_json) AS keys,\n",
    "        customer_json -> JSONB_OBJECT_KEYS(customer_json) AS values\n",
    "\t  FROM customer_sales\n",
    "\t  WHERE customer_json @> '{\"customer_id\":20}'::JSONB;\n",
    "\t  \"\"\"\n",
    "pd.read_sql_query(con=conn, sql=sql)"
   ],
   "metadata": {
    "collapsed": false,
    "pycharm": {
     "name": "#%%\n"
    }
   }
  },
  {
   "cell_type": "markdown",
   "source": [
    "### Criando e modificando dados em um campo JSONB\n",
    "Você também pode adicionar e remover elementos do JSONB. Por exemplo, para adicionar um novo par de valores-chave, **\"c\": 2**, você pode fazer o seguinte:"
   ],
   "metadata": {
    "collapsed": false,
    "pycharm": {
     "name": "#%% md\n"
    }
   }
  },
  {
   "cell_type": "code",
   "execution_count": 9,
   "outputs": [
    {
     "data": {
      "text/plain": "                   jsonb_insert\n0  {'a': 1, 'b': 'foo', 'c': 2}",
      "text/html": "<div>\n<style scoped>\n    .dataframe tbody tr th:only-of-type {\n        vertical-align: middle;\n    }\n\n    .dataframe tbody tr th {\n        vertical-align: top;\n    }\n\n    .dataframe thead th {\n        text-align: right;\n    }\n</style>\n<table border=\"1\" class=\"dataframe\">\n  <thead>\n    <tr style=\"text-align: right;\">\n      <th></th>\n      <th>jsonb_insert</th>\n    </tr>\n  </thead>\n  <tbody>\n    <tr>\n      <th>0</th>\n      <td>{'a': 1, 'b': 'foo', 'c': 2}</td>\n    </tr>\n  </tbody>\n</table>\n</div>"
     },
     "execution_count": 9,
     "metadata": {},
     "output_type": "execute_result"
    }
   ],
   "source": [
    "sql = \"\"\"\n",
    "      SELECT JSONB_INSERT(\n",
    "            '{\"a\":1,\n",
    "              \"b\":\"foo\"}',\n",
    "             ARRAY['c'],\n",
    "             '2');\n",
    "\t  \"\"\"\n",
    "pd.read_sql_query(con=conn, sql=sql)"
   ],
   "metadata": {
    "collapsed": false,
    "pycharm": {
     "name": "#%%\n"
    }
   }
  },
  {
   "cell_type": "markdown",
   "source": [
    "Se você quisesse inserir valores em um objeto JSON aninhado, também poderia fazer isso:"
   ],
   "metadata": {
    "collapsed": false,
    "pycharm": {
     "name": "#%% md\n"
    }
   }
  },
  {
   "cell_type": "code",
   "execution_count": 11,
   "outputs": [
    {
     "data": {
      "text/plain": "                                  jsonb_insert\n0  {'a': 1, 'b': 'foo', 'c': [1, 10, 2, 3, 4]}",
      "text/html": "<div>\n<style scoped>\n    .dataframe tbody tr th:only-of-type {\n        vertical-align: middle;\n    }\n\n    .dataframe tbody tr th {\n        vertical-align: top;\n    }\n\n    .dataframe thead th {\n        text-align: right;\n    }\n</style>\n<table border=\"1\" class=\"dataframe\">\n  <thead>\n    <tr style=\"text-align: right;\">\n      <th></th>\n      <th>jsonb_insert</th>\n    </tr>\n  </thead>\n  <tbody>\n    <tr>\n      <th>0</th>\n      <td>{'a': 1, 'b': 'foo', 'c': [1, 10, 2, 3, 4]}</td>\n    </tr>\n  </tbody>\n</table>\n</div>"
     },
     "execution_count": 11,
     "metadata": {},
     "output_type": "execute_result"
    }
   ],
   "source": [
    "sql = \"\"\"\n",
    "      SELECT JSONB_INSERT(\n",
    "            '{\"a\":1,\n",
    "            \"b\":\"foo\",\n",
    "            \"c\":[1, 2, 3, 4]}',\n",
    "            ARRAY['c', '1'],\n",
    "            '10');\n",
    "\t  \"\"\"\n",
    "pd.read_sql_query(con=conn, sql=sql)"
   ],
   "metadata": {
    "collapsed": false,
    "pycharm": {
     "name": "#%%\n"
    }
   }
  },
  {
   "cell_type": "markdown",
   "source": [
    "Neste exemplo, **ARRAY['c', '1']** representa o caminho onde o novo valor deve ser inserido. Nesse caso, ele primeiro pega a chave **'c'** e o valor da matriz correspondente e, em seguida, insere o valor **('10')** na posição **'1'**.\n",
    "\n",
    "Para remover uma chave, você pode simplesmente subtrair a chave que deseja remover. Aqui está um exemplo:"
   ],
   "metadata": {
    "collapsed": false,
    "pycharm": {
     "name": "#%% md\n"
    }
   }
  },
  {
   "cell_type": "code",
   "execution_count": 13,
   "outputs": [
    {
     "data": {
      "text/plain": "     column\n0  {'a': 1}",
      "text/html": "<div>\n<style scoped>\n    .dataframe tbody tr th:only-of-type {\n        vertical-align: middle;\n    }\n\n    .dataframe tbody tr th {\n        vertical-align: top;\n    }\n\n    .dataframe thead th {\n        text-align: right;\n    }\n</style>\n<table border=\"1\" class=\"dataframe\">\n  <thead>\n    <tr style=\"text-align: right;\">\n      <th></th>\n      <th>column</th>\n    </tr>\n  </thead>\n  <tbody>\n    <tr>\n      <th>0</th>\n      <td>{'a': 1}</td>\n    </tr>\n  </tbody>\n</table>\n</div>"
     },
     "execution_count": 13,
     "metadata": {},
     "output_type": "execute_result"
    }
   ],
   "source": [
    "sql = \"\"\"\n",
    "      SELECT '{\"a\": 1, \"b\": 2}'::JSONB - 'b' AS COLUMN;\n",
    "\t  \"\"\"\n",
    "pd.read_sql_query(con=conn, sql=sql)"
   ],
   "metadata": {
    "collapsed": false,
    "pycharm": {
     "name": "#%%\n"
    }
   }
  },
  {
   "cell_type": "markdown",
   "source": [
    "Neste caso, temos um objeto JSON com duas chaves: **a** e **b**. Quando subtraímos **b**, ficamos apenas com a chave a e seu valor associado."
   ],
   "metadata": {
    "collapsed": false,
    "pycharm": {
     "name": "#%% md\n"
    }
   }
  },
  {
   "cell_type": "markdown",
   "source": [
    "## Análise de texto usando Postgres\n",
    "Além de realizar análises usando estruturas de dados complexas no Postgres, também podemos usar os dados não numéricos disponíveis para nós. Muitas vezes, o texto contém informações valiosas – você pode imaginar um vendedor fazendo anotações sobre clientes em potencial: \"Interação muito promissora, o cliente está querendo fazer uma compra amanhã\" contém dados valiosos, assim como esta nota: \"O cliente não está interessado. mais precisam do produto.\" Embora este texto possa ser valioso para alguém ler manualmente, também pode ser valioso na análise. Palavras-chave nessas declarações, como \"promissor\", \"comprar\", \"amanhã\", \"desinteressado\" e \"não\" podem ser extraídas usando as técnicas certas para tentar identificar os principais clientes em potencial de maneira automatizada. Qualquer bloco de texto pode ter palavras-chave que podem ser extraídas para descobrir tendências, por exemplo, em avaliações de clientes, comunicações por e-mail ou notas de vendas. Em muitas circunstâncias, os dados de texto podem ser os dados mais relevantes disponíveis e precisamos usá-los para criar insights significativos.\n",
    "\n",
    "Neste módulo, veremos como podemos usar algumas funcionalidades do Postgres para extrair palavras-chave que nos ajudarão a identificar tendências. Também aproveitaremos os recursos de pesquisa de texto no Postgres para permitir uma pesquisa rápida.\n",
    "### Texto de tokenização\n",
    "Embora grandes blocos de texto (frases, parágrafos e assim por diante) possam fornecer informações úteis para transmitir a um leitor humano, existem poucas soluções analíticas que podem extrair insights de texto não processado. Em quase todos os casos, é útil analisar o texto em palavras individuais. Muitas vezes, o texto é dividido em tokens componentes, onde cada token é uma sequência de caracteres que são agrupados para formar uma unidade semântica. Normalmente, cada token é simplesmente uma palavra na frase, embora em certos casos (como a palavra \"can't\"), seu mecanismo de análise pode analisar dois tokens: \"can\" e \"t\".\n",
    "> ##### Observação\n",
    "> Mesmo as técnicas de ponta de Processamento de Linguagem Natural (NLP) geralmente envolvem tokenização antes que o texto possa ser processado. A PNL pode ser útil para executar análises que requerem uma compreensão mais profunda do texto.\n",
    "\n",
    "Palavras e tokens são úteis porque podem ser combinados em documentos em seus dados. Isso permite que você tire conclusões de alto nível no nível agregado. Por exemplo, se tivermos um conjunto de dados contendo notas de vendas e analisarmos o token \"interessado\", podemos supor que as notas de vendas contendo \"interessado\" estejam associadas a clientes com maior probabilidade de fazer uma compra.\n",
    "\n",
    "O Postgres tem uma funcionalidade que facilita bastante a tokenização. Podemos começar usando a função **STRING_TO_ARRAY**, que divide uma string em um array usando um delimitador, por exemplo, um espaço:\n",
    "SELECT STRING_TO_ARRAY('Danny e Matt são amigos.', ' ');"
   ],
   "metadata": {
    "collapsed": false,
    "pycharm": {
     "name": "#%% md\n"
    }
   }
  },
  {
   "cell_type": "code",
   "execution_count": 14,
   "outputs": [
    {
     "data": {
      "text/plain": "                     string_to_array\n0  [Danny, and, Matt, are, friends.]",
      "text/html": "<div>\n<style scoped>\n    .dataframe tbody tr th:only-of-type {\n        vertical-align: middle;\n    }\n\n    .dataframe tbody tr th {\n        vertical-align: top;\n    }\n\n    .dataframe thead th {\n        text-align: right;\n    }\n</style>\n<table border=\"1\" class=\"dataframe\">\n  <thead>\n    <tr style=\"text-align: right;\">\n      <th></th>\n      <th>string_to_array</th>\n    </tr>\n  </thead>\n  <tbody>\n    <tr>\n      <th>0</th>\n      <td>[Danny, and, Matt, are, friends.]</td>\n    </tr>\n  </tbody>\n</table>\n</div>"
     },
     "execution_count": 14,
     "metadata": {},
     "output_type": "execute_result"
    }
   ],
   "source": [
    "sql = \"\"\"\n",
    "      SELECT STRING_TO_ARRAY('Danny and Matt are friends.', ' ');\n",
    "\t  \"\"\"\n",
    "pd.read_sql_query(con=conn, sql=sql)"
   ],
   "metadata": {
    "collapsed": false,
    "pycharm": {
     "name": "#%%\n"
    }
   }
  },
  {
   "cell_type": "markdown",
   "source": [
    "Neste exemplo, a frase **Danny and Matt are friends.** é dividido no caractere de espaço.\n",
    "\n",
    "Neste exemplo, temos pontuação, que pode ser melhor removida. Podemos fazer isso facilmente usando a função **REGEXP_REPLACE**. Esta função aceita quatro argumentos: o texto que você deseja modificar, o padrão de texto que deseja substituir, o texto que deve substituí-lo e quaisquer sinalizadores adicionais (mais comumente, você adicionará o sinalizador **'g'**, especificando que a substituição deve acontecer globalmente, ou quantas vezes o padrão for encontrado). Podemos remover o ponto usando um padrão que corresponda à pontuação definida na string **\\!@#$%^&*()-=_+,.<>/?|[]** e substitui-lo por espaço:\n"
   ],
   "metadata": {
    "collapsed": false,
    "pycharm": {
     "name": "#%% md\n"
    }
   }
  },
  {
   "cell_type": "code",
   "execution_count": 15,
   "outputs": [
    {
     "data": {
      "text/plain": "                regexp_replace\n0  Danny and Matt are friends ",
      "text/html": "<div>\n<style scoped>\n    .dataframe tbody tr th:only-of-type {\n        vertical-align: middle;\n    }\n\n    .dataframe tbody tr th {\n        vertical-align: top;\n    }\n\n    .dataframe thead th {\n        text-align: right;\n    }\n</style>\n<table border=\"1\" class=\"dataframe\">\n  <thead>\n    <tr style=\"text-align: right;\">\n      <th></th>\n      <th>regexp_replace</th>\n    </tr>\n  </thead>\n  <tbody>\n    <tr>\n      <th>0</th>\n      <td>Danny and Matt are friends</td>\n    </tr>\n  </tbody>\n</table>\n</div>"
     },
     "execution_count": 15,
     "metadata": {},
     "output_type": "execute_result"
    }
   ],
   "source": [
    "sql = \"\"\"\n",
    "      SELECT REGEXP_REPLACE('Danny and Matt are friends.', '[!,.?-]', ' ', 'g');\n",
    "\t  \"\"\"\n",
    "pd.read_sql_query(con=conn, sql=sql)"
   ],
   "metadata": {
    "collapsed": false,
    "pycharm": {
     "name": "#%%\n"
    }
   }
  },
  {
   "cell_type": "markdown",
   "source": [
    "A pontuação foi removida.\n",
    "\n",
    "O Postgres também inclui a funcionalidade de lematização (**Steamming**), que é útil para identificar a raiz do token. Por exemplo, os tokens \"quick\" e \"quickly\" ou \"run\" e \"running\" não são tão diferentes em termos de significado e contêm o mesmo radical. A função **ts_lexize** pode nos ajudar a padronizar nosso texto retornando o radical da palavra, por exemplo:\n",
    "\n"
   ],
   "metadata": {
    "collapsed": false,
    "pycharm": {
     "name": "#%% md\n"
    }
   }
  },
  {
   "cell_type": "code",
   "execution_count": 16,
   "outputs": [
    {
     "data": {
      "text/plain": "  ts_lexize\n0     [run]",
      "text/html": "<div>\n<style scoped>\n    .dataframe tbody tr th:only-of-type {\n        vertical-align: middle;\n    }\n\n    .dataframe tbody tr th {\n        vertical-align: top;\n    }\n\n    .dataframe thead th {\n        text-align: right;\n    }\n</style>\n<table border=\"1\" class=\"dataframe\">\n  <thead>\n    <tr style=\"text-align: right;\">\n      <th></th>\n      <th>ts_lexize</th>\n    </tr>\n  </thead>\n  <tbody>\n    <tr>\n      <th>0</th>\n      <td>[run]</td>\n    </tr>\n  </tbody>\n</table>\n</div>"
     },
     "execution_count": 16,
     "metadata": {},
     "output_type": "execute_result"
    }
   ],
   "source": [
    "sql = \"\"\"\n",
    "      SELECT TS_LEXIZE('english_stem', 'running');\n",
    "\t  \"\"\"\n",
    "pd.read_sql_query(con=conn, sql=sql)"
   ],
   "metadata": {
    "collapsed": false,
    "pycharm": {
     "name": "#%%\n"
    }
   }
  },
  {
   "cell_type": "markdown",
   "source": [
    "Podemos usar essas técnicas para identificar tokens no texto, como veremos no exercício a seguir.\n",
    "\n",
    "### Exercício 25: Executando Análise de Texto\n",
    "Neste exercício, queremos identificar quantitativamente palavras-chave que correspondem a classificações acima da média ou abaixo da média usando análise de texto. Em nosso banco de dados ZoomZoom, temos acesso a alguns comentários de pesquisas de clientes, juntamente com classificações sobre a probabilidade de o cliente indicar seus amigos ao ZoomZoom. Essas palavras-chave nos permitirão identificar os principais pontos fortes e fracos a serem considerados pela equipe executiva no futuro.\n",
    "Siga estas etapas para concluir o exercício:\n",
    "1. Vamos começar vendo quais dados temos:"
   ],
   "metadata": {
    "collapsed": false,
    "pycharm": {
     "name": "#%% md\n"
    }
   }
  },
  {
   "cell_type": "code",
   "execution_count": 17,
   "outputs": [
    {
     "data": {
      "text/plain": "   rating                                           feedback\n0       9  I highly recommend the lemon scooter. It's so ...\n1      10  I really enjoyed the sale - I was able to get ...\n2       4  Overall, the experience was ok. I don't think ...\n3       9  The model epsilon has been a fantastic ride - ...\n4       9  I've been riding the scooter around town. It's...",
      "text/html": "<div>\n<style scoped>\n    .dataframe tbody tr th:only-of-type {\n        vertical-align: middle;\n    }\n\n    .dataframe tbody tr th {\n        vertical-align: top;\n    }\n\n    .dataframe thead th {\n        text-align: right;\n    }\n</style>\n<table border=\"1\" class=\"dataframe\">\n  <thead>\n    <tr style=\"text-align: right;\">\n      <th></th>\n      <th>rating</th>\n      <th>feedback</th>\n    </tr>\n  </thead>\n  <tbody>\n    <tr>\n      <th>0</th>\n      <td>9</td>\n      <td>I highly recommend the lemon scooter. It's so ...</td>\n    </tr>\n    <tr>\n      <th>1</th>\n      <td>10</td>\n      <td>I really enjoyed the sale - I was able to get ...</td>\n    </tr>\n    <tr>\n      <th>2</th>\n      <td>4</td>\n      <td>Overall, the experience was ok. I don't think ...</td>\n    </tr>\n    <tr>\n      <th>3</th>\n      <td>9</td>\n      <td>The model epsilon has been a fantastic ride - ...</td>\n    </tr>\n    <tr>\n      <th>4</th>\n      <td>9</td>\n      <td>I've been riding the scooter around town. It's...</td>\n    </tr>\n  </tbody>\n</table>\n</div>"
     },
     "execution_count": 17,
     "metadata": {},
     "output_type": "execute_result"
    }
   ],
   "source": [
    "sql = \"\"\"\n",
    "      SELECT *\n",
    "      FROM customer_survey\n",
    "      LIMIT 5;\n",
    "\t  \"\"\"\n",
    "pd.read_sql_query(con=conn, sql=sql)"
   ],
   "metadata": {
    "collapsed": false,
    "pycharm": {
     "name": "#%%\n"
    }
   }
  },
  {
   "cell_type": "markdown",
   "source": [
    "Podemos ver que temos acesso a uma classificação numérica entre 1 e 10, e feedback em formato de texto.\n",
    "2. Para analisar o texto, precisamos analisá-lo em palavras individuais e suas classificações associadas. Podemos fazer isso usando algumas transformações de array:"
   ],
   "metadata": {
    "collapsed": false,
    "pycharm": {
     "name": "#%% md\n"
    }
   }
  },
  {
   "cell_type": "code",
   "execution_count": 18,
   "outputs": [
    {
     "data": {
      "text/plain": "        word  rating\n0          I       9\n1     highly       9\n2  recommend       9\n3        the       9\n4      lemon       9\n5   scooter.       9\n6       It's       9\n7         so       9\n8       fast       9\n9          I      10",
      "text/html": "<div>\n<style scoped>\n    .dataframe tbody tr th:only-of-type {\n        vertical-align: middle;\n    }\n\n    .dataframe tbody tr th {\n        vertical-align: top;\n    }\n\n    .dataframe thead th {\n        text-align: right;\n    }\n</style>\n<table border=\"1\" class=\"dataframe\">\n  <thead>\n    <tr style=\"text-align: right;\">\n      <th></th>\n      <th>word</th>\n      <th>rating</th>\n    </tr>\n  </thead>\n  <tbody>\n    <tr>\n      <th>0</th>\n      <td>I</td>\n      <td>9</td>\n    </tr>\n    <tr>\n      <th>1</th>\n      <td>highly</td>\n      <td>9</td>\n    </tr>\n    <tr>\n      <th>2</th>\n      <td>recommend</td>\n      <td>9</td>\n    </tr>\n    <tr>\n      <th>3</th>\n      <td>the</td>\n      <td>9</td>\n    </tr>\n    <tr>\n      <th>4</th>\n      <td>lemon</td>\n      <td>9</td>\n    </tr>\n    <tr>\n      <th>5</th>\n      <td>scooter.</td>\n      <td>9</td>\n    </tr>\n    <tr>\n      <th>6</th>\n      <td>It's</td>\n      <td>9</td>\n    </tr>\n    <tr>\n      <th>7</th>\n      <td>so</td>\n      <td>9</td>\n    </tr>\n    <tr>\n      <th>8</th>\n      <td>fast</td>\n      <td>9</td>\n    </tr>\n    <tr>\n      <th>9</th>\n      <td>I</td>\n      <td>10</td>\n    </tr>\n  </tbody>\n</table>\n</div>"
     },
     "execution_count": 18,
     "metadata": {},
     "output_type": "execute_result"
    }
   ],
   "source": [
    "sql = \"\"\"\n",
    "      SELECT UNNEST(STRING_TO_ARRAY(feedback, ' ')) AS word, rating\n",
    "      FROM customer_survey\n",
    "      LIMIT 10;\n",
    "\t  \"\"\"\n",
    "pd.read_sql_query(con=conn, sql=sql)"
   ],
   "metadata": {
    "collapsed": false,
    "pycharm": {
     "name": "#%%\n"
    }
   }
  }
 ],
 "metadata": {
  "kernelspec": {
   "display_name": "Python 3",
   "language": "python",
   "name": "python3"
  },
  "language_info": {
   "codemirror_mode": {
    "name": "ipython",
    "version": 2
   },
   "file_extension": ".py",
   "mimetype": "text/x-python",
   "name": "python",
   "nbconvert_exporter": "python",
   "pygments_lexer": "ipython2",
   "version": "2.7.6"
  }
 },
 "nbformat": 4,
 "nbformat_minor": 0
}