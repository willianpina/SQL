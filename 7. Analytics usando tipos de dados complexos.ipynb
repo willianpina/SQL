{
 "cells": [
  {
   "cell_type": "markdown",
   "source": [
    "# Analytics usando tipos de dados complexos\n",
    "<p><img src = https://thumbs.dreamstime.com/b/cores-em-ascens%C3%A3o-superf%C3%ADcie-tridimensional-colorida-de-indiv%C3%ADduos-com-dados-complexos-arco-%C3%ADris-como-malha-arame-preto-ou-241163870.jpg width=500></p>"
   ],
   "metadata": {
    "collapsed": false,
    "pycharm": {
     "name": "#%% md\n"
    }
   }
  },
  {
   "cell_type": "markdown",
   "source": [
    "## Introdução\n",
    "No módulo anterior, vimos como podemos importar e exportar dados para outras ferramentas analíticas para aproveitar as ferramentas analíticas fora do nosso banco de dados. Muitas vezes é mais fácil analisar números, mas no mundo real, os dados são frequentemente encontrados em outros formatos: palavras, locais, datas e, às vezes, estruturas de dados complexas. Neste módulo, veremos esses outros formatos e veremos como podemos usar esses dados na nossa análise.\n",
    "\n",
    "Primeiro, veremos dois tipos de coluna comumente encontrados: colunas de data e hora (**datetime**) e colunas de **latitude** e **longitude**. Esses tipos de dados nos darão uma compreensão fundamental de como entender nossos dados de uma perspectiva temporal e geoespacial. Em seguida, veremos tipos de dados complexos, como **arrays** e **JSON**, e aprenderemos como extrair pontos de dados desses tipos de dados complexos. Essas estruturas de dados são frequentemente usadas para dados alternativos ou dados em nível de log, como logs de sites. Por fim, veremos como podemos extrair significado do texto em nosso banco de dados e usar dados de texto para extrair **insights**.\n",
    "Ao final do módulo, você terá ampliado seus recursos de análise para que possa aproveitar praticamente qualquer tipo de dado disponível para você.\n",
    "## Tipos de dados de data e hora para análise\n",
    "Estamos todos familiarizados com datas e horários, mas não pensamos frequentemente em como essas medidas quantitativas são representadas. Sim, eles são representados por números, mas não por um único número. Em vez disso, eles são medidos com um conjunto de números, um para o ano, um para o mês, um para o dia do mês, um para a hora, um para o minuto e assim por diante.\n",
    "\n",
    "O que podemos não perceber, porém, é que esta é uma representação complexa, composta por vários componentes diferentes. Por exemplo, saber o minuto atual sem saber a hora atual é inútil. Além disso, existem maneiras complexas de interagir com datas e horas, por exemplo, diferentes pontos no tempo podem ser subtraídos um do outro. Além disso, a hora atual pode ser representada de forma diferente dependendo de onde você está no mundo.\n",
    "\n",
    "Como resultado desses meandros, precisamos ter um cuidado especial ao trabalhar com esse tipo de dados. Na verdade, o *Postgres*, como a maioria dos bancos de dados, oferece tipos de dados especiais que podem representar esses tipos de valores. Começaremos examinando o tipo de data (**date**).\n",
    "\n",
    "### Começando com o tipo de data\n",
    "As datas podem ser facilmente representadas usando strings, por exemplo, \"1 de janeiro de 2000\", que representa claramente uma data específica, mas as datas são uma forma especial de texto, pois representam um valor quantitativo e sequencial. Você pode adicionar uma semana à data atual, por exemplo. Uma determinada data tem muitas propriedades diferentes que você pode querer usar em sua análise, por exemplo, o ano ou o dia da semana que a data representa. Trabalhar com datas também é necessário para a análise de séries temporais, que é um dos tipos mais comuns de análise que surgem.\n",
    "\n",
    "O padrão SQL inclui um tipo de dados **DATE** e o *PostgreSQL* oferece ótimas funcionalidades para interagir com esse tipo de dados. Primeiro, podemos configurar nosso banco de dados para exibir datas no formato com o qual estamos mais familiarizados. O PostgreSQL usa o parâmetro **DateStyle** para definir essas configurações. Para ver suas configurações atuais, você pode usar o seguinte comando:\n",
    "\n",
    "`SHOW DateStyle;`\n",
    "\n",
    "A seguir está a saída da consulta anterior:"
   ],
   "metadata": {
    "collapsed": false,
    "pycharm": {
     "name": "#%% md\n"
    }
   }
  },
  {
   "cell_type": "code",
   "execution_count": 33,
   "outputs": [
    {
     "name": "stdout",
     "output_type": "stream",
     "text": [
      "('ISO, DMY',)\n"
     ]
    }
   ],
   "source": [
    "# Importando o SqlAlchemy\n",
    "from sqlalchemy import create_engine\n",
    "\n",
    "cnxn_string = (\"postgresql+psycopg2://{username}:{pswd}\"\n",
    "               \"@{host}:{port}/{database}\")\n",
    "\n",
    "# Instanciando a Função create_engine com a string de conexão\n",
    "engine = create_engine(cnxn_string.format(\n",
    "    username=\"postgres\",\n",
    "    pswd=\"admin\",\n",
    "    host=\"127.0.0.1\",\n",
    "    port=5432,\n",
    "    database=\"sqlda\"))\n",
    "\n",
    "# Criando a Consulta ou o comando SQL a ser executado\n",
    "sql = \"\"\"\n",
    "\t\tSHOW DateStyle\n",
    "      \"\"\"\n",
    "\n",
    "# Executando o Comando SQL\n",
    "rs = engine.execute(sql)\n",
    "\n",
    "for row in rs:\n",
    "    print(row)"
   ],
   "metadata": {
    "collapsed": false,
    "pycharm": {
     "name": "#%%\n"
    }
   }
  },
  {
   "cell_type": "markdown",
   "source": [
    "O primeiro parâmetro especifica o formato de saída da **International Organization Standardization (ISO)**, que exibe a data como Ano, Mês, Dia e o segundo parâmetro especifica a ordem (por exemplo, Mês, Dia, Ano versus Dia, Mês, Ano) para entrada ou resultado. Você pode configurar a saída para seu banco de dados usando o seguinte comando:\n",
    "\n",
    "`SET DateStyle='ISO, MDY';`\n",
    "\n",
    "Por exemplo, se você quiser defini-lo para o formato europeu de Dia, Mês, Ano, defina DateStyle como 'GERMAN, DMY'. Para este módulo, usaremos o formato de exibição ISO (Ano, Mês, Dia) e o formato de entrada Mês, Dia, Ano. Você pode configurar esse formato usando o comando anterior."
   ],
   "metadata": {
    "collapsed": false,
    "pycharm": {
     "name": "#%% md\n"
    }
   }
  },
  {
   "cell_type": "code",
   "execution_count": 34,
   "outputs": [
    {
     "ename": "ResourceClosedError",
     "evalue": "This result object does not return rows. It has been closed automatically.",
     "output_type": "error",
     "traceback": [
      "\u001B[1;31m---------------------------------------------------------------------------\u001B[0m",
      "\u001B[1;31mResourceClosedError\u001B[0m                       Traceback (most recent call last)",
      "Input \u001B[1;32mIn [34]\u001B[0m, in \u001B[0;36m<cell line: 8>\u001B[1;34m()\u001B[0m\n\u001B[0;32m      5\u001B[0m \u001B[38;5;66;03m# Executando o Comando SQL\u001B[39;00m\n\u001B[0;32m      6\u001B[0m rs \u001B[38;5;241m=\u001B[39m engine\u001B[38;5;241m.\u001B[39mexecute(sql)\n\u001B[1;32m----> 8\u001B[0m \u001B[38;5;28;01mfor\u001B[39;00m row \u001B[38;5;129;01min\u001B[39;00m rs:\n\u001B[0;32m      9\u001B[0m \t\u001B[38;5;28mprint\u001B[39m(row)\n",
      "File \u001B[1;32m~\\anaconda3\\lib\\site-packages\\sqlalchemy\\engine\\result.py:964\u001B[0m, in \u001B[0;36mResult.__iter__\u001B[1;34m(self)\u001B[0m\n\u001B[0;32m    963\u001B[0m \u001B[38;5;28;01mdef\u001B[39;00m \u001B[38;5;21m__iter__\u001B[39m(\u001B[38;5;28mself\u001B[39m):\n\u001B[1;32m--> 964\u001B[0m     \u001B[38;5;28;01mreturn\u001B[39;00m \u001B[38;5;28;43mself\u001B[39;49m\u001B[38;5;241;43m.\u001B[39;49m\u001B[43m_iter_impl\u001B[49m\u001B[43m(\u001B[49m\u001B[43m)\u001B[49m\n",
      "File \u001B[1;32m~\\anaconda3\\lib\\site-packages\\sqlalchemy\\engine\\result.py:637\u001B[0m, in \u001B[0;36mResultInternal._iter_impl\u001B[1;34m(self)\u001B[0m\n\u001B[0;32m    636\u001B[0m \u001B[38;5;28;01mdef\u001B[39;00m \u001B[38;5;21m_iter_impl\u001B[39m(\u001B[38;5;28mself\u001B[39m):\n\u001B[1;32m--> 637\u001B[0m     \u001B[38;5;28;01mreturn\u001B[39;00m \u001B[38;5;28;43mself\u001B[39;49m\u001B[38;5;241;43m.\u001B[39;49m\u001B[43m_iterator_getter\u001B[49m(\u001B[38;5;28mself\u001B[39m)\n",
      "File \u001B[1;32m~\\anaconda3\\lib\\site-packages\\sqlalchemy\\util\\langhelpers.py:1180\u001B[0m, in \u001B[0;36mHasMemoized.memoized_attribute.__get__\u001B[1;34m(self, obj, cls)\u001B[0m\n\u001B[0;32m   1178\u001B[0m \u001B[38;5;28;01mif\u001B[39;00m obj \u001B[38;5;129;01mis\u001B[39;00m \u001B[38;5;28;01mNone\u001B[39;00m:\n\u001B[0;32m   1179\u001B[0m     \u001B[38;5;28;01mreturn\u001B[39;00m \u001B[38;5;28mself\u001B[39m\n\u001B[1;32m-> 1180\u001B[0m obj\u001B[38;5;241m.\u001B[39m\u001B[38;5;18m__dict__\u001B[39m[\u001B[38;5;28mself\u001B[39m\u001B[38;5;241m.\u001B[39m\u001B[38;5;18m__name__\u001B[39m] \u001B[38;5;241m=\u001B[39m result \u001B[38;5;241m=\u001B[39m \u001B[38;5;28;43mself\u001B[39;49m\u001B[38;5;241;43m.\u001B[39;49m\u001B[43mfget\u001B[49m\u001B[43m(\u001B[49m\u001B[43mobj\u001B[49m\u001B[43m)\u001B[49m\n\u001B[0;32m   1181\u001B[0m obj\u001B[38;5;241m.\u001B[39m_memoized_keys \u001B[38;5;241m|\u001B[39m\u001B[38;5;241m=\u001B[39m {\u001B[38;5;28mself\u001B[39m\u001B[38;5;241m.\u001B[39m\u001B[38;5;18m__name__\u001B[39m}\n\u001B[0;32m   1182\u001B[0m \u001B[38;5;28;01mreturn\u001B[39;00m result\n",
      "File \u001B[1;32m~\\anaconda3\\lib\\site-packages\\sqlalchemy\\engine\\result.py:361\u001B[0m, in \u001B[0;36mResultInternal._iterator_getter\u001B[1;34m(self)\u001B[0m\n\u001B[0;32m    358\u001B[0m \u001B[38;5;129m@HasMemoized\u001B[39m\u001B[38;5;241m.\u001B[39mmemoized_attribute\n\u001B[0;32m    359\u001B[0m \u001B[38;5;28;01mdef\u001B[39;00m \u001B[38;5;21m_iterator_getter\u001B[39m(\u001B[38;5;28mself\u001B[39m):\n\u001B[1;32m--> 361\u001B[0m     make_row \u001B[38;5;241m=\u001B[39m \u001B[38;5;28;43mself\u001B[39;49m\u001B[38;5;241;43m.\u001B[39;49m\u001B[43m_row_getter\u001B[49m\n\u001B[0;32m    363\u001B[0m     post_creational_filter \u001B[38;5;241m=\u001B[39m \u001B[38;5;28mself\u001B[39m\u001B[38;5;241m.\u001B[39m_post_creational_filter\n\u001B[0;32m    365\u001B[0m     \u001B[38;5;28;01mif\u001B[39;00m \u001B[38;5;28mself\u001B[39m\u001B[38;5;241m.\u001B[39m_unique_filter_state:\n",
      "File \u001B[1;32m~\\anaconda3\\lib\\site-packages\\sqlalchemy\\util\\langhelpers.py:1180\u001B[0m, in \u001B[0;36mHasMemoized.memoized_attribute.__get__\u001B[1;34m(self, obj, cls)\u001B[0m\n\u001B[0;32m   1178\u001B[0m \u001B[38;5;28;01mif\u001B[39;00m obj \u001B[38;5;129;01mis\u001B[39;00m \u001B[38;5;28;01mNone\u001B[39;00m:\n\u001B[0;32m   1179\u001B[0m     \u001B[38;5;28;01mreturn\u001B[39;00m \u001B[38;5;28mself\u001B[39m\n\u001B[1;32m-> 1180\u001B[0m obj\u001B[38;5;241m.\u001B[39m\u001B[38;5;18m__dict__\u001B[39m[\u001B[38;5;28mself\u001B[39m\u001B[38;5;241m.\u001B[39m\u001B[38;5;18m__name__\u001B[39m] \u001B[38;5;241m=\u001B[39m result \u001B[38;5;241m=\u001B[39m \u001B[38;5;28;43mself\u001B[39;49m\u001B[38;5;241;43m.\u001B[39;49m\u001B[43mfget\u001B[49m\u001B[43m(\u001B[49m\u001B[43mobj\u001B[49m\u001B[43m)\u001B[49m\n\u001B[0;32m   1181\u001B[0m obj\u001B[38;5;241m.\u001B[39m_memoized_keys \u001B[38;5;241m|\u001B[39m\u001B[38;5;241m=\u001B[39m {\u001B[38;5;28mself\u001B[39m\u001B[38;5;241m.\u001B[39m\u001B[38;5;18m__name__\u001B[39m}\n\u001B[0;32m   1182\u001B[0m \u001B[38;5;28;01mreturn\u001B[39;00m result\n",
      "File \u001B[1;32m~\\anaconda3\\lib\\site-packages\\sqlalchemy\\engine\\result.py:320\u001B[0m, in \u001B[0;36mResultInternal._row_getter\u001B[1;34m(self)\u001B[0m\n\u001B[0;32m    317\u001B[0m key_style \u001B[38;5;241m=\u001B[39m real_result\u001B[38;5;241m.\u001B[39m_process_row\u001B[38;5;241m.\u001B[39m_default_key_style\n\u001B[0;32m    318\u001B[0m metadata \u001B[38;5;241m=\u001B[39m \u001B[38;5;28mself\u001B[39m\u001B[38;5;241m.\u001B[39m_metadata\n\u001B[1;32m--> 320\u001B[0m keymap \u001B[38;5;241m=\u001B[39m \u001B[43mmetadata\u001B[49m\u001B[38;5;241;43m.\u001B[39;49m\u001B[43m_keymap\u001B[49m\n\u001B[0;32m    321\u001B[0m processors \u001B[38;5;241m=\u001B[39m metadata\u001B[38;5;241m.\u001B[39m_processors\n\u001B[0;32m    322\u001B[0m tf \u001B[38;5;241m=\u001B[39m metadata\u001B[38;5;241m.\u001B[39m_tuplefilter\n",
      "File \u001B[1;32m~\\anaconda3\\lib\\site-packages\\sqlalchemy\\engine\\cursor.py:1208\u001B[0m, in \u001B[0;36m_NoResultMetaData._keymap\u001B[1;34m(self)\u001B[0m\n\u001B[0;32m   1206\u001B[0m \u001B[38;5;129m@property\u001B[39m\n\u001B[0;32m   1207\u001B[0m \u001B[38;5;28;01mdef\u001B[39;00m \u001B[38;5;21m_keymap\u001B[39m(\u001B[38;5;28mself\u001B[39m):\n\u001B[1;32m-> 1208\u001B[0m     \u001B[38;5;28;43mself\u001B[39;49m\u001B[38;5;241;43m.\u001B[39;49m\u001B[43m_we_dont_return_rows\u001B[49m\u001B[43m(\u001B[49m\u001B[43m)\u001B[49m\n",
      "File \u001B[1;32m~\\anaconda3\\lib\\site-packages\\sqlalchemy\\engine\\cursor.py:1189\u001B[0m, in \u001B[0;36m_NoResultMetaData._we_dont_return_rows\u001B[1;34m(self, err)\u001B[0m\n\u001B[0;32m   1188\u001B[0m \u001B[38;5;28;01mdef\u001B[39;00m \u001B[38;5;21m_we_dont_return_rows\u001B[39m(\u001B[38;5;28mself\u001B[39m, err\u001B[38;5;241m=\u001B[39m\u001B[38;5;28;01mNone\u001B[39;00m):\n\u001B[1;32m-> 1189\u001B[0m     \u001B[43mutil\u001B[49m\u001B[38;5;241;43m.\u001B[39;49m\u001B[43mraise_\u001B[49m\u001B[43m(\u001B[49m\n\u001B[0;32m   1190\u001B[0m \u001B[43m        \u001B[49m\u001B[43mexc\u001B[49m\u001B[38;5;241;43m.\u001B[39;49m\u001B[43mResourceClosedError\u001B[49m\u001B[43m(\u001B[49m\n\u001B[0;32m   1191\u001B[0m \u001B[43m            \u001B[49m\u001B[38;5;124;43m\"\u001B[39;49m\u001B[38;5;124;43mThis result object does not return rows. \u001B[39;49m\u001B[38;5;124;43m\"\u001B[39;49m\n\u001B[0;32m   1192\u001B[0m \u001B[43m            \u001B[49m\u001B[38;5;124;43m\"\u001B[39;49m\u001B[38;5;124;43mIt has been closed automatically.\u001B[39;49m\u001B[38;5;124;43m\"\u001B[39;49m\n\u001B[0;32m   1193\u001B[0m \u001B[43m        \u001B[49m\u001B[43m)\u001B[49m\u001B[43m,\u001B[49m\n\u001B[0;32m   1194\u001B[0m \u001B[43m        \u001B[49m\u001B[43mreplace_context\u001B[49m\u001B[38;5;241;43m=\u001B[39;49m\u001B[43merr\u001B[49m\u001B[43m,\u001B[49m\n\u001B[0;32m   1195\u001B[0m \u001B[43m    \u001B[49m\u001B[43m)\u001B[49m\n",
      "File \u001B[1;32m~\\anaconda3\\lib\\site-packages\\sqlalchemy\\util\\compat.py:207\u001B[0m, in \u001B[0;36mraise_\u001B[1;34m(***failed resolving arguments***)\u001B[0m\n\u001B[0;32m    204\u001B[0m     exception\u001B[38;5;241m.\u001B[39m__cause__ \u001B[38;5;241m=\u001B[39m replace_context\n\u001B[0;32m    206\u001B[0m \u001B[38;5;28;01mtry\u001B[39;00m:\n\u001B[1;32m--> 207\u001B[0m     \u001B[38;5;28;01mraise\u001B[39;00m exception\n\u001B[0;32m    208\u001B[0m \u001B[38;5;28;01mfinally\u001B[39;00m:\n\u001B[0;32m    209\u001B[0m     \u001B[38;5;66;03m# credit to\u001B[39;00m\n\u001B[0;32m    210\u001B[0m     \u001B[38;5;66;03m# https://cosmicpercolator.com/2016/01/13/exception-leaks-in-python-2-and-3/\u001B[39;00m\n\u001B[0;32m    211\u001B[0m     \u001B[38;5;66;03m# as the __traceback__ object creates a cycle\u001B[39;00m\n\u001B[0;32m    212\u001B[0m     \u001B[38;5;28;01mdel\u001B[39;00m exception, replace_context, from_, with_traceback\n",
      "\u001B[1;31mResourceClosedError\u001B[0m: This result object does not return rows. It has been closed automatically."
     ]
    }
   ],
   "source": [
    "sql = \"\"\"\n",
    "\t  SET DateStyle='GERMAN, DMY';\n",
    "      \"\"\"\n",
    "\n",
    "# Executando o Comando SQL\n",
    "rs = engine.execute(sql)\n",
    "\n",
    "for row in rs:\n",
    "\tprint(row)"
   ],
   "metadata": {
    "collapsed": false,
    "pycharm": {
     "name": "#%%\n"
    }
   }
  },
  {
   "cell_type": "code",
   "execution_count": null,
   "outputs": [],
   "source": [],
   "metadata": {
    "collapsed": false,
    "pycharm": {
     "name": "#%%\n"
    }
   }
  }
 ],
 "metadata": {
  "kernelspec": {
   "display_name": "Python 3",
   "language": "python",
   "name": "python3"
  },
  "language_info": {
   "codemirror_mode": {
    "name": "ipython",
    "version": 2
   },
   "file_extension": ".py",
   "mimetype": "text/x-python",
   "name": "python",
   "nbconvert_exporter": "python",
   "pygments_lexer": "ipython2",
   "version": "2.7.6"
  }
 },
 "nbformat": 4,
 "nbformat_minor": 0
}