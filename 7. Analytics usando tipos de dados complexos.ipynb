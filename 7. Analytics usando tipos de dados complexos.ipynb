{
 "cells": [
  {
   "cell_type": "markdown",
   "source": [
    "# Analytics usando tipos de dados complexos\n",
    "<p><img src = https://thumbs.dreamstime.com/b/cores-em-ascens%C3%A3o-superf%C3%ADcie-tridimensional-colorida-de-indiv%C3%ADduos-com-dados-complexos-arco-%C3%ADris-como-malha-arame-preto-ou-241163870.jpg width=500></p>"
   ],
   "metadata": {
    "collapsed": false,
    "pycharm": {
     "name": "#%% md\n"
    }
   }
  },
  {
   "cell_type": "markdown",
   "source": [
    "## Introdução\n",
    "No módulo anterior, vimos como podemos importar e exportar dados para outras ferramentas analíticas para aproveitar as ferramentas analíticas fora do nosso banco de dados. Muitas vezes é mais fácil analisar números, mas no mundo real, os dados são frequentemente encontrados em outros formatos: palavras, locais, datas e, às vezes, estruturas de dados complexas. Neste módulo, veremos esses outros formatos e veremos como podemos usar esses dados na nossa análise.\n",
    "\n",
    "Primeiro, veremos dois tipos de coluna comumente encontrados: colunas de data e hora (**datetime**) e colunas de **latitude** e **longitude**. Esses tipos de dados nos darão uma compreensão fundamental de como entender nossos dados de uma perspectiva temporal e geoespacial. Em seguida, veremos tipos de dados complexos, como **arrays** e **JSON**, e aprenderemos como extrair pontos de dados desses tipos de dados complexos. Essas estruturas de dados são frequentemente usadas para dados alternativos ou dados em nível de log, como logs de sites. Por fim, veremos como podemos extrair significado do texto em nosso banco de dados e usar dados de texto para extrair **insights**.\n",
    "Ao final do módulo, você terá ampliado seus recursos de análise para que possa aproveitar praticamente qualquer tipo de dado disponível para você.\n",
    "## Tipos de dados de data e hora para análise\n",
    "Estamos todos familiarizados com datas e horários, mas não pensamos frequentemente em como essas medidas quantitativas são representadas. Sim, eles são representados por números, mas não por um único número. Em vez disso, eles são medidos com um conjunto de números, um para o ano, um para o mês, um para o dia do mês, um para a hora, um para o minuto e assim por diante.\n",
    "\n",
    "O que podemos não perceber, porém, é que esta é uma representação complexa, composta por vários componentes diferentes. Por exemplo, saber o minuto atual sem saber a hora atual é inútil. Além disso, existem maneiras complexas de interagir com datas e horas, por exemplo, diferentes pontos no tempo podem ser subtraídos um do outro. Além disso, a hora atual pode ser representada de forma diferente dependendo de onde você está no mundo.\n",
    "\n",
    "Como resultado desses meandros, precisamos ter um cuidado especial ao trabalhar com esse tipo de dados. Na verdade, o *Postgres*, como a maioria dos bancos de dados, oferece tipos de dados especiais que podem representar esses tipos de valores. Começaremos examinando o tipo de data (**date**).\n",
    "\n",
    "### Começando com o tipo de data\n",
    "As datas podem ser facilmente representadas usando strings, por exemplo, \"1 de janeiro de 2000\", que representa claramente uma data específica, mas as datas são uma forma especial de texto, pois representam um valor quantitativo e sequencial. Você pode adicionar uma semana à data atual, por exemplo. Uma determinada data tem muitas propriedades diferentes que você pode querer usar em sua análise, por exemplo, o ano ou o dia da semana que a data representa. Trabalhar com datas também é necessário para a análise de séries temporais, que é um dos tipos mais comuns de análise que surgem.\n",
    "\n",
    "O padrão SQL inclui um tipo de dados **DATE** e o *PostgreSQL* oferece ótimas funcionalidades para interagir com esse tipo de dados. Primeiro, podemos configurar nosso banco de dados para exibir datas no formato com o qual estamos mais familiarizados. O PostgreSQL usa o parâmetro **DateStyle** para definir essas configurações. Para ver suas configurações atuais, você pode usar o seguinte comando:\n",
    "\n",
    "`SHOW DateStyle;`\n",
    "\n",
    "A seguir está a saída da consulta anterior:"
   ],
   "metadata": {
    "collapsed": false,
    "pycharm": {
     "name": "#%% md\n"
    }
   }
  },
  {
   "cell_type": "code",
   "execution_count": 80,
   "outputs": [
    {
     "name": "stdout",
     "output_type": "stream",
     "text": [
      "('ISO, DMY',)\n"
     ]
    }
   ],
   "source": [
    "# Importando o SqlAlchemy\n",
    "import pandas as pd\n",
    "from sqlalchemy import create_engine\n",
    "\n",
    "cnxn_string = (\"postgresql+psycopg2://{username}:{pswd}\"\n",
    "               \"@{host}:{port}/{database}\")\n",
    "\n",
    "# Instanciando a Função create_engine com a string de conexão\n",
    "engine = create_engine(cnxn_string.format(\n",
    "    username=\"postgres\",\n",
    "    pswd=\"admin\",\n",
    "    host=\"127.0.0.1\",\n",
    "    port=5432,\n",
    "    database=\"sqlda\"))\n",
    "\n",
    "# Criando a Consulta ou o comando SQL a ser executado\n",
    "sql = \"\"\"\n",
    "\t\tSHOW DateStyle\n",
    "      \"\"\"\n",
    "# Conectando a Engine\n",
    "conn = engine.connect()\n",
    "\n",
    "# Executando o Comando SQL\n",
    "rs = conn.execute(sql)\n",
    "\n",
    "for row in rs:\n",
    "    print(row)"
   ],
   "metadata": {
    "collapsed": false,
    "pycharm": {
     "name": "#%%\n"
    }
   }
  },
  {
   "cell_type": "markdown",
   "source": [
    "O primeiro parâmetro especifica o formato de saída da **International Organization Standardization (ISO)**, que exibe a data como Ano, Mês, Dia e o segundo parâmetro especifica a ordem (por exemplo, Mês, Dia, Ano versus Dia, Mês, Ano) para entrada ou resultado. Você pode configurar a saída para seu banco de dados usando o seguinte comando:\n",
    "\n",
    "`SET DateStyle='ISO, MDY';`\n",
    "\n"
   ],
   "metadata": {
    "collapsed": false,
    "pycharm": {
     "name": "#%% md\n"
    }
   }
  },
  {
   "cell_type": "code",
   "execution_count": 87,
   "outputs": [
    {
     "name": "stdout",
     "output_type": "stream",
     "text": [
      "('ISO, MDY',)\n"
     ]
    }
   ],
   "source": [
    "sql = \"\"\"\n",
    "\t  SET DateStyle='ISO, MDY';\n",
    "      \"\"\"\n",
    "# Executando o Comando SQL\n",
    "conn.execute(sql)\n",
    "\n",
    "# Criando a Consulta ou o comando SQL a ser executado\n",
    "sql1 = \"\"\"\n",
    "\t\tSHOW DateStyle\n",
    "      \"\"\"\n",
    "\n",
    "# Executando o Comando SQL\n",
    "rs = conn.execute(sql1)\n",
    "\n",
    "for row in rs:\n",
    "    print(row)"
   ],
   "metadata": {
    "collapsed": false,
    "pycharm": {
     "name": "#%%\n"
    }
   }
  },
  {
   "cell_type": "markdown",
   "source": [
    "Por exemplo, se você quiser defini-lo para o formato europeu de Dia, Mês, Ano, defina DateStyle como 'GERMAN, DMY'. Para este módulo, usaremos o formato de exibição ISO (Ano, Mês, Dia) e o formato de entrada Mês, Dia, Ano. Você pode configurar esse formato usando o comando anterior."
   ],
   "metadata": {
    "collapsed": false,
    "pycharm": {
     "name": "#%% md\n"
    }
   }
  },
  {
   "cell_type": "code",
   "execution_count": 82,
   "outputs": [
    {
     "name": "stdout",
     "output_type": "stream",
     "text": [
      "('German, DMY',)\n"
     ]
    }
   ],
   "source": [
    "sql = \"\"\"\n",
    "\t  SET DateStyle='GERMAN, DMY';\n",
    "      \"\"\"\n",
    "# Executando o Comando SQL\n",
    "conn.execute(sql)\n",
    "\n",
    "# Criando a Consulta ou o comando SQL a ser executado\n",
    "sql1 = \"\"\"\n",
    "\t\tSHOW DateStyle\n",
    "      \"\"\"\n",
    "\n",
    "# Executando o Comando SQL\n",
    "rs = conn.execute(sql1)\n",
    "\n",
    "for row in rs:\n",
    "    print(row)"
   ],
   "metadata": {
    "collapsed": false,
    "pycharm": {
     "name": "#%%\n"
    }
   }
  },
  {
   "cell_type": "markdown",
   "source": [
    "Vamos verificar se funcionou com uma consulta no SQL:"
   ],
   "metadata": {
    "collapsed": false,
    "pycharm": {
     "name": "#%% md\n"
    }
   }
  },
  {
   "cell_type": "code",
   "execution_count": 88,
   "outputs": [
    {
     "name": "stdout",
     "output_type": "stream",
     "text": [
      "(datetime.date(1999, 1, 8),)\n"
     ]
    }
   ],
   "source": [
    "sql = \"\"\"\n",
    "       SELECT '1/8/1999'::DATE;\n",
    "\t  \"\"\"\n",
    "rs = conn.execute(sql)\n",
    "for row in rs:\n",
    "    print(row)"
   ],
   "metadata": {
    "collapsed": false,
    "pycharm": {
     "name": "#%%\n"
    }
   }
  },
  {
   "cell_type": "markdown",
   "source": [
    "Como podemos ver, quando inserimos uma string, '1/8/1999', usando o formato **Mês, Dia, Ano,** o *Postgres* entende que é 8 de janeiro de 1999 (e não 1º de agosto de 1999). Exibe a data usando o formato ISO especificado anteriormente, no formato AAAA-MM-DD.\n",
    "\n",
    "Da mesma forma, podemos usar os seguintes formatos com traços e pontos para separar os componentes de data:"
   ],
   "metadata": {
    "collapsed": false,
    "pycharm": {
     "name": "#%% md\n"
    }
   }
  },
  {
   "cell_type": "code",
   "execution_count": 89,
   "outputs": [
    {
     "name": "stdout",
     "output_type": "stream",
     "text": [
      "(datetime.date(1999, 1, 8),)\n"
     ]
    }
   ],
   "source": [
    "sql = \"\"\"\n",
    "      SELECT '1-8-1999'::DATE;\n",
    "\t  \"\"\"\n",
    "rs = conn.execute(sql)\n",
    "for row in rs:\n",
    "    print(row)"
   ],
   "metadata": {
    "collapsed": false,
    "pycharm": {
     "name": "#%%\n"
    }
   }
  },
  {
   "cell_type": "code",
   "execution_count": 90,
   "outputs": [
    {
     "name": "stdout",
     "output_type": "stream",
     "text": [
      "(datetime.date(1999, 1, 8),)\n"
     ]
    }
   ],
   "source": [
    "sql = \"\"\"\n",
    "      SELECT '1.8.1999'::DATE;\n",
    "\t  \"\"\"\n",
    "rs = conn.execute(sql)\n",
    "for row in rs:\n",
    "    print(row)"
   ],
   "metadata": {
    "collapsed": false,
    "pycharm": {
     "name": "#%%\n"
    }
   }
  },
  {
   "cell_type": "markdown",
   "source": [
    "Além de exibir datas que são inseridas como strings, podemos exibir a data atual de maneira muito simples usando as palavras-chave **current_date** no Postgres:"
   ],
   "metadata": {
    "collapsed": false,
    "pycharm": {
     "name": "#%% md\n"
    }
   }
  },
  {
   "cell_type": "code",
   "execution_count": 91,
   "outputs": [
    {
     "name": "stdout",
     "output_type": "stream",
     "text": [
      "(datetime.date(2022, 7, 11),)\n"
     ]
    }
   ],
   "source": [
    "sql = \"\"\"\n",
    "      SELECT current_date;\n",
    "\t  \"\"\"\n",
    "rs = conn.execute(sql)\n",
    "for row in rs:\n",
    "    print(row)"
   ],
   "metadata": {
    "collapsed": false,
    "pycharm": {
     "name": "#%%\n"
    }
   }
  },
  {
   "cell_type": "markdown",
   "source": [
    "Além do tipo de dados **DATE**, o padrão SQL oferece um tipo de dado **TIMESTAMP**. Um carimbo de data/hora representa uma data e uma hora, até um microssegundo.\n",
    "\n",
    "Podemos ver o timestamp atual usando a função **now()** e podemos especificar o nosso fuso horário usando **AT TIME ZONE 'UTC'**. Aqui está um exemplo da função **now()** com o fuso horário Eastern Standard especificado:"
   ],
   "metadata": {
    "collapsed": false,
    "pycharm": {
     "name": "#%% md\n"
    }
   }
  },
  {
   "cell_type": "code",
   "execution_count": 93,
   "outputs": [
    {
     "name": "stdout",
     "output_type": "stream",
     "text": [
      "(datetime.datetime(2022, 7, 11, 19, 43, 15, 464824),)\n"
     ]
    }
   ],
   "source": [
    "sql = \"\"\"\n",
    "      SELECT now() AT TIME ZONE 'EST';\n",
    "\t  \"\"\"\n",
    "rs = conn.execute(sql)\n",
    "for row in rs:\n",
    "    print(row)"
   ],
   "metadata": {
    "collapsed": false,
    "pycharm": {
     "name": "#%%\n"
    }
   }
  },
  {
   "cell_type": "markdown",
   "source": [
    "Também podemos usar o tipo de dados timestamp sem o fuso horário especificado. Você pode pegar o fuso horário atual com a função **now()**:"
   ],
   "metadata": {
    "collapsed": false,
    "pycharm": {
     "name": "#%% md\n"
    }
   }
  },
  {
   "cell_type": "code",
   "execution_count": 94,
   "outputs": [
    {
     "name": "stdout",
     "output_type": "stream",
     "text": [
      "(datetime.datetime(2022, 7, 11, 20, 43, 15, 464824, tzinfo=datetime.timezone(datetime.timedelta(days=-1, seconds=72000))),)\n"
     ]
    }
   ],
   "source": [
    "sql = \"\"\"\n",
    "      SELECT now();\n",
    "\t  \"\"\"\n",
    "rs = conn.execute(sql)\n",
    "for row in rs:\n",
    "    print(row)"
   ],
   "metadata": {
    "collapsed": false,
    "pycharm": {
     "name": "#%%\n"
    }
   }
  },
  {
   "cell_type": "markdown",
   "source": [
    "> #### Observação\n",
    "> Em geral, é recomendável usar um carimbo de data/hora com o fuso horário especificado. Se você não especificar o fuso horário, o valor do carimbo de data/hora pode ser questionável (por exemplo, o horário pode ser representado no fuso horário em que a empresa está localizada, no horário Universal Time Coordinated (UTC) ou no fuso horário do cliente ).\n",
    "\n",
    "Os tipos de dados date e timestamp são úteis não apenas porque exibem datas em um formato legível, mas também porque armazenam esses valores usando menos bytes do que a representação de string equivalente (um valor de tipo de data requer apenas 4 bytes, enquanto a representação de texto equivalente pode ser 8 bytes para uma representação de 8 caracteres, como **'20160101'**). Além disso, o *Postgres* fornece funcionalidades especiais para manipular e transformar datas, e isso é particularmente útil para análise de dados.\n",
    "\n",
    "### Transformando Tipos de Data\n",
    "Muitas vezes, queremos decompor nossas datas em suas partes componentes. Por exemplo, podemos estar interessados apenas no ano e no mês, mas não no dia, para a análise mensal de nossos dados. Para fazer isso, podemos usar **EXTRACT(component FROM data)**. Aqui está um exemplo:"
   ],
   "metadata": {
    "collapsed": false,
    "pycharm": {
     "name": "#%% md\n"
    }
   }
  },
  {
   "cell_type": "code",
   "execution_count": 98,
   "outputs": [
    {
     "data": {
      "text/plain": "  current_date    year  month   day\n0   2022-07-11  2022.0    7.0  11.0",
      "text/html": "<div>\n<style scoped>\n    .dataframe tbody tr th:only-of-type {\n        vertical-align: middle;\n    }\n\n    .dataframe tbody tr th {\n        vertical-align: top;\n    }\n\n    .dataframe thead th {\n        text-align: right;\n    }\n</style>\n<table border=\"1\" class=\"dataframe\">\n  <thead>\n    <tr style=\"text-align: right;\">\n      <th></th>\n      <th>current_date</th>\n      <th>year</th>\n      <th>month</th>\n      <th>day</th>\n    </tr>\n  </thead>\n  <tbody>\n    <tr>\n      <th>0</th>\n      <td>2022-07-11</td>\n      <td>2022.0</td>\n      <td>7.0</td>\n      <td>11.0</td>\n    </tr>\n  </tbody>\n</table>\n</div>"
     },
     "execution_count": 98,
     "metadata": {},
     "output_type": "execute_result"
    }
   ],
   "source": [
    "import pandas as pd\n",
    "\n",
    "sql = \"\"\"\n",
    "      SELECT current_date,\n",
    "        EXTRACT(year FROM current_date) AS year,\n",
    "        EXTRACT(month FROM current_date) AS month,\n",
    "        EXTRACT(day FROM current_date) AS day;\n",
    "\t  \"\"\"\n",
    "pd.read_sql_query(con=conn, sql=sql)"
   ],
   "metadata": {
    "collapsed": false,
    "pycharm": {
     "name": "#%%\n"
    }
   }
  },
  {
   "cell_type": "markdown",
   "source": [
    "Da mesma forma, podemos abreviar esses componentes como **y**, **mon** e **d**, e o *Postgres* entenderá o que queremos:"
   ],
   "metadata": {
    "collapsed": false,
    "pycharm": {
     "name": "#%% md\n"
    }
   }
  },
  {
   "cell_type": "code",
   "execution_count": 99,
   "outputs": [
    {
     "data": {
      "text/plain": "  current_date    year  month   day\n0   2022-07-11  2022.0    7.0  11.0",
      "text/html": "<div>\n<style scoped>\n    .dataframe tbody tr th:only-of-type {\n        vertical-align: middle;\n    }\n\n    .dataframe tbody tr th {\n        vertical-align: top;\n    }\n\n    .dataframe thead th {\n        text-align: right;\n    }\n</style>\n<table border=\"1\" class=\"dataframe\">\n  <thead>\n    <tr style=\"text-align: right;\">\n      <th></th>\n      <th>current_date</th>\n      <th>year</th>\n      <th>month</th>\n      <th>day</th>\n    </tr>\n  </thead>\n  <tbody>\n    <tr>\n      <th>0</th>\n      <td>2022-07-11</td>\n      <td>2022.0</td>\n      <td>7.0</td>\n      <td>11.0</td>\n    </tr>\n  </tbody>\n</table>\n</div>"
     },
     "execution_count": 99,
     "metadata": {},
     "output_type": "execute_result"
    }
   ],
   "source": [
    "sql = \"\"\"\n",
    "      SELECT current_date,\n",
    "            EXTRACT(y FROM current_date) AS year,\n",
    "            EXTRACT(mon FROM current_date) AS month,\n",
    "            EXTRACT(d FROM current_date) AS day;\n",
    "\t  \"\"\"\n",
    "pd.read_sql_query(con=conn, sql=sql)"
   ],
   "metadata": {
    "collapsed": false,
    "pycharm": {
     "name": "#%%\n"
    }
   }
  },
  {
   "cell_type": "markdown",
   "source": [
    "Além do ano, mês e dia, às vezes queremos componentes adicionais, como dia da semana, semana do ano ou trimestre. Você também pode extrair essas partes de data da seguinte forma:"
   ],
   "metadata": {
    "collapsed": false,
    "pycharm": {
     "name": "#%% md\n"
    }
   }
  },
  {
   "cell_type": "code",
   "execution_count": 100,
   "outputs": [
    {
     "data": {
      "text/plain": "  current_date  day_of_week  week_of_year  quarter\n0   2022-07-11          1.0          28.0      3.0",
      "text/html": "<div>\n<style scoped>\n    .dataframe tbody tr th:only-of-type {\n        vertical-align: middle;\n    }\n\n    .dataframe tbody tr th {\n        vertical-align: top;\n    }\n\n    .dataframe thead th {\n        text-align: right;\n    }\n</style>\n<table border=\"1\" class=\"dataframe\">\n  <thead>\n    <tr style=\"text-align: right;\">\n      <th></th>\n      <th>current_date</th>\n      <th>day_of_week</th>\n      <th>week_of_year</th>\n      <th>quarter</th>\n    </tr>\n  </thead>\n  <tbody>\n    <tr>\n      <th>0</th>\n      <td>2022-07-11</td>\n      <td>1.0</td>\n      <td>28.0</td>\n      <td>3.0</td>\n    </tr>\n  </tbody>\n</table>\n</div>"
     },
     "execution_count": 100,
     "metadata": {},
     "output_type": "execute_result"
    }
   ],
   "source": [
    "sql = \"\"\"\n",
    "      SELECT current_date,\n",
    "        EXTRACT(dow FROM current_date) AS day_of_week,\n",
    "        EXTRACT(week FROM current_date) AS week_of_year,\n",
    "        EXTRACT(quarter FROM current_date) AS quarter;\n",
    "\t  \"\"\"\n",
    "pd.read_sql_query(con=conn, sql=sql)"
   ],
   "metadata": {
    "collapsed": false,
    "pycharm": {
     "name": "#%%\n"
    }
   }
  },
  {
   "cell_type": "markdown",
   "source": [
    "Observe que **EXTRACT** sempre gera um número, portanto, neste caso, **day_of_week** começa em 0 (domingo) e vai até 6 (sábado). Em vez de **dow**, você pode usar **isodow**, que começa em 1 (segunda-feira) e vai até 7 (domingo).\n",
    "\n",
    "Além de extrair partes de uma data, podemos simplesmente truncar nossa data ou carimbo de data/hora. Por exemplo, podemos querer simplesmente truncar nossa data para o ano e mês. Podemos fazer isso usando a função **DATE_TRUNC()**:"
   ],
   "metadata": {
    "collapsed": false,
    "pycharm": {
     "name": "#%% md\n"
    }
   }
  },
  {
   "cell_type": "code",
   "execution_count": 101,
   "outputs": [
    {
     "data": {
      "text/plain": "                               now                date_trunc\n0 2022-07-12 00:43:15.464824+00:00 2022-07-01 04:00:00+00:00",
      "text/html": "<div>\n<style scoped>\n    .dataframe tbody tr th:only-of-type {\n        vertical-align: middle;\n    }\n\n    .dataframe tbody tr th {\n        vertical-align: top;\n    }\n\n    .dataframe thead th {\n        text-align: right;\n    }\n</style>\n<table border=\"1\" class=\"dataframe\">\n  <thead>\n    <tr style=\"text-align: right;\">\n      <th></th>\n      <th>now</th>\n      <th>date_trunc</th>\n    </tr>\n  </thead>\n  <tbody>\n    <tr>\n      <th>0</th>\n      <td>2022-07-12 00:43:15.464824+00:00</td>\n      <td>2022-07-01 04:00:00+00:00</td>\n    </tr>\n  </tbody>\n</table>\n</div>"
     },
     "execution_count": 101,
     "metadata": {},
     "output_type": "execute_result"
    }
   ],
   "source": [
    "sql = \"\"\"\n",
    "      SELECT NOW(), DATE_TRUNC('month', NOW());\n",
    "\t  \"\"\"\n",
    "pd.read_sql_query(con=conn, sql=sql)"
   ],
   "metadata": {
    "collapsed": false,
    "pycharm": {
     "name": "#%%\n"
    }
   }
  },
  {
   "cell_type": "markdown",
   "source": [
    "Observe que a função **DATE_TRUNC (...)** não arredonda o valor. Em vez disso, ele gera o maior valor arredondado menor ou igual ao valor de data inserido.\n",
    "> ##### Observação\n",
    "> A função **DATE_TRUNC(...)** é semelhante à função de *floor* em matemática, que gera o maior inteiro menor ou igual à entrada (por exemplo, 5.7 seria reduzido a 5)."
   ],
   "metadata": {
    "collapsed": false,
    "pycharm": {
     "name": "#%% md\n"
    }
   }
  },
  {
   "cell_type": "markdown",
   "source": [
    "A função **DATE_TRUNC (...)** é particularmente útil para instruções **GROUP BY**. Por exemplo, você pode usá-lo para agrupar as vendas por trimestre e obter o total de vendas trimestrais:"
   ],
   "metadata": {
    "collapsed": false,
    "pycharm": {
     "name": "#%% md\n"
    }
   }
  },
  {
   "cell_type": "code",
   "execution_count": 102,
   "outputs": [
    {
     "data": {
      "text/plain": "                    quarter  total_quarterly_sales\n0 2022-07-01 04:00:00+00:00           2.672534e+08",
      "text/html": "<div>\n<style scoped>\n    .dataframe tbody tr th:only-of-type {\n        vertical-align: middle;\n    }\n\n    .dataframe tbody tr th {\n        vertical-align: top;\n    }\n\n    .dataframe thead th {\n        text-align: right;\n    }\n</style>\n<table border=\"1\" class=\"dataframe\">\n  <thead>\n    <tr style=\"text-align: right;\">\n      <th></th>\n      <th>quarter</th>\n      <th>total_quarterly_sales</th>\n    </tr>\n  </thead>\n  <tbody>\n    <tr>\n      <th>0</th>\n      <td>2022-07-01 04:00:00+00:00</td>\n      <td>2.672534e+08</td>\n    </tr>\n  </tbody>\n</table>\n</div>"
     },
     "execution_count": 102,
     "metadata": {},
     "output_type": "execute_result"
    }
   ],
   "source": [
    "sql = \"\"\"\n",
    "      SELECT DATE_TRUNC('quarter', NOW()) AS quarter,\n",
    "            SUM(sales_amount) AS total_quarterly_sales\n",
    "      FROM sales\n",
    "      GROUP BY 1\n",
    "      ORDER BY 1 DESC;\n",
    "\t  \"\"\"\n",
    "pd.read_sql_query(con=conn, sql=sql)"
   ],
   "metadata": {
    "collapsed": false,
    "pycharm": {
     "name": "#%%\n"
    }
   }
  },
  {
   "cell_type": "markdown",
   "source": [
    "> ##### Observação\n",
    "> **DATE_TRUNC(...)** requer uma string representando o campo para o qual você deseja truncar, enquanto **EXTRACT(...)** aceita a representação de string (com aspas) ou o nome do campo (sem aspas).\n",
    "\n",
    "### Intervalos\n",
    "Além de representar datas, também podemos representar intervalos de tempo fixos usando o tipo de dados **INTERVAL**. Isso é útil se quisermos analisar quanto tempo demora algo, por exemplo, se quisermos saber quanto tempo um cliente leva para fazer uma compra.\n",
    "\n",
    "Aqui está um exemplo:"
   ],
   "metadata": {
    "collapsed": false,
    "pycharm": {
     "name": "#%% md\n"
    }
   }
  },
  {
   "cell_type": "code",
   "execution_count": 103,
   "outputs": [
    {
     "data": {
      "text/plain": "  interval\n0   5 days",
      "text/html": "<div>\n<style scoped>\n    .dataframe tbody tr th:only-of-type {\n        vertical-align: middle;\n    }\n\n    .dataframe tbody tr th {\n        vertical-align: top;\n    }\n\n    .dataframe thead th {\n        text-align: right;\n    }\n</style>\n<table border=\"1\" class=\"dataframe\">\n  <thead>\n    <tr style=\"text-align: right;\">\n      <th></th>\n      <th>interval</th>\n    </tr>\n  </thead>\n  <tbody>\n    <tr>\n      <th>0</th>\n      <td>5 days</td>\n    </tr>\n  </tbody>\n</table>\n</div>"
     },
     "execution_count": 103,
     "metadata": {},
     "output_type": "execute_result"
    }
   ],
   "source": [
    "sql = \"\"\"\n",
    "      SELECT INTERVAL '5 days';\n",
    "\t  \"\"\"\n",
    "pd.read_sql_query(con=conn, sql=sql)"
   ],
   "metadata": {
    "collapsed": false,
    "pycharm": {
     "name": "#%%\n"
    }
   }
  },
  {
   "cell_type": "markdown",
   "source": [
    "Os intervalos são úteis para subtrair *timestamps* de data/hora, por exemplo:"
   ],
   "metadata": {
    "collapsed": false,
    "pycharm": {
     "name": "#%% md\n"
    }
   }
  },
  {
   "cell_type": "code",
   "execution_count": 104,
   "outputs": [
    {
     "data": {
      "text/plain": "  days_in_feb\n0     29 days",
      "text/html": "<div>\n<style scoped>\n    .dataframe tbody tr th:only-of-type {\n        vertical-align: middle;\n    }\n\n    .dataframe tbody tr th {\n        vertical-align: top;\n    }\n\n    .dataframe thead th {\n        text-align: right;\n    }\n</style>\n<table border=\"1\" class=\"dataframe\">\n  <thead>\n    <tr style=\"text-align: right;\">\n      <th></th>\n      <th>days_in_feb</th>\n    </tr>\n  </thead>\n  <tbody>\n    <tr>\n      <th>0</th>\n      <td>29 days</td>\n    </tr>\n  </tbody>\n</table>\n</div>"
     },
     "execution_count": 104,
     "metadata": {},
     "output_type": "execute_result"
    }
   ],
   "source": [
    "sql = \"\"\"\n",
    "      SELECT TIMESTAMP '2016-03-01 00:00:00' - TIMESTAMP '2016-02-01 00:00:00'\n",
    "        AS days_in_feb;\n",
    "\t  \"\"\"\n",
    "pd.read_sql_query(con=conn, sql=sql)"
   ],
   "metadata": {
    "collapsed": false,
    "pycharm": {
     "name": "#%%\n"
    }
   }
  },
  {
   "cell_type": "markdown",
   "source": [
    "Ou, alternativamente, os intervalos podem ser usados para adicionar o número de dias a um *timestamps* de data/hora:"
   ],
   "metadata": {
    "collapsed": false,
    "pycharm": {
     "name": "#%% md\n"
    }
   }
  },
  {
   "cell_type": "code",
   "execution_count": 105,
   "outputs": [
    {
     "data": {
      "text/plain": "    new_date\n0 2016-03-08",
      "text/html": "<div>\n<style scoped>\n    .dataframe tbody tr th:only-of-type {\n        vertical-align: middle;\n    }\n\n    .dataframe tbody tr th {\n        vertical-align: top;\n    }\n\n    .dataframe thead th {\n        text-align: right;\n    }\n</style>\n<table border=\"1\" class=\"dataframe\">\n  <thead>\n    <tr style=\"text-align: right;\">\n      <th></th>\n      <th>new_date</th>\n    </tr>\n  </thead>\n  <tbody>\n    <tr>\n      <th>0</th>\n      <td>2016-03-08</td>\n    </tr>\n  </tbody>\n</table>\n</div>"
     },
     "execution_count": 105,
     "metadata": {},
     "output_type": "execute_result"
    }
   ],
   "source": [
    "sql = \"\"\"\n",
    "      SELECT TIMESTAMP '2016-03-01 00:00:00' + INTERVAL '7 days' AS new_date;\n",
    "\t  \"\"\"\n",
    "pd.read_sql_query(con=conn, sql=sql)"
   ],
   "metadata": {
    "collapsed": false,
    "pycharm": {
     "name": "#%%\n"
    }
   }
  },
  {
   "cell_type": "markdown",
   "source": [
    "Embora os intervalos ofereçam um método preciso para fazer aritmética de *timestamps* de data/hora, o formato **DATE** pode ser usado com números inteiros para obter um resultado semelhante. No exemplo a seguir, simplesmente adicionamos 7 (um inteiro) à data para calcular a nova data:"
   ],
   "metadata": {
    "collapsed": false,
    "pycharm": {
     "name": "#%% md\n"
    }
   }
  },
  {
   "cell_type": "code",
   "execution_count": 106,
   "outputs": [
    {
     "data": {
      "text/plain": "     new_date\n0  2016-03-08",
      "text/html": "<div>\n<style scoped>\n    .dataframe tbody tr th:only-of-type {\n        vertical-align: middle;\n    }\n\n    .dataframe tbody tr th {\n        vertical-align: top;\n    }\n\n    .dataframe thead th {\n        text-align: right;\n    }\n</style>\n<table border=\"1\" class=\"dataframe\">\n  <thead>\n    <tr style=\"text-align: right;\">\n      <th></th>\n      <th>new_date</th>\n    </tr>\n  </thead>\n  <tbody>\n    <tr>\n      <th>0</th>\n      <td>2016-03-08</td>\n    </tr>\n  </tbody>\n</table>\n</div>"
     },
     "execution_count": 106,
     "metadata": {},
     "output_type": "execute_result"
    }
   ],
   "source": [
    "sql = \"\"\"\n",
    "      SELECT DATE '2016-03-01' + 7 AS new_date;\n",
    "\t  \"\"\"\n",
    "pd.read_sql_query(con=conn, sql=sql)"
   ],
   "metadata": {
    "collapsed": false,
    "pycharm": {
     "name": "#%%\n"
    }
   }
  },
  {
   "cell_type": "markdown",
   "source": [
    "Da mesma forma, podemos subtrair duas datas e obter um resultado inteiro:"
   ],
   "metadata": {
    "collapsed": false,
    "pycharm": {
     "name": "#%% md\n"
    }
   }
  },
  {
   "cell_type": "code",
   "execution_count": 107,
   "outputs": [
    {
     "data": {
      "text/plain": "   days_in_feb\n0           29",
      "text/html": "<div>\n<style scoped>\n    .dataframe tbody tr th:only-of-type {\n        vertical-align: middle;\n    }\n\n    .dataframe tbody tr th {\n        vertical-align: top;\n    }\n\n    .dataframe thead th {\n        text-align: right;\n    }\n</style>\n<table border=\"1\" class=\"dataframe\">\n  <thead>\n    <tr style=\"text-align: right;\">\n      <th></th>\n      <th>days_in_feb</th>\n    </tr>\n  </thead>\n  <tbody>\n    <tr>\n      <th>0</th>\n      <td>29</td>\n    </tr>\n  </tbody>\n</table>\n</div>"
     },
     "execution_count": 107,
     "metadata": {},
     "output_type": "execute_result"
    }
   ],
   "source": [
    "sql = \"\"\"\n",
    "      SELECT DATE '2016-03-01' - DATE '2016-02-01' AS days_in_feb;\n",
    "\t  \"\"\"\n",
    "pd.read_sql_query(con=conn, sql=sql)"
   ],
   "metadata": {
    "collapsed": false,
    "pycharm": {
     "name": "#%%\n"
    }
   }
  },
  {
   "cell_type": "markdown",
   "source": [
    "Enquanto o tipo de dados de data oferece facilidade de uso, o *timestamp* com o tipo de dados de fuso horário oferece precisão. Se você precisar que seu campo de data/hora seja exatamente igual à hora em que a ação ocorreu, use o *timestamp* com o fuso horário. Caso contrário, você pode usar o campo de data."
   ],
   "metadata": {
    "collapsed": false,
    "pycharm": {
     "name": "#%% md\n"
    }
   }
  }
 ],
 "metadata": {
  "kernelspec": {
   "display_name": "Python 3",
   "language": "python",
   "name": "python3"
  },
  "language_info": {
   "codemirror_mode": {
    "name": "ipython",
    "version": 2
   },
   "file_extension": ".py",
   "mimetype": "text/x-python",
   "name": "python",
   "nbconvert_exporter": "python",
   "pygments_lexer": "ipython2",
   "version": "2.7.6"
  }
 },
 "nbformat": 4,
 "nbformat_minor": 0
}