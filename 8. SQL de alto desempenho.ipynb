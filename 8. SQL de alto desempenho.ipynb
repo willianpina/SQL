{
 "cells": [
  {
   "cell_type": "markdown",
   "source": [
    "# SQL de alto desempenho\n",
    "\n",
    "<p><img src=https://irp-cdn.multiscreensite.com/b4e20866/NoSQL.jpg width=500></p>\n",
    "\n",
    "## Introdução\n",
    "No módulo anterior, desenvolvemos as habilidades necessárias para analisar efetivamente os dados em um banco de dados SQL e, neste módulo, voltaremos nossa atenção para a eficiência dessa análise, investigando como podemos aumentar o desempenho de nossas consultas SQL.\n",
    "\n",
    "Eficiência e desempenho são componentes-chave da análise de dados, pois sem considerar esses fatores, restrições físicas, como tempo e poder de processamento, podem afetar significativamente o resultado de uma análise. Para elaborar essas limitações, podemos considerar dois cenários separados.\n",
    "\n",
    "Digamos que estamos realizando uma **análise post-hoc** (análise após o fato ou evento). Neste primeiro cenário, concluímos um estudo e coletamos um grande conjunto de dados de observações individuais de vários fatores ou características diferentes. Um exemplo é o descrito em nosso banco de dados de vendas de concessionárias – analisando os dados de vendas de cada cliente. Com o processo de coleta de dados, queremos analisar os dados em busca de padrões e **insights** conforme especificado por nossa declaração do problema. Se nosso conjunto de dados for suficientemente grande, poderemos encontrar problemas rapidamente se não otimizarmos as consultas primeiro; o problema mais comum seria simplesmente o tempo gasto para executar as consultas. Embora isso não pareça um problema significativo, tempos de processamento desnecessariamente longos podem causar:\n",
    "* Uma redução na profundidade da análise concluída. Como cada consulta leva muito tempo, a praticidade dos cronogramas do projeto pode limitar o número de consultas e, portanto, a profundidade e a complexidade da análise podem ser limitadas.\n",
    "* A limitação da seleção de dados para análise. Ao reduzir artificialmente o conjunto de dados usando subamostragem, podemos concluir a análise em um tempo razoável, mas teríamos que sacrificar o número de observações usadas. Isso pode, por sua vez, levar à inclusão acidental de vieses na análise.\n",
    "* A necessidade de usar muito mais recursos em paralelo para concluir a análise em um tempo razoável, aumentando assim o custo do projeto.\n",
    "\n",
    "Da mesma forma, outro problema potencial com consultas abaixo do ideal é um aumento na memória necessária do sistema e no poder de computação. Isso pode resultar em um dos dois cenários a seguir:\n",
    "* Prevenção da análise devido a recursos insuficientes\n",
    "* Um aumento significativo no custo do projeto para recrutar os recursos necessários\n",
    "\n",
    "Análises/consultas fazem parte de um serviço ou produto. Vamos pensar em um segundo cenário, em que a análise está sendo concluída como um componente de um serviço ou produto maior e, portanto, as consultas ao banco de dados podem precisar ser concluídas em tempo real, ou pelo menos em tempo quase real. Nesses casos, a otimização e a eficiência são fundamentais para o sucesso do produto.\n",
    "\n",
    "Um exemplo é um sistema de navegação GPS que incorpora o estado do tráfego conforme relatado por outros usuários. Para que tal sistema seja eficaz e forneça informações de navegação atualizadas, o banco de dados deve ser analisado a uma taxa que acompanhe a velocidade do carro e o andamento da viagem. Qualquer atraso na análise que impeça a atualização da navegação em resposta ao tráfego teria um impacto significativo na viabilidade comercial do aplicativo.\n",
    "\n",
    "Depois de examinar esses dois exemplos, podemos ver que, embora a eficiência seja importante em uma análise *post-hoc* eficaz e completa, ela é absolutamente crítica ao incorporar a análise de dados como um componente de um produto ou serviço separado. Embora certamente não seja o trabalho de um cientista de dados ou analista de dados garantir que a produção e o banco de dados estejam funcionando com eficiência ideal, é fundamental que as consultas da análise subjacente sejam tão eficazes quanto possível. Se não tivermos um banco de dados eficiente e atual em primeiro lugar, refinamentos adicionais não ajudarão a melhorar o desempenho da análise. Na próxima seção, discutiremos métodos para aumentar o desempenho de varreduras de informações em um banco de dados.\n",
    "\n",
    "### Métodos de verificação de banco de dados\n",
    "Os bancos de dados compatíveis com SQL fornecem vários métodos diferentes para varredura, pesquisa e seleção de dados. O método de verificação correto a ser usado depende muito do caso de uso e do estado do banco de dados no momento da verificação. Quantos registros estão no banco de dados? Em quais campos estamos interessados? Quantos registros esperamos que sejam devolvidos? Com que frequência precisamos executar a consulta? Estas são apenas algumas das perguntas que podemos fazer ao selecionar o método de digitalização mais adequado. Ao longo desta seção, descreveremos alguns dos métodos de pesquisa disponíveis, como eles são usados no SQL para executar varreduras e vários cenários em que eles devem/não devem ser usados."
   ],
   "metadata": {
    "collapsed": false,
    "pycharm": {
     "name": "#%% md\n"
    }
   }
  },
  {
   "cell_type": "code",
   "execution_count": 1,
   "outputs": [
    {
     "data": {
      "text/plain": "   customer_id title first_name last_name suffix                      email  \\\n0            1  None     Arlena   Riveles   None  ariveles0@stumbleupon.com   \n1            2    Dr        Ode    Stovin   None           ostovin1@npr.org   \n2            3  None     Braden    Jordan   None     bjordan2@geocities.com   \n3            4  None    Jessika    Nussen   None         jnussen3@salon.com   \n4            5  None     Lonnie   Rembaud   None    lrembaud4@discovery.com   \n\n  gender       ip_address         phone       street_address         city  \\\n0      F    98.36.172.246          None                 None         None   \n1      M     16.97.59.186  314-534-4361  2573 Fordem Parkway  Saint Louis   \n2      M    192.86.248.59          None    5651 Kennedy Park    Pensacola   \n3      F  159.165.138.166  615-824-2506   224 Village Circle    Nashville   \n4      F     18.131.58.65  786-499-3431     38 Lindbergh Way        Miami   \n\n  state postal_code  latitude  longitude date_added  \n0  None        None       NaN        NaN 2017-04-23  \n1    MO       63116   38.5814   -90.2625 2014-10-02  \n2    FL       32590   30.6143   -87.2758 2018-10-27  \n3    TN       37215   36.0986   -86.8219 2017-09-03  \n4    FL       33124   25.5584   -80.4582 2014-03-06  ",
      "text/html": "<div>\n<style scoped>\n    .dataframe tbody tr th:only-of-type {\n        vertical-align: middle;\n    }\n\n    .dataframe tbody tr th {\n        vertical-align: top;\n    }\n\n    .dataframe thead th {\n        text-align: right;\n    }\n</style>\n<table border=\"1\" class=\"dataframe\">\n  <thead>\n    <tr style=\"text-align: right;\">\n      <th></th>\n      <th>customer_id</th>\n      <th>title</th>\n      <th>first_name</th>\n      <th>last_name</th>\n      <th>suffix</th>\n      <th>email</th>\n      <th>gender</th>\n      <th>ip_address</th>\n      <th>phone</th>\n      <th>street_address</th>\n      <th>city</th>\n      <th>state</th>\n      <th>postal_code</th>\n      <th>latitude</th>\n      <th>longitude</th>\n      <th>date_added</th>\n    </tr>\n  </thead>\n  <tbody>\n    <tr>\n      <th>0</th>\n      <td>1</td>\n      <td>None</td>\n      <td>Arlena</td>\n      <td>Riveles</td>\n      <td>None</td>\n      <td>ariveles0@stumbleupon.com</td>\n      <td>F</td>\n      <td>98.36.172.246</td>\n      <td>None</td>\n      <td>None</td>\n      <td>None</td>\n      <td>None</td>\n      <td>None</td>\n      <td>NaN</td>\n      <td>NaN</td>\n      <td>2017-04-23</td>\n    </tr>\n    <tr>\n      <th>1</th>\n      <td>2</td>\n      <td>Dr</td>\n      <td>Ode</td>\n      <td>Stovin</td>\n      <td>None</td>\n      <td>ostovin1@npr.org</td>\n      <td>M</td>\n      <td>16.97.59.186</td>\n      <td>314-534-4361</td>\n      <td>2573 Fordem Parkway</td>\n      <td>Saint Louis</td>\n      <td>MO</td>\n      <td>63116</td>\n      <td>38.5814</td>\n      <td>-90.2625</td>\n      <td>2014-10-02</td>\n    </tr>\n    <tr>\n      <th>2</th>\n      <td>3</td>\n      <td>None</td>\n      <td>Braden</td>\n      <td>Jordan</td>\n      <td>None</td>\n      <td>bjordan2@geocities.com</td>\n      <td>M</td>\n      <td>192.86.248.59</td>\n      <td>None</td>\n      <td>5651 Kennedy Park</td>\n      <td>Pensacola</td>\n      <td>FL</td>\n      <td>32590</td>\n      <td>30.6143</td>\n      <td>-87.2758</td>\n      <td>2018-10-27</td>\n    </tr>\n    <tr>\n      <th>3</th>\n      <td>4</td>\n      <td>None</td>\n      <td>Jessika</td>\n      <td>Nussen</td>\n      <td>None</td>\n      <td>jnussen3@salon.com</td>\n      <td>F</td>\n      <td>159.165.138.166</td>\n      <td>615-824-2506</td>\n      <td>224 Village Circle</td>\n      <td>Nashville</td>\n      <td>TN</td>\n      <td>37215</td>\n      <td>36.0986</td>\n      <td>-86.8219</td>\n      <td>2017-09-03</td>\n    </tr>\n    <tr>\n      <th>4</th>\n      <td>5</td>\n      <td>None</td>\n      <td>Lonnie</td>\n      <td>Rembaud</td>\n      <td>None</td>\n      <td>lrembaud4@discovery.com</td>\n      <td>F</td>\n      <td>18.131.58.65</td>\n      <td>786-499-3431</td>\n      <td>38 Lindbergh Way</td>\n      <td>Miami</td>\n      <td>FL</td>\n      <td>33124</td>\n      <td>25.5584</td>\n      <td>-80.4582</td>\n      <td>2014-03-06</td>\n    </tr>\n  </tbody>\n</table>\n</div>"
     },
     "execution_count": 1,
     "metadata": {},
     "output_type": "execute_result"
    }
   ],
   "source": [
    "# Importando o SqlAlchemy\n",
    "import pandas as pd\n",
    "from sqlalchemy import create_engine\n",
    "\n",
    "cnxn_string = (\"postgresql+psycopg2://{username}:{pswd}\"\n",
    "               \"@{host}:{port}/{database}\")\n",
    "\n",
    "# Instanciando a Função create_engine com a string de conexão\n",
    "engine = create_engine(cnxn_string.format(\n",
    "    username=\"postgres\",\n",
    "    pswd=\"admin\",\n",
    "    host=\"127.0.0.1\",\n",
    "    port=5432,\n",
    "    database=\"sqlda\"))\n",
    "\n",
    "sql = \"\"\"\n",
    "\t\tSELECT *\n",
    "\t\tFROM customers\n",
    "\t\tLIMIT 5\n",
    "      \"\"\"\n",
    "\n",
    "pd.read_sql_query(sql=sql, con=engine)"
   ],
   "metadata": {
    "collapsed": false,
    "pycharm": {
     "name": "#%%\n"
    }
   }
  },
  {
   "cell_type": "markdown",
   "source": [
    "Extrair dados usando o comando **SELECT** diretamente do banco de dados executa uma varredura sequencial, onde o servidor de banco de dados percorre cada registro no banco de dados e compara cada registro com os critérios da varredura sequencial, retornando os registros que correspondem aos critérios. Esta é essencialmente uma varredura de força bruta e, portanto, sempre pode ser chamada para executar uma pesquisa. Em muitas situações, uma varredura sequencial também é o método mais eficiente e será selecionada automaticamente pelo servidor SQL. Este é particularmente o caso se qualquer uma das seguintes condições for verdadeira:\n",
    "* A mesa é bem pequena. Por exemplo, pode não conter um grande número de registros.\n",
    "* O campo utilizado na pesquisa contém um alto número de duplicatas.\n",
    "* O planejador determina que a varredura sequencial seria igualmente eficiente ou mais eficiente para os critérios fornecidos do que qualquer outra varredura.\n",
    "\n",
    "Neste exercício, apresentaremos o comando **EXPLAIN**, que exibe o plano para uma consulta antes de ser executada. Quando usamos o comando **EXPLAIN** em combinação com uma instrução SQL, o interpretador SQL não executa a instrução, mas retorna os passos que serão executados (um plano de consulta) pelo interpretador para retornar os resultados desejados. Há muitas informações retornadas em um plano de consulta e ser capaz de compreender a saída é vital para ajustar o desempenho de nossas consultas de banco de dados. O planejamento de consulta é um tópico complexo e pode exigir alguma prática para se sentir confortável na interpretação da saída; até mesmo a documentação oficial do PostgreSQL observa que a leitura de planos é uma arte que merece atenção significativa por si só. Começaremos com um plano simples e passaremos por consultas e planos de consulta mais complicados.\n",
    "\n",
    "### Exercício 26: Interpretando o Planejador de Consultas\n",
    "Neste exercício, interpretaremos um planejador de consulta usando o comando **EXPLAIN**. Vamos interpretar o planejador de consultas da tabela de emails do banco de dados *sqlda*. Em seguida, empregaremos uma consulta mais envolvente, procurando por datas entre dois valores específicos no campo **clicked_date**. Precisaremos garantir que o banco de dados **sqlda** seja carregado conforme descrito no Prefácio.\n",
    "Recupere o arquivo Exercise26.sql do código-fonte que o acompanha. Este arquivo conterá todas as consultas usadas neste exercício. No entanto, vamos inseri-los manualmente usando o interpretador SQL para reforçar nossa compreensão da operação do planejador de consultas."
   ],
   "metadata": {
    "collapsed": false,
    "pycharm": {
     "name": "#%% md\n"
    }
   }
  },
  {
   "cell_type": "code",
   "execution_count": 2,
   "outputs": [
    {
     "data": {
      "text/plain": "                                          QUERY PLAN\n0  Seq Scan on emails  (cost=0.00..9606.58 rows=4...",
      "text/html": "<div>\n<style scoped>\n    .dataframe tbody tr th:only-of-type {\n        vertical-align: middle;\n    }\n\n    .dataframe tbody tr th {\n        vertical-align: top;\n    }\n\n    .dataframe thead th {\n        text-align: right;\n    }\n</style>\n<table border=\"1\" class=\"dataframe\">\n  <thead>\n    <tr style=\"text-align: right;\">\n      <th></th>\n      <th>QUERY PLAN</th>\n    </tr>\n  </thead>\n  <tbody>\n    <tr>\n      <th>0</th>\n      <td>Seq Scan on emails  (cost=0.00..9606.58 rows=4...</td>\n    </tr>\n  </tbody>\n</table>\n</div>"
     },
     "execution_count": 2,
     "metadata": {},
     "output_type": "execute_result"
    }
   ],
   "source": [
    "sql = \"\"\"\n",
    "\t\tEXPLAIN SELECT * FROM emails;\n",
    "      \"\"\"\n",
    "\n",
    "pd.read_sql_query(sql=sql, con=engine)"
   ],
   "metadata": {
    "collapsed": false,
    "pycharm": {
     "name": "#%%\n"
    }
   }
  },
  {
   "cell_type": "markdown",
   "source": [
    "Essas informações são retornadas pelo planejador de consultas; embora este seja o exemplo mais simples possível, há bastante coisa para descompactar nas informações do planejador, então vamos examinar a saída passo a passo:"
   ],
   "metadata": {
    "collapsed": false,
    "pycharm": {
     "name": "#%% md\n"
    }
   }
  },
  {
   "cell_type": "code",
   "execution_count": 2,
   "outputs": [
    {
     "data": {
      "image/png": "[encoded data removed]",
      "text/plain": "<IPython.core.display.Image object>"
     },
     "execution_count": 2,
     "metadata": {},
     "output_type": "execute_result"
    }
   ],
   "source": [
    "from IPython.display import Image\n",
    "Image('images/scan_type.PNG')"
   ],
   "metadata": {
    "collapsed": false,
    "pycharm": {
     "name": "#%%\n"
    }
   }
  },
  {
   "cell_type": "markdown",
   "source": [
    "O primeiro aspecto do plano fornecido é o tipo de varredura executada pela consulta. Abordaremos mais tipos de varredura mais adiante neste módulo, mas, conforme discutido com mais detalhes em breve, a Varredura Seq (consulte a Figura 8.4), ou varredura sequencial, é um tipo de consulta simples, porém robusto:"
   ],
   "metadata": {
    "collapsed": false,
    "pycharm": {
     "name": "#%% md\n"
    }
   }
  },
  {
   "cell_type": "code",
   "execution_count": 4,
   "outputs": [
    {
     "data": {
      "image/png": "[encoded data removed]",
      "text/plain": "<IPython.core.display.Image object>"
     },
     "execution_count": 4,
     "metadata": {},
     "output_type": "execute_result"
    }
   ],
   "source": [
    "Image('images/start_up_cost.PNG')"
   ],
   "metadata": {
    "collapsed": false,
    "pycharm": {
     "name": "#%%\n"
    }
   }
  },
  {
   "cell_type": "markdown",
   "source": [
    "A primeira medida relatada pelo planejador, conforme mostrado na Figura 8.5, é o custo inicial, que é o tempo gasto antes do início da varredura. Esse tempo pode ser necessário para primeiro classificar os dados ou concluir outros aplicativos de pré-processamento. Também é importante notar que o tempo medido é realmente relatado em unidades de custo (veja a Figura 8.5) em oposição a segundos ou milissegundos. Muitas vezes, as unidades de custo são uma indicação do número de solicitações de disco ou buscas de página feitas, em vez de ser uma medida em termos absolutos. O custo informado normalmente é mais útil como meio de comparar o desempenho de várias consultas, e não como uma medida absoluta de tempo:"
   ],
   "metadata": {
    "collapsed": false,
    "pycharm": {
     "name": "#%% md\n"
    }
   }
  },
  {
   "cell_type": "code",
   "execution_count": 5,
   "outputs": [
    {
     "data": {
      "image/png": "[encoded data removed]",
      "text/plain": "<IPython.core.display.Image object>"
     },
     "execution_count": 5,
     "metadata": {},
     "output_type": "execute_result"
    }
   ],
   "source": [
    "Image('images/total_cost.PNG')"
   ],
   "metadata": {
    "collapsed": false,
    "pycharm": {
     "name": "#%%\n"
    }
   }
  },
  {
   "cell_type": "markdown",
   "source": [
    "O próximo número na sequência (veja a Figura 8.6) indica o custo total de execução da consulta se todas as linhas disponíveis forem recuperadas. Existem algumas circunstâncias em que todas as linhas disponíveis podem não ser recuperadas, mas abordaremos isso em breve:\n"
   ],
   "metadata": {
    "collapsed": false,
    "pycharm": {
     "name": "#%% md\n"
    }
   }
  },
  {
   "cell_type": "code",
   "execution_count": 6,
   "outputs": [
    {
     "data": {
      "image/png": "[encoded data removed]",
      "text/plain": "<IPython.core.display.Image object>"
     },
     "execution_count": 6,
     "metadata": {},
     "output_type": "execute_result"
    }
   ],
   "source": [
    "Image('images/rows_returned.PNG')"
   ],
   "metadata": {
    "collapsed": false,
    "pycharm": {
     "name": "#%%\n"
    }
   }
  },
  {
   "cell_type": "markdown",
   "source": [
    "\n",
    "A próxima figura no plano (veja a Figura 8.7) indica o número total de linhas que estão disponíveis para serem retornadas – novamente, se o plano for completamente executado:"
   ],
   "metadata": {
    "collapsed": false,
    "pycharm": {
     "name": "#%% md\n"
    }
   }
  },
  {
   "cell_type": "code",
   "execution_count": 7,
   "outputs": [
    {
     "data": {
      "image/png": "[encoded data removed]",
      "text/plain": "<IPython.core.display.Image object>"
     },
     "execution_count": 7,
     "metadata": {},
     "output_type": "execute_result"
    }
   ],
   "source": [
    "Image('images/width_row.PNG')"
   ],
   "metadata": {
    "collapsed": false,
    "pycharm": {
     "name": "#%%\n"
    }
   }
  },
  {
   "cell_type": "markdown",
   "source": [
    "A figura final (veja a Figura 8.8), conforme sugerido por seu rótulo, indica a largura de cada linha em bytes.\n",
    "\n",
    "> ##### Observação\n",
    "> Ao executar o comando **EXPLAIN**, o **PostgreSQL** não implementa a consulta nem retorna os valores. No entanto, ele retorna uma descrição, juntamente com os custos de processamento envolvidos na execução de cada etapa do plano."
   ],
   "metadata": {
    "collapsed": false,
    "pycharm": {
     "name": "#%% md\n"
    }
   }
  },
  {
   "cell_type": "markdown",
   "source": [
    "3. Consulte o plano de consulta na tabela de emails e defina o limite como 5. Insira a seguinte instrução no interpretador do PostgreSQL:"
   ],
   "metadata": {
    "collapsed": false,
    "pycharm": {
     "name": "#%% md\n"
    }
   }
  },
  {
   "cell_type": "code",
   "execution_count": 8,
   "outputs": [
    {
     "data": {
      "text/plain": "                                          QUERY PLAN\n0           Limit  (cost=0.00..0.11 rows=5 width=79)\n1    ->  Seq Scan on emails  (cost=0.00..9606.58 ...",
      "text/html": "<div>\n<style scoped>\n    .dataframe tbody tr th:only-of-type {\n        vertical-align: middle;\n    }\n\n    .dataframe tbody tr th {\n        vertical-align: top;\n    }\n\n    .dataframe thead th {\n        text-align: right;\n    }\n</style>\n<table border=\"1\" class=\"dataframe\">\n  <thead>\n    <tr style=\"text-align: right;\">\n      <th></th>\n      <th>QUERY PLAN</th>\n    </tr>\n  </thead>\n  <tbody>\n    <tr>\n      <th>0</th>\n      <td>Limit  (cost=0.00..0.11 rows=5 width=79)</td>\n    </tr>\n    <tr>\n      <th>1</th>\n      <td>-&gt;  Seq Scan on emails  (cost=0.00..9606.58 ...</td>\n    </tr>\n  </tbody>\n</table>\n</div>"
     },
     "execution_count": 8,
     "metadata": {},
     "output_type": "execute_result"
    }
   ],
   "source": [
    "sql = \"\"\"\n",
    "\t\tEXPLAIN SELECT *\n",
    "\t\tFROM emails\n",
    "\t\tLIMIT 5;\n",
    "      \"\"\"\n",
    "\n",
    "pd.read_sql_query(sql=sql, con=engine)"
   ],
   "metadata": {
    "collapsed": false,
    "pycharm": {
     "name": "#%%\n"
    }
   }
  },
  {
   "cell_type": "markdown",
   "source": [
    "Isso repete a afirmação anterior, onde o planejador está limitado aos cinco primeiros registros. Essa consulta produziu a seguinte saída do planejador, conforme anterior.\n",
    "\n",
    "Referindo-se à tabela anterior, podemos ver que há duas linhas individuais no plano. Isso indica que o plano é composto por duas etapas distintas, sendo a linha inferior do plano (ou, neste caso, a primeira etapa a ser executada) uma repetição daquela mostrada na Figura 8.8. A linha superior do plano é o componente que limita o resultado a apenas **5** linhas. O processo **Limit** é um custo adicional da consulta; no entanto, é bastante insignificante em comparação com o plano de nível inferior, que recupera aproximadamente **418.158** linhas a um custo de solicitações de **9.606** páginas. O estágio **Limit** retorna apenas **5** linhas a um custo de **0,11** solicitações de página.\n",
    "\n",
    "> ##### Observação\n",
    "> O custo total estimado para uma solicitação compreende o tempo necessário para recuperar as informações do disco, bem como o número de linhas que precisam ser verificadas. Os parâmetros internos, **seq_page_cost** e **cpu_tuple_cost**, definem o custo das operações correspondentes dentro do tablespace do banco de dados. Embora não seja recomendado nesta fase, essas duas variáveis podem ser alteradas para modificar as etapas preparadas pelo planejador.\n",
    "\n",
    "4. Agora, empregue uma consulta mais complexa, procurando por datas entre dois valores específicos na coluna **clicked_date**. Insira a seguinte instrução no interpretador *PostgreSQL*:"
   ],
   "metadata": {
    "collapsed": false,
    "pycharm": {
     "name": "#%% md\n"
    }
   }
  },
  {
   "cell_type": "code",
   "execution_count": 9,
   "outputs": [
    {
     "data": {
      "text/plain": "                                          QUERY PLAN\n0  Gather  (cost=1000.00..9051.79 rows=133 width=79)\n1                                 Workers Planned: 2\n2    ->  Parallel Seq Scan on emails  (cost=0.00....\n3          Filter: ((clicked_date >= '2011-01-01 ...",
      "text/html": "<div>\n<style scoped>\n    .dataframe tbody tr th:only-of-type {\n        vertical-align: middle;\n    }\n\n    .dataframe tbody tr th {\n        vertical-align: top;\n    }\n\n    .dataframe thead th {\n        text-align: right;\n    }\n</style>\n<table border=\"1\" class=\"dataframe\">\n  <thead>\n    <tr style=\"text-align: right;\">\n      <th></th>\n      <th>QUERY PLAN</th>\n    </tr>\n  </thead>\n  <tbody>\n    <tr>\n      <th>0</th>\n      <td>Gather  (cost=1000.00..9051.79 rows=133 width=79)</td>\n    </tr>\n    <tr>\n      <th>1</th>\n      <td>Workers Planned: 2</td>\n    </tr>\n    <tr>\n      <th>2</th>\n      <td>-&gt;  Parallel Seq Scan on emails  (cost=0.00....</td>\n    </tr>\n    <tr>\n      <th>3</th>\n      <td>Filter: ((clicked_date &gt;= '2011-01-01 ...</td>\n    </tr>\n  </tbody>\n</table>\n</div>"
     },
     "execution_count": 9,
     "metadata": {},
     "output_type": "execute_result"
    }
   ],
   "source": [
    "sql = \"\"\"\n",
    "\t\tEXPLAIN SELECT *\n",
    "\t\tFROM emails\n",
    "\t\tWHERE clicked_date BETWEEN '2011-01-01' and '2011-02-01';\n",
    "      \"\"\"\n",
    "\n",
    "pd.read_sql_query(sql=sql, con=engine)"
   ],
   "metadata": {
    "collapsed": false,
    "pycharm": {
     "name": "#%%\n"
    }
   }
  },
  {
   "cell_type": "markdown",
   "source": [
    "O primeiro aspecto deste plano de consulta a ser observado é que ele compreende algumas etapas diferentes. A consulta de nível inferior é semelhante à consulta anterior, pois executa uma varredura sequencial. No entanto, em vez de limitar a saída, estamos filtrando-a com base nas strings de carimbo de data/hora fornecidas. Observe que a varredura sequencial deve ser concluída em paralelo, conforme indicado pelo **Parallel Seq Scan**, e o fato de que dois trabalhadores estão planejados para serem usados. Cada varredura de sequência individual deve retornar aproximadamente 54 linhas, com um custo de 8038,49 para ser concluída. O nível superior do plano é um estado **Gather**, que é executado no início da consulta. Podemos ver aqui pela primeira vez que os custos iniciais são diferentes de zero (1.000) e totalizam **9.051,49**, incluindo as etapas de coleta e pesquisa.\n",
    "\n",
    "Neste exercício, trabalhamos com o planejador de consultas e a saída do comando **EXPLAIN**. Essas consultas relativamente simples destacaram vários recursos do planejador de consultas SQL, bem como as informações detalhadas fornecidas por ele. Ter um bom entendimento do planejador de consultas e das informações que ele está retornando a você será muito útil em seus esforços de ciência de dados. Apenas lembre-se de que esse entendimento virá com o tempo e a prática; nunca hesite em consultar a documentação do PostgreSQL: https://www.postgresql.org/docs/current/using-explain.html.\n",
    "Continuaremos a praticar a leitura de planos de consulta ao longo deste módulo à medida que examinamos os diferentes tipos de varredura e os métodos que eles usam para melhorar o desempenho."
   ],
   "metadata": {
    "collapsed": false,
    "pycharm": {
     "name": "#%% md\n"
    }
   }
  },
  {
   "cell_type": "markdown",
   "source": [
    "### Atividade 10: Planejamento de consultas\n",
    "Nosso objetivo nesta atividade é consultar o plano de leitura e interpretação das informações retornadas pelo planejador. Digamos que ainda estamos lidando com nosso banco de dados sqlda de registros de clientes e que nossa equipe financeira gostaria que implementássemos um sistema para gerar regularmente um relatório da atividade do cliente em uma região geográfica específica. Para garantir que nosso relatório possa ser executado em tempo hábil, precisamos de uma estimativa de quanto tempo as consultas SQL levarão. Usaremos o comando **EXPLAIN** para descobrir quanto tempo algumas das consultas de relatório levarão:\n",
    "1. Abra o PostgreSQL e conecte-se ao banco de dados **sqlda**.\n",
    "2. Use o comando **EXPLAIN** para retornar o plano de consulta para selecionar todos os registros disponíveis na tabela de clientes.\n",
    "3. Leia a saída do plano e determine o custo total da consulta, o custo de configuração, o número de linhas a serem retornadas e a largura de cada linha. Observando a saída, quais são as unidades para cada um dos valores retornados do plano após realizar esta etapa?\n",
    "4. Repita a consulta da etapa 2 desta atividade, desta vez limitando o número de registros retornados a **15**.\n",
    "Observando o plano de consulta atualizado, quantas etapas estão envolvidas no plano de consulta? Qual é o custo da etapa de limitação?\n",
    "5. Gere o plano de consulta, selecionando todas as linhas onde os clientes moram dentro de uma latitude de **30** e **40** graus. Qual é o custo total do plano, bem como o número de linhas retornadas pela consulta?"
   ],
   "metadata": {
    "collapsed": false,
    "pycharm": {
     "name": "#%% md\n"
    }
   }
  },
  {
   "cell_type": "code",
   "execution_count": 10,
   "outputs": [
    {
     "data": {
      "text/plain": "                                          QUERY PLAN\n0  Seq Scan on customers  (cost=0.00..1536.00 row...",
      "text/html": "<div>\n<style scoped>\n    .dataframe tbody tr th:only-of-type {\n        vertical-align: middle;\n    }\n\n    .dataframe tbody tr th {\n        vertical-align: top;\n    }\n\n    .dataframe thead th {\n        text-align: right;\n    }\n</style>\n<table border=\"1\" class=\"dataframe\">\n  <thead>\n    <tr style=\"text-align: right;\">\n      <th></th>\n      <th>QUERY PLAN</th>\n    </tr>\n  </thead>\n  <tbody>\n    <tr>\n      <th>0</th>\n      <td>Seq Scan on customers  (cost=0.00..1536.00 row...</td>\n    </tr>\n  </tbody>\n</table>\n</div>"
     },
     "execution_count": 10,
     "metadata": {},
     "output_type": "execute_result"
    }
   ],
   "source": [
    "# Nr 2\n",
    "sql = \"\"\"\n",
    "\t\tEXPLAIN SELECT *\n",
    "\t\tFROM customers;\n",
    "      \"\"\"\n",
    "\n",
    "pd.read_sql_query(sql=sql, con=engine)"
   ],
   "metadata": {
    "collapsed": false,
    "pycharm": {
     "name": "#%%\n"
    }
   }
  },
  {
   "cell_type": "code",
   "execution_count": 11,
   "outputs": [
    {
     "data": {
      "text/plain": "                                          QUERY PLAN\n0         Limit  (cost=0.00..0.46 rows=15 width=140)\n1    ->  Seq Scan on customers  (cost=0.00..1536....",
      "text/html": "<div>\n<style scoped>\n    .dataframe tbody tr th:only-of-type {\n        vertical-align: middle;\n    }\n\n    .dataframe tbody tr th {\n        vertical-align: top;\n    }\n\n    .dataframe thead th {\n        text-align: right;\n    }\n</style>\n<table border=\"1\" class=\"dataframe\">\n  <thead>\n    <tr style=\"text-align: right;\">\n      <th></th>\n      <th>QUERY PLAN</th>\n    </tr>\n  </thead>\n  <tbody>\n    <tr>\n      <th>0</th>\n      <td>Limit  (cost=0.00..0.46 rows=15 width=140)</td>\n    </tr>\n    <tr>\n      <th>1</th>\n      <td>-&gt;  Seq Scan on customers  (cost=0.00..1536....</td>\n    </tr>\n  </tbody>\n</table>\n</div>"
     },
     "execution_count": 11,
     "metadata": {},
     "output_type": "execute_result"
    }
   ],
   "source": [
    "# Nr 3\n",
    "sql = \"\"\"\n",
    "\t\tEXPLAIN SELECT *\n",
    "\t\tFROM customers\n",
    "\t\tLIMIT 15;\n",
    "      \"\"\"\n",
    "\n",
    "pd.read_sql_query(sql=sql, con=engine)"
   ],
   "metadata": {
    "collapsed": false,
    "pycharm": {
     "name": "#%%\n"
    }
   }
  },
  {
   "cell_type": "code",
   "execution_count": 12,
   "outputs": [
    {
     "data": {
      "text/plain": "                                          QUERY PLAN\n0  Seq Scan on customers  (cost=0.00..1786.00 row...\n1    Filter: ((latitude > '30'::double precision)...",
      "text/html": "<div>\n<style scoped>\n    .dataframe tbody tr th:only-of-type {\n        vertical-align: middle;\n    }\n\n    .dataframe tbody tr th {\n        vertical-align: top;\n    }\n\n    .dataframe thead th {\n        text-align: right;\n    }\n</style>\n<table border=\"1\" class=\"dataframe\">\n  <thead>\n    <tr style=\"text-align: right;\">\n      <th></th>\n      <th>QUERY PLAN</th>\n    </tr>\n  </thead>\n  <tbody>\n    <tr>\n      <th>0</th>\n      <td>Seq Scan on customers  (cost=0.00..1786.00 row...</td>\n    </tr>\n    <tr>\n      <th>1</th>\n      <td>Filter: ((latitude &gt; '30'::double precision)...</td>\n    </tr>\n  </tbody>\n</table>\n</div>"
     },
     "execution_count": 12,
     "metadata": {},
     "output_type": "execute_result"
    }
   ],
   "source": [
    "# Nr 3\n",
    "sql = \"\"\"\n",
    "\t\tEXPLAIN SELECT *\n",
    "\t\tFROM customers\n",
    "\t\tWHERE latitude > 30 AND latitude <40\n",
    "      \"\"\"\n",
    "\n",
    "pd.read_sql_query(sql=sql, con=engine)"
   ],
   "metadata": {
    "collapsed": false,
    "pycharm": {
     "name": "#%%\n"
    }
   }
  },
  {
   "cell_type": "markdown",
   "source": [
    "Nesta atividade, praticamos a leitura dos planos retornados pelo planejador de consultas. Conforme discutido anteriormente, a leitura de planos requer prática substancial para dominá-la. Esta atividade iniciou este processo e é altamente recomendável que você use frequentemente o comando **EXPLAIN** para melhorar a leitura do seu plano.\n",
    "### Verificação de índice\n",
    "As varreduras de índice são um método de melhorar o desempenho de nossas consultas de banco de dados. As varreduras de índice diferem da varredura sequencial, pois uma etapa de pré-processamento é executada antes que a pesquisa de registros do banco de dados possa ocorrer. A maneira mais simples de pensar em uma varredura de índice é como o índice de um texto ou livro de referência. Ao escrever um livro de não-ficção, um editor analisa o conteúdo do livro e escreve os números das páginas correspondentes a cada tópico classificado em ordem alfabética. Assim como o editor faz o esforço inicial de criar um índice para referência do leitor, também podemos criar um índice semelhante dentro do banco de dados *PostgreSQL*. Esse índice dentro do banco de dados cria um conjunto preparado e organizado ou um subconjunto de referências aos dados sob condições especificadas. Quando uma consulta é executada e está presente um índice que contém informações relevantes para a consulta, o planejador pode optar por usar os dados que foram pré-processados e pré-organizados no índice. Sem usar um índice, o banco de dados precisa varrer repetidamente todos os registros, verificando cada registro quanto às informações de interesse.\n",
    "\n",
    "Mesmo que todas as informações desejadas estejam no início do banco de dados, sem indexação, a pesquisa ainda varrerá todos os registros disponíveis. Claramente, isso levaria um tempo significativamente maior do que o necessário.\n",
    "Existem várias estratégias de indexação diferentes que o *PostgreSQL* pode usar para criar pesquisas mais eficientes, incluindo **árvores B (B-tree), índices de hash, índices invertidos generalizados (GINs)** e **árvores de pesquisa generalizadas (GISTs)**. Cada um desses diferentes tipos de índice tem seus próprios pontos fortes e fracos e, portanto, é usado em diferentes situações. Um dos índices mais usados é o B-tree, que é a estratégia de indexação padrão usada pelo *PostgreSQL* e está disponível em quase todos os softwares de banco de dados. Primeiro, passaremos algum tempo investigando o índice da árvore B, analisando o que o torna útil, bem como algumas de suas limitações.\n",
    "### O índice da árvore B\n",
    "O índice B-tree é um tipo de árvore de busca binária e se caracteriza pelo fato de ser uma estrutura auto-balanceada, mantendo uma estrutura de dados própria para busca eficiente. Uma estrutura genérica de árvore B pode ser encontrada na Figura 8.12, na qual podemos ver que cada nó na árvore não tem mais do que dois elementos (dando assim equilíbrio) e que o primeiro nó tem dois filhos. Essas características são comuns entre as árvores B, onde cada nó é limitado a n componentes, forçando assim a divisão em nós filhos. Os ramos das árvores terminam nos nós folha, que, por definição, não têm filhos:"
   ],
   "metadata": {
    "collapsed": false,
    "pycharm": {
     "name": "#%% md\n"
    }
   }
  },
  {
   "cell_type": "code",
   "execution_count": 13,
   "outputs": [
    {
     "data": {
      "image/png": "[encoded data removed]",
      "text/plain": "<IPython.core.display.Image object>"
     },
     "execution_count": 13,
     "metadata": {},
     "output_type": "execute_result"
    }
   ],
   "source": [
    "Image('images/b-tree.PNG')"
   ],
   "metadata": {
    "collapsed": false,
    "pycharm": {
     "name": "#%%\n"
    }
   }
  },
  {
   "cell_type": "markdown",
   "source": [
    "Usando a Figura 8.12 como exemplo, digamos que estivéssemos procurando o número 13 no índice da árvore B. Começaríamos no primeiro nó e selecionaríamos se o número era menor que 5 ou maior que 10. Isso nos levaria ao galho direito da árvore, onde novamente escolheríamos entre menor que 15 e maior que 20. então selecionaria menos de 15 e chegaria à localização de 13 no índice. Podemos ver imediatamente que esta operação seria muito mais rápida do que examinar todos os valores disponíveis. Também podemos ver que, para desempenho, a árvore deve ser equilibrada para permitir um caminho fácil para a travessia. Além disso, deve haver informações suficientes para permitir a divisão. Se tivéssemos um índice de árvore com apenas alguns valores possíveis para dividir e um grande número de amostras, simplesmente dividiríamos os dados em alguns grupos.\n",
    "\n",
    "Considerando *B-trees* (árvores B) no contexto de busca de banco de dados, podemos ver que precisamos de uma condição para dividir as informações (ou divisão), e também precisamos de informações suficientes para uma divisão significativa. Não precisamos nos preocupar com a lógica de seguir a árvore, pois ela será gerenciada pelo próprio banco de dados e pode variar de acordo com as condições de busca. Mesmo assim, é importante que entendamos os pontos fortes e fracos do método para que possamos fazer escolhas apropriadas ao criar o índice para um desempenho ideal."
   ],
   "metadata": {
    "collapsed": false,
    "pycharm": {
     "name": "#%% md\n"
    }
   }
  },
  {
   "cell_type": "markdown",
   "source": [
    "Para criar um índice para um conjunto de dados, usamos a seguinte sintaxe:\n",
    "\n",
    "`CREATE INDEX <index name> ON <table name>(table column);`\n",
    "\n",
    "Também podemos adicionar condições e restrições adicionais para tornar o índice mais seletivo:\n",
    "\n",
    "`CREATE INDEX <index name> ON <table name> USING TYPE(table column)`\n",
    "\n",
    "Por exemplo:"
   ],
   "metadata": {
    "collapsed": false,
    "pycharm": {
     "name": "#%% md\n"
    }
   }
  },
  {
   "cell_type": "code",
   "execution_count": 15,
   "outputs": [
    {
     "data": {
      "text/plain": "<sqlalchemy.engine.cursor.LegacyCursorResult at 0x2df8d0ec7c0>"
     },
     "execution_count": 15,
     "metadata": {},
     "output_type": "execute_result"
    }
   ],
   "source": [
    "sql = \"\"\"\n",
    "\t\tCREATE INDEX ix_customers ON customers USING BTREE(customer_id);\n",
    "      \"\"\"\n",
    "engine.execute(sql)"
   ],
   "metadata": {
    "collapsed": false,
    "pycharm": {
     "name": "#%%\n"
    }
   }
  },
  {
   "cell_type": "markdown",
   "source": [
    "No próximo exercício, vamos começar com um plano simples e trabalhar mais consultas complicadas e planos de consulta usando varreduras de índice.\n",
    "\n",
    "### Exercício 27: Criando uma varredura de índice\n",
    "Neste exercício, criaremos várias varreduras de índice diferentes e investigaremos as características de desempenho de cada uma das varreduras.\n",
    "\n",
    "Continuando com o cenário da atividade anterior, digamos que concluímos nosso serviço de relatórios, mas queríamos agilizar as consultas. Tentaremos melhorar esse desempenho usando indexação e varreduras de índice. Você deve se lembrar de que estamos usando uma tabela de informações do cliente que inclui detalhes de contato como nome, endereço de e-mail, número de telefone e informações de endereço, bem como os detalhes de latitude e longitude de seu endereço. A seguir estão as etapas a serem executadas:\n",
    "1. Certifique-se de que o banco de dados **sqlda** seja carregado conforme descrito no *Prefácio*. Recupere o arquivo **Exercise27.sql** do código-fonte que o acompanha. Este arquivo conterá todas as consultas usadas neste exercício; no entanto, vamos inseri-los manualmente usando o interpretador SQL para reforçar nossa compreensão da operação do planejador de consultas."
   ],
   "metadata": {
    "collapsed": false,
    "pycharm": {
     "name": "#%% md\n"
    }
   }
  },
  {
   "cell_type": "code",
   "execution_count": 16,
   "outputs": [
    {
     "data": {
      "text/plain": "[('Seq Scan on customers  (cost=0.00..1661.00 rows=1 width=140)',),\n (\"  Filter: (state = 'FO'::text)\",)]"
     },
     "execution_count": 16,
     "metadata": {},
     "output_type": "execute_result"
    }
   ],
   "source": [
    "sql = \"\"\"\n",
    "\t\tEXPLAIN SELECT * FROM customers WHERE state='FO';\n",
    "      \"\"\"\n",
    "engine.execute(sql).fetchall()"
   ],
   "metadata": {
    "collapsed": false,
    "pycharm": {
     "name": "#%%\n"
    }
   }
  },
  {
   "cell_type": "markdown",
   "source": [
    "Observe que há apenas 1 linha retornada e que o custo de configuração é 0, mas o custo total da consulta é 1661.\n",
    "\n",
    "4. Determine quantos valores de estado exclusivos existem, novamente usando o comando **EXPLAIN**:"
   ],
   "metadata": {
    "collapsed": false,
    "pycharm": {
     "name": "#%% md\n"
    }
   }
  },
  {
   "cell_type": "code",
   "execution_count": 17,
   "outputs": [
    {
     "data": {
      "text/plain": "[('HashAggregate  (cost=1661.00..1661.51 rows=51 width=3)',),\n ('  Group Key: state',),\n ('  ->  Seq Scan on customers  (cost=0.00..1536.00 rows=50000 width=3)',)]"
     },
     "execution_count": 17,
     "metadata": {},
     "output_type": "execute_result"
    }
   ],
   "source": [
    "sql = \"\"\"\n",
    "\t\tEXPLAIN SELECT DISTINCT state FROM customers;\n",
    "      \"\"\"\n",
    "engine.execute(sql).fetchall()"
   ],
   "metadata": {
    "collapsed": false,
    "pycharm": {
     "name": "#%%\n"
    }
   }
  },
  {
   "cell_type": "markdown",
   "source": [
    "Portanto, existem 51 valores exclusivos na coluna de estado.\n",
    "\n",
    "5. Crie um índice chamado **ix_state** usando a coluna de estado dos clientes:"
   ],
   "metadata": {
    "collapsed": false,
    "pycharm": {
     "name": "#%% md\n"
    }
   }
  },
  {
   "cell_type": "code",
   "execution_count": 18,
   "outputs": [
    {
     "data": {
      "text/plain": "<sqlalchemy.engine.cursor.LegacyCursorResult at 0x2df8fa05f70>"
     },
     "execution_count": 18,
     "metadata": {},
     "output_type": "execute_result"
    }
   ],
   "source": [
    "sql = \"\"\"\n",
    "\t\tCREATE INDEX ix_state ON customers(state);\n",
    "      \"\"\"\n",
    "engine.execute(sql)"
   ],
   "metadata": {
    "collapsed": false,
    "pycharm": {
     "name": "#%%\n"
    }
   }
  },
  {
   "cell_type": "markdown",
   "source": [
    "6. Execute novamente a instrução EXPLAIN da etapa 5:"
   ],
   "metadata": {
    "collapsed": false,
    "pycharm": {
     "name": "#%% md\n"
    }
   }
  },
  {
   "cell_type": "code",
   "execution_count": 21,
   "outputs": [
    {
     "data": {
      "text/plain": "[('Index Scan using ix_state on customers  (cost=0.29..8.30 rows=1 width=140)',),\n (\"  Index Cond: (state = 'FO'::text)\",)]"
     },
     "execution_count": 21,
     "metadata": {},
     "output_type": "execute_result"
    }
   ],
   "source": [
    "sql = \"\"\"\n",
    "\t\tEXPLAIN SELECT * FROM customers WHERE state='FO';\n",
    "      \"\"\"\n",
    "engine.execute(sql).fetchall()"
   ],
   "metadata": {
    "collapsed": false,
    "pycharm": {
     "name": "#%%\n"
    }
   }
  },
  {
   "cell_type": "markdown",
   "source": [
    "Observe que uma varredura de índice agora está sendo usada usando o índice que acabamos de criar na etapa 5. Também podemos ver que temos um custo de configuração diferente de zero (**0,29**), mas o custo total é muito reduzido, do anterior **1661** para apenas **8,31**! Este é o poder da varredura de índice.\n",
    "\n",
    "Agora, vamos ver um exemplo um pouco diferente, observando o tempo que leva para retornar uma pesquisa na coluna de **gênero**.\n",
    "\n",
    "7. Use o comando **EXPLAIN** para retornar o plano de consulta para uma pesquisa de todos os registros de homens no banco de dados:"
   ],
   "metadata": {
    "collapsed": false,
    "pycharm": {
     "name": "#%% md\n"
    }
   }
  },
  {
   "cell_type": "code",
   "execution_count": 22,
   "outputs": [
    {
     "data": {
      "text/plain": "[('Seq Scan on customers  (cost=0.00..1661.00 rows=25105 width=140)',),\n (\"  Filter: (gender = 'M'::text)\",)]"
     },
     "execution_count": 22,
     "metadata": {},
     "output_type": "execute_result"
    }
   ],
   "source": [
    "sql = \"\"\"\n",
    "\t\tEXPLAIN SELECT * FROM customers WHERE gender='M';\n",
    "      \"\"\"\n",
    "engine.execute(sql).fetchall()"
   ],
   "metadata": {
    "collapsed": false,
    "pycharm": {
     "name": "#%%\n"
    }
   }
  },
  {
   "cell_type": "markdown",
   "source": [
    "8. Crie um índice chamado **ix_gender** usando a coluna de **gênero** dos clientes:"
   ],
   "metadata": {
    "collapsed": false,
    "pycharm": {
     "name": "#%% md\n"
    }
   }
  },
  {
   "cell_type": "code",
   "execution_count": 6,
   "outputs": [
    {
     "data": {
      "text/plain": "<sqlalchemy.engine.cursor.LegacyCursorResult at 0x16b82452d60>"
     },
     "execution_count": 6,
     "metadata": {},
     "output_type": "execute_result"
    }
   ],
   "source": [
    "sql = \"\"\"\n",
    "\t\tCREATE INDEX ix_state ON customers(gender);\n",
    "      \"\"\"\n",
    "engine.execute(sql)"
   ],
   "metadata": {
    "collapsed": false,
    "pycharm": {
     "name": "#%%\n"
    }
   }
  },
  {
   "cell_type": "code",
   "execution_count": 7,
   "outputs": [
    {
     "data": {
      "text/plain": "[('Bitmap Heap Scan on customers  (cost=286.85..1636.67 rows=25105 width=140)',),\n (\"  Recheck Cond: (gender = 'M'::text)\",),\n ('  ->  Bitmap Index Scan on ix_state  (cost=0.00..280.58 rows=25105 width=0)',),\n (\"        Index Cond: (gender = 'M'::text)\",)]"
     },
     "execution_count": 7,
     "metadata": {},
     "output_type": "execute_result"
    }
   ],
   "source": [
    "sql = \"\"\"\n",
    "\t\tEXPLAIN SELECT * FROM customers WHERE gender='M';\n",
    "      \"\"\"\n",
    "engine.execute(sql).fetchall()"
   ],
   "metadata": {
    "collapsed": false,
    "pycharm": {
     "name": "#%%\n"
    }
   }
  },
  {
   "cell_type": "markdown",
   "source": [
    "Observe que o plano de consulta não mudou, apesar do uso da varredura de índice. Isso ocorre porque não há informações suficientes para criar uma árvore útil na coluna de gênero. Existem apenas dois valores possíveis, **M** e **F**. O índice de gênero essencialmente divide a informação em dois; um ramo para machos e outro para fêmeas. O índice não dividiu os dados em ramos da árvore o suficiente para obter qualquer benefício. O planejador ainda precisa varrer sequencialmente pelo menos metade dos dados e, portanto, não vale a pena a sobrecarga do índice. É por esse motivo que o planejador de consultas insiste em não usar o índice.\n",
    "\n",
    "11. Use EXPLAIN para retornar o plano de consulta, procurando latitudes menores que 38 graus e maiores que 30 graus:"
   ],
   "metadata": {
    "collapsed": false,
    "pycharm": {
     "name": "#%% md\n"
    }
   }
  },
  {
   "cell_type": "code",
   "execution_count": 8,
   "outputs": [
    {
     "data": {
      "text/plain": "[('Seq Scan on customers  (cost=0.00..1786.00 rows=17843 width=140)',),\n (\"  Filter: ((latitude < '38'::double precision) AND (latitude > '30'::double precision))\",)]"
     },
     "execution_count": 8,
     "metadata": {},
     "output_type": "execute_result"
    }
   ],
   "source": [
    "sql = \"\"\"\n",
    "\t\tEXPLAIN SELECT * FROM customers WHERE (latitude < 38) AND (latitude > 30);\n",
    "      \"\"\"\n",
    "engine.execute(sql).fetchall()"
   ],
   "metadata": {
    "collapsed": false,
    "pycharm": {
     "name": "#%%\n"
    }
   }
  },
  {
   "cell_type": "markdown",
   "source": [
    "12. Crie um índice chamado **ix_latitude** usando a coluna de latitude dos clientes:"
   ],
   "metadata": {
    "collapsed": false,
    "pycharm": {
     "name": "#%% md\n"
    }
   }
  },
  {
   "cell_type": "code",
   "execution_count": 11,
   "outputs": [
    {
     "data": {
      "text/plain": "<sqlalchemy.engine.cursor.LegacyCursorResult at 0x16b84309490>"
     },
     "execution_count": 11,
     "metadata": {},
     "output_type": "execute_result"
    }
   ],
   "source": [
    "sql = \"\"\"\n",
    "\t\tCREATE INDEX ix_latitude ON customers(latitude);\n",
    "      \"\"\"\n",
    "engine.execute(sql)"
   ],
   "metadata": {
    "collapsed": false,
    "pycharm": {
     "name": "#%%\n"
    }
   }
  },
  {
   "cell_type": "code",
   "execution_count": 12,
   "outputs": [
    {
     "data": {
      "text/plain": "[('Bitmap Heap Scan on customers  (cost=383.18..1686.83 rows=17843 width=140)',),\n (\"  Recheck Cond: ((latitude < '38'::double precision) AND (latitude > '30'::double precision))\",),\n ('  ->  Bitmap Index Scan on ix_latitude  (cost=0.00..378.72 rows=17843 width=0)',),\n (\"        Index Cond: ((latitude < '38'::double precision) AND (latitude > '30'::double precision))\",)]"
     },
     "execution_count": 12,
     "metadata": {},
     "output_type": "execute_result"
    }
   ],
   "source": [
    "sql = \"\"\"\n",
    "\t\tEXPLAIN SELECT * FROM customers WHERE (latitude < 38) AND (latitude > 30);\n",
    "      \"\"\"\n",
    "engine.execute(sql).fetchall()"
   ],
   "metadata": {
    "collapsed": false,
    "pycharm": {
     "name": "#%%\n"
    }
   }
  },
  {
   "cell_type": "markdown",
   "source": [
    "Podemos ver que o plano é muito mais complexo do que o anterior, com uma varredura de heap de bitmap e uma varredura de índice de bitmap sendo usadas. Abordaremos as varreduras de bitmap em breve, mas primeiro, vamos obter mais informações adicionando o comando **ANALYZE** a **EXPLAIN**.\n",
    "\n",
    "14. Use **EXPLAIN ANALYZE** para consultar o plano de conteúdo da tabela de clientes com valores de latitude entre 30 e 38:"
   ],
   "metadata": {
    "collapsed": false,
    "pycharm": {
     "name": "#%% md\n"
    }
   }
  },
  {
   "cell_type": "code",
   "execution_count": 13,
   "outputs": [
    {
     "data": {
      "text/plain": "[('Bitmap Heap Scan on customers  (cost=383.18..1686.83 rows=17843 width=140) (actual time=1.568..3.988 rows=17896 loops=1)',),\n (\"  Recheck Cond: ((latitude < '38'::double precision) AND (latitude > '30'::double precision))\",),\n ('  Heap Blocks: exact=1036',),\n ('  ->  Bitmap Index Scan on ix_latitude  (cost=0.00..378.72 rows=17843 width=0) (actual time=1.464..1.464 rows=17896 loops=1)',),\n (\"        Index Cond: ((latitude < '38'::double precision) AND (latitude > '30'::double precision))\",),\n ('Planning Time: 0.120 ms',),\n ('Execution Time: 4.327 ms',)]"
     },
     "execution_count": 13,
     "metadata": {},
     "output_type": "execute_result"
    }
   ],
   "source": [
    "sql = \"\"\"\n",
    "\t\tEXPLAIN ANALYZE SELECT * FROM customers WHERE (latitude < 38) AND (latitude > 30);\n",
    "\t  \"\"\"\n",
    "engine.execute(sql).fetchall()"
   ],
   "metadata": {
    "collapsed": false,
    "pycharm": {
     "name": "#%%\n"
    }
   }
  },
  {
   "cell_type": "markdown",
   "source": [
    "Com essas informações extras, podemos ver que há **0,120 ms** de tempo de planejamento e **4,327 ms** de tempo de execução, com a varredura de índice levando quase o mesmo tempo para executar que a varredura de calor de bitmap leva para iniciar.\n",
    "\n",
    "15. Agora, vamos criar outro índice onde a latitude está entre 30 e 38 na tabela de clientes:"
   ],
   "metadata": {
    "collapsed": false,
    "pycharm": {
     "name": "#%% md\n"
    }
   }
  },
  {
   "cell_type": "code",
   "execution_count": 14,
   "outputs": [
    {
     "data": {
      "text/plain": "<sqlalchemy.engine.cursor.LegacyCursorResult at 0x16b84364460>"
     },
     "execution_count": 14,
     "metadata": {},
     "output_type": "execute_result"
    }
   ],
   "source": [
    "sql = \"\"\"\n",
    "\t\tCREATE INDEX ix_latitude_less ON customers(latitude) WHERE (latitude < 38) and (latitude > 30);\n",
    "\t  \"\"\"\n",
    "engine.execute(sql)"
   ],
   "metadata": {
    "collapsed": false,
    "pycharm": {
     "name": "#%%\n"
    }
   }
  },
  {
   "cell_type": "code",
   "execution_count": 16,
   "outputs": [
    {
     "data": {
      "text/plain": "[('Bitmap Heap Scan on customers  (cost=297.96..1601.61 rows=17843 width=140) (actual time=1.321..3.241 rows=17896 loops=1)',),\n (\"  Recheck Cond: ((latitude < '38'::double precision) AND (latitude > '30'::double precision))\",),\n ('  Heap Blocks: exact=1036',),\n ('  ->  Bitmap Index Scan on ix_latitude_less  (cost=0.00..293.50 rows=17843 width=0) (actual time=1.217..1.218 rows=17896 loops=1)',),\n ('Planning Time: 0.469 ms',),\n ('Execution Time: 3.616 ms',)]"
     },
     "execution_count": 16,
     "metadata": {},
     "output_type": "execute_result"
    }
   ],
   "source": [
    "sql = \"\"\"\n",
    "\t\tEXPLAIN ANALYZE SELECT * FROM customers WHERE (latitude < 38) AND (latitude > 30);\n",
    "\t  \"\"\"\n",
    "engine.execute(sql).fetchall()"
   ],
   "metadata": {
    "collapsed": false,
    "pycharm": {
     "name": "#%%\n"
    }
   }
  },
  {
   "cell_type": "markdown",
   "source": [
    "Usando esse índice mais direcionado, conseguimos reduzir 0,681 ms do tempo de execução, ao custo de 0,3 ms adicionais de tempo de planejamento. Assim, extraímos algum desempenho adicional de nossa consulta, pois nossos índices tornaram o processo de pesquisa mais eficiente. Talvez tenhamos que pagar um custo inicial para criar o índice, mas, uma vez criado, as consultas repetidas podem ser executadas mais rapidamente.\n",
    "\n",
    "### Atividade 11: Implementando verificações de índice\n",
    "Nesta atividade, determinaremos se as varreduras de índice podem ser usadas para reduzir o tempo de consulta. Depois de criar nosso sistema de relatórios de clientes para o departamento de marketing na Atividade 10: Planejamento de consultas, recebemos outra solicitação para permitir que os registros sejam identificados por seu endereço IP ou pelos nomes de clientes associados. Sabemos que existem muitos endereços IP diferentes e precisamos de pesquisas de alto desempenho. Planeje as consultas necessárias para pesquisar registros por endereço IP, bem como para determinados clientes com o sufixo Jr em seu nome.\n",
    "Aqui estão os passos a seguir:\n",
    "1. Use os comandos EXPLAIN e ANALYZE para criar o perfil do plano de consulta para pesquisar todos os registros com um endereço IP de 18.131.58.65. Quanto tempo leva para planejar e executar a consulta?\n",
    "2. Crie um índice genérico com base na coluna de endereço IP.\n",
    "3. Execute novamente a consulta da etapa 1. Quanto tempo leva para planejar e executar a consulta?\n",
    "4. Crie um índice mais detalhado com base na coluna de endereço IP com a condição de que o endereço IP seja 18.131.58.65.\n",
    "\n",
    "5. Execute novamente a consulta da etapa 1. Quanto tempo leva para planejar e executar a consulta? Quais são as diferenças entre cada uma dessas consultas?\n",
    "6. Use os comandos EXPLAIN e ANALYZE para traçar o perfil do plano de consulta para pesquisar todos os registros com o sufixo Jr. Quanto tempo leva para planejar e executar a consulta?\n",
    "7. Crie um índice genérico com base na coluna de endereço do sufixo.\n",
    "8. Execute novamente a consulta da etapa 6. Quanto tempo leva para planejar e executar a consulta?"
   ],
   "metadata": {
    "collapsed": false,
    "pycharm": {
     "name": "#%% md\n"
    }
   }
  },
  {
   "cell_type": "code",
   "execution_count": 17,
   "outputs": [
    {
     "data": {
      "text/plain": "[('Seq Scan on customers  (cost=0.00..1661.00 rows=1 width=140) (actual time=0.022..5.756 rows=1 loops=1)',),\n (\"  Filter: (ip_address = '18.131.58.65'::text)\",),\n ('  Rows Removed by Filter: 49999',),\n ('Planning Time: 0.141 ms',),\n ('Execution Time: 5.785 ms',)]"
     },
     "execution_count": 17,
     "metadata": {},
     "output_type": "execute_result"
    }
   ],
   "source": [
    "# Nr 1\n",
    "sql = \"\"\"\n",
    "\t\tEXPLAIN ANALYZE SELECT * FROM customers WHERE ip_address = '18.131.58.65';\n",
    "\t  \"\"\"\n",
    "engine.execute(sql).fetchall()"
   ],
   "metadata": {
    "collapsed": false,
    "pycharm": {
     "name": "#%%\n"
    }
   }
  },
  {
   "cell_type": "code",
   "execution_count": 19,
   "outputs": [
    {
     "data": {
      "text/plain": "[('Index Scan using customers_ip_address_idx2 on customers  (cost=0.29..8.31 rows=1 width=140) (actual time=0.026..0.026 rows=1 loops=1)',),\n (\"  Index Cond: (ip_address = '18.131.58.65'::text)\",),\n ('Planning Time: 0.396 ms',),\n ('Execution Time: 0.036 ms',)]"
     },
     "execution_count": 19,
     "metadata": {},
     "output_type": "execute_result"
    }
   ],
   "source": [
    "# Nr 2\n",
    "sql = \"\"\"\n",
    "      CREATE INDEX ON customers(ip_address);\n",
    "      \"\"\"\n",
    "engine.execute(sql)\n",
    "\n",
    "# Nr 3\n",
    "sql = \"\"\"\n",
    "      EXPLAIN ANALYZE SELECT * FROM customers WHERE ip_address = '18.131.58.65';\n",
    "      \"\"\"\n",
    "engine.execute(sql).fetchall()"
   ],
   "metadata": {
    "collapsed": false,
    "pycharm": {
     "name": "#%%\n"
    }
   }
  },
  {
   "cell_type": "code",
   "execution_count": 20,
   "outputs": [
    {
     "data": {
      "text/plain": "[('Index Scan using ix_ip_where on customers  (cost=0.13..8.14 rows=1 width=140) (actual time=0.015..0.015 rows=1 loops=1)',),\n ('Planning Time: 0.279 ms',),\n ('Execution Time: 0.024 ms',)]"
     },
     "execution_count": 20,
     "metadata": {},
     "output_type": "execute_result"
    }
   ],
   "source": [
    "# Nr 4\n",
    "sql = \"\"\"\n",
    "      CREATE INDEX ix_ip_where ON customers(ip_address) WHERE ip_address = '18.131.58.65';\n",
    "      \"\"\"\n",
    "\n",
    "engine.execute(sql)\n",
    "\n",
    "# Nr 5\n",
    "sql = \"\"\"\n",
    "      EXPLAIN ANALYZE SELECT * FROM customers WHERE ip_address = '18.131.58.65';\n",
    "      \"\"\"\n",
    "engine.execute(sql).fetchall()\n"
   ],
   "metadata": {
    "collapsed": false,
    "pycharm": {
     "name": "#%%\n"
    }
   }
  },
  {
   "cell_type": "code",
   "execution_count": 21,
   "outputs": [
    {
     "data": {
      "text/plain": "[('Seq Scan on customers  (cost=0.00..1661.00 rows=85 width=140) (actual time=0.017..4.030 rows=102 loops=1)',),\n (\"  Filter: (suffix = 'Jr'::text)\",),\n ('  Rows Removed by Filter: 49898',),\n ('Planning Time: 0.193 ms',),\n ('Execution Time: 4.055 ms',)]"
     },
     "execution_count": 21,
     "metadata": {},
     "output_type": "execute_result"
    }
   ],
   "source": [
    "# Nr 6\n",
    "sql = \"\"\"\n",
    "      EXPLAIN ANALYZE SELECT * FROM customers WHERE suffix = 'Jr';\n",
    "      \"\"\"\n",
    "\n",
    "engine.execute(sql).fetchall()\n"
   ],
   "metadata": {
    "collapsed": false,
    "pycharm": {
     "name": "#%%\n"
    }
   }
  },
  {
   "cell_type": "code",
   "execution_count": 22,
   "outputs": [
    {
     "data": {
      "text/plain": "[('Bitmap Heap Scan on customers  (cost=4.95..264.80 rows=85 width=140) (actual time=0.046..0.100 rows=102 loops=1)',),\n (\"  Recheck Cond: (suffix = 'Jr'::text)\",),\n ('  Heap Blocks: exact=100',),\n ('  ->  Bitmap Index Scan on ix_jr  (cost=0.00..4.93 rows=85 width=0) (actual time=0.032..0.032 rows=102 loops=1)',),\n (\"        Index Cond: (suffix = 'Jr'::text)\",),\n ('Planning Time: 0.278 ms',),\n ('Execution Time: 0.127 ms',)]"
     },
     "execution_count": 22,
     "metadata": {},
     "output_type": "execute_result"
    }
   ],
   "source": [
    "# Nr 7\n",
    "sql = \"\"\"\n",
    "      CREATE INDEX ix_jr ON customers(suffix);\n",
    "      \"\"\"\n",
    "\n",
    "engine.execute(sql)\n",
    "\n",
    "# Nr 8\n",
    "sql = \"\"\"\n",
    "      EXPLAIN ANALYZE SELECT * FROM customers WHERE suffix = 'Jr';\n",
    "      \"\"\"\n",
    "\n",
    "engine.execute(sql).fetchall()"
   ],
   "metadata": {
    "collapsed": false,
    "pycharm": {
     "name": "#%%\n"
    }
   }
  },
  {
   "cell_type": "markdown",
   "source": [
    "### Índice de hash\n",
    "O tipo de indexação final que abordaremos é o índice de hash. O índice de hash só recentemente ganhou estabilidade como um recurso no PostgreSQL, com versões anteriores emitindo avisos de que o recurso não é seguro e relatando que o método normalmente não é tão eficiente quanto os índices de árvore B (*B-tree*). No momento da escrita, o recurso de índice de hash é relativamente limitado nas instruções comparativas que pode executar, sendo a igualdade (=) a única disponível. Então, dado que o recurso é apenas estável e um pouco limitado em opções de uso, por que alguém o usaria? Bem, os índices de hash são capazes de descrever grandes conjuntos de dados (na ordem de dezenas de milhares de linhas ou mais) usando muito poucos dados, permitindo que mais dados sejam mantidos na memória e reduzindo o tempo de pesquisa para algumas consultas. Isso é particularmente importante para bancos de dados com pelo menos vários gigabytes de tamanho.\n",
    "\n",
    "Um índice de hash é um método de indexação que utiliza uma função de hash para obter seus benefícios de desempenho. Uma função de hash é uma função matemática que recebe dados ou uma série de dados e retorna um comprimento exclusivo de caracteres alfanuméricos, dependendo de quais informações foram fornecidas e do código de hash exclusivo usado. Digamos que tivéssemos um cliente chamado \"Josephine Marquez\". Poderíamos passar essas informações para uma função de hash, que poderia produzir um resultado de hash como 01f38e. Digamos que também tivéssemos registros do marido de Josephine, Julio; o hash correspondente para Julio pode ser 43eb38a. Um mapa de hash usa um relacionamento de par chave-valor para localizar dados. Poderíamos (mas não estamos limitados a) usar os valores de uma função hash para fornecer a chave, usando os dados contidos na linha correspondente do banco de dados como valor. Desde que a chave seja exclusiva do valor, podemos acessar rapidamente as informações de que precisamos. Esse método também pode reduzir o tamanho geral do índice na memória, se apenas os hashes correspondentes forem armazenados, reduzindo drasticamente o tempo de pesquisa de uma consulta.\n",
    "\n",
    "O exemplo a seguir mostra como criar um índice de hash:\n",
    "\n",
    "`sqlda=# CREATE INDEX ix_gender ON customers USING HASH(gender);`\n",
    "\n",
    "Você deve se lembrar de que o planejador de consultas pode ignorar os índices criados se considerar que eles não são significativamente mais rápidos para a consulta existente ou simplesmente inadequados. Como a varredura de hash é um pouco limitada em uso, pode não ser incomum que uma pesquisa diferente ignore os índices."
   ],
   "metadata": {
    "collapsed": false,
    "pycharm": {
     "name": "#%% md\n"
    }
   }
  },
  {
   "cell_type": "markdown",
   "source": [
    "### Exercício 28: Gerando vários índices de hash para investigar o desempenho\n",
    "Neste exercício, geraremos vários índices de hash e investigaremos os potenciais aumentos de desempenho que podem ser obtidos com o uso deles. Iniciaremos o exercício executando novamente algumas das consultas dos exercícios anteriores e comparando os tempos de execução:\n",
    "\n",
    "1. Elimine todos os índices existentes usando o comando DROP INDEX:"
   ],
   "metadata": {
    "collapsed": false,
    "pycharm": {
     "name": "#%% md\n"
    }
   }
  },
  {
   "cell_type": "code",
   "execution_count": 29,
   "outputs": [
    {
     "data": {
      "text/plain": "<sqlalchemy.engine.cursor.LegacyCursorResult at 0x16b8474ddc0>"
     },
     "execution_count": 29,
     "metadata": {},
     "output_type": "execute_result"
    }
   ],
   "source": [
    "sql = \"\"\"\n",
    "      DROP INDEX idx_gender;\n",
    "      \"\"\"\n",
    "\n",
    "engine.execute(sql)"
   ],
   "metadata": {
    "collapsed": false,
    "pycharm": {
     "name": "#%%\n"
    }
   }
  },
  {
   "cell_type": "markdown",
   "source": [],
   "metadata": {
    "collapsed": false,
    "pycharm": {
     "name": "#%% md\n"
    }
   }
  },
  {
   "cell_type": "code",
   "execution_count": 30,
   "outputs": [
    {
     "data": {
      "text/plain": "[('Seq Scan on customers  (cost=0.00..1661.00 rows=25105 width=140) (actual time=0.014..6.228 rows=24956 loops=1)',),\n (\"  Filter: (gender = 'M'::text)\",),\n ('  Rows Removed by Filter: 25044',),\n ('Planning Time: 0.424 ms',),\n ('Execution Time: 6.672 ms',)]"
     },
     "execution_count": 30,
     "metadata": {},
     "output_type": "execute_result"
    }
   ],
   "source": [
    "sql = \"\"\"\n",
    "      EXPLAIN ANALYZE SELECT * FROM customers WHERE gender='M';\n",
    "      \"\"\"\n",
    "\n",
    "engine.execute(sql).fetchall()"
   ],
   "metadata": {
    "collapsed": false,
    "pycharm": {
     "name": "#%%\n"
    }
   }
  },
  {
   "cell_type": "markdown",
   "source": [
    "3. Crie um índice de árvore B na coluna de gênero e repita a consulta para determinar o desempenho usando o índice padrão:"
   ],
   "metadata": {
    "collapsed": false,
    "pycharm": {
     "name": "#%% md\n"
    }
   }
  },
  {
   "cell_type": "code",
   "execution_count": 32,
   "outputs": [
    {
     "data": {
      "text/plain": "[('Bitmap Heap Scan on customers  (cost=286.85..1636.67 rows=25105 width=140) (actual time=0.678..2.822 rows=24956 loops=1)',),\n (\"  Recheck Cond: (gender = 'M'::text)\",),\n ('  Heap Blocks: exact=1036',),\n ('  ->  Bitmap Index Scan on ix_gender  (cost=0.00..280.58 rows=25105 width=0) (actual time=0.589..0.589 rows=24956 loops=1)',),\n (\"        Index Cond: (gender = 'M'::text)\",),\n ('Planning Time: 0.320 ms',),\n ('Execution Time: 3.298 ms',)]"
     },
     "execution_count": 32,
     "metadata": {},
     "output_type": "execute_result"
    }
   ],
   "source": [
    "sql = \"\"\"\n",
    "      CREATE INDEX ix_gender ON customers USING btree(gender);\n",
    "      \"\"\"\n",
    "\n",
    "engine.execute(sql)\n",
    "\n",
    "# Repetindo a Query\n",
    "sql = \"\"\"\n",
    "      EXPLAIN ANALYZE SELECT * FROM customers WHERE gender='M';\n",
    "      \"\"\"\n",
    "\n",
    "engine.execute(sql).fetchall()"
   ],
   "metadata": {
    "collapsed": false,
    "pycharm": {
     "name": "#%%\n"
    }
   }
  },
  {
   "cell_type": "markdown",
   "source": [
    "Podemos ver aqui que o planejador de consulta não selecionou o índice da árvore B, mas sim a varredura sequencial. Os custos das varreduras não diferem, mas as estimativas de tempo de planejamento e execução foram modificadas. Isso não é inesperado, pois essas medidas são exatamente isso – estimativas baseadas em uma variedade de condições diferentes, como dados na memória e restrições de E/S.\n",
    "\n",
    "4. Repita a consulta a seguir pelo menos cinco vezes manualmente e observe as estimativas de tempo após cada execução:"
   ],
   "metadata": {
    "collapsed": false,
    "pycharm": {
     "name": "#%% md\n"
    }
   }
  },
  {
   "cell_type": "code",
   "execution_count": 33,
   "outputs": [
    {
     "data": {
      "text/plain": "[('Bitmap Heap Scan on customers  (cost=286.85..1636.67 rows=25105 width=140) (actual time=0.928..5.373 rows=24956 loops=1)',),\n (\"  Recheck Cond: (gender = 'M'::text)\",),\n ('  Heap Blocks: exact=1036',),\n ('  ->  Bitmap Index Scan on ix_gender  (cost=0.00..280.58 rows=25105 width=0) (actual time=0.808..0.808 rows=24956 loops=1)',),\n (\"        Index Cond: (gender = 'M'::text)\",),\n ('Planning Time: 0.161 ms',),\n ('Execution Time: 5.965 ms',)]"
     },
     "execution_count": 33,
     "metadata": {},
     "output_type": "execute_result"
    }
   ],
   "source": [
    "sql = \"\"\"\n",
    "      EXPLAIN ANALYZE SELECT * FROM customers WHERE gender='M';\n",
    "      \"\"\"\n",
    "\n",
    "engine.execute(sql).fetchall()"
   ],
   "metadata": {
    "collapsed": false,
    "pycharm": {
     "name": "#%%\n"
    }
   }
  },
  {
   "cell_type": "markdown",
   "source": [
    "5. Elimine ou remova o índice:"
   ],
   "metadata": {
    "collapsed": false,
    "pycharm": {
     "name": "#%% md\n"
    }
   }
  },
  {
   "cell_type": "code",
   "execution_count": 5,
   "outputs": [
    {
     "data": {
      "text/plain": "<sqlalchemy.engine.cursor.LegacyCursorResult at 0x24507294040>"
     },
     "execution_count": 5,
     "metadata": {},
     "output_type": "execute_result"
    }
   ],
   "source": [
    "# Nr 5 e 6\n",
    "sql = \"\"\"\n",
    "      DROP INDEX ix_gender;\n",
    "      \"\"\"\n",
    "\n",
    "engine.execute(sql)\n",
    "\n",
    "sql = \"\"\"\n",
    "      CREATE INDEX ix_gender ON customers USING HASH(gender);\n",
    "      \"\"\"\n",
    "engine.execute(sql)"
   ],
   "metadata": {
    "collapsed": false,
    "pycharm": {
     "name": "#%%\n"
    }
   }
  },
  {
   "cell_type": "code",
   "execution_count": 6,
   "outputs": [
    {
     "data": {
      "text/plain": "[('Seq Scan on customers  (cost=0.00..1661.00 rows=25105 width=140) (actual time=0.020..4.462 rows=24956 loops=1)',),\n (\"  Filter: (gender = 'M'::text)\",),\n ('  Rows Removed by Filter: 25044',),\n ('Planning Time: 0.405 ms',),\n ('Execution Time: 4.870 ms',)]"
     },
     "execution_count": 6,
     "metadata": {},
     "output_type": "execute_result"
    }
   ],
   "source": [
    "# Nr 7\n",
    "sql = \"\"\"\n",
    "      EXPLAIN ANALYZE SELECT * FROM customers WHERE gender='M';\n",
    "      \"\"\"\n",
    "engine.execute(sql).fetchall()\n"
   ],
   "metadata": {
    "collapsed": false,
    "pycharm": {
     "name": "#%%\n"
    }
   }
  },
  {
   "cell_type": "markdown",
   "source": [
    "Assim como o índice de árvore B, não houve benefício em usar o índice de hash na coluna de gênero e, portanto, não foi usado pelo planejador.\n",
    "\n",
    "8. Use o comando **EXPLAIN ANALYZE** para traçar o perfil do desempenho da consulta que seleciona todos os clientes em que o estado é FO:"
   ],
   "metadata": {
    "collapsed": false,
    "pycharm": {
     "name": "#%% md\n"
    }
   }
  },
  {
   "cell_type": "code",
   "execution_count": 7,
   "outputs": [
    {
     "data": {
      "text/plain": "[('Seq Scan on customers  (cost=0.00..1661.00 rows=1 width=140) (actual time=5.136..5.137 rows=0 loops=1)',),\n (\"  Filter: (state = 'FO'::text)\",),\n ('  Rows Removed by Filter: 50000',),\n ('Planning Time: 0.068 ms',),\n ('Execution Time: 5.149 ms',)]"
     },
     "execution_count": 7,
     "metadata": {},
     "output_type": "execute_result"
    }
   ],
   "source": [
    "# Nr 8\n",
    "sql = \"\"\"\n",
    "      EXPLAIN ANALYZE SELECT * FROM customers WHERE state='FO';\n",
    "      \"\"\"\n",
    "\n",
    "engine.execute(sql).fetchall()"
   ],
   "metadata": {
    "collapsed": false,
    "pycharm": {
     "name": "#%%\n"
    }
   }
  },
  {
   "cell_type": "markdown",
   "source": [
    "9. Crie um índice de árvore B na coluna de estado da tabela de clientes e repita a criação de perfil de consulta:"
   ],
   "metadata": {
    "collapsed": false,
    "pycharm": {
     "name": "#%% md\n"
    }
   }
  },
  {
   "cell_type": "code",
   "execution_count": 10,
   "outputs": [
    {
     "data": {
      "text/plain": "[('Index Scan using ix_state on customers  (cost=0.29..8.30 rows=1 width=140) (actual time=0.029..0.029 rows=0 loops=1)',),\n (\"  Index Cond: (state = 'FO'::text)\",),\n ('Planning Time: 0.483 ms',),\n ('Execution Time: 0.042 ms',)]"
     },
     "execution_count": 10,
     "metadata": {},
     "output_type": "execute_result"
    }
   ],
   "source": [
    "# Nr 9\n",
    "sql = \"\"\"\n",
    "      CREATE INDEX ix_state ON customers USING BTREE(state);\n",
    "      \"\"\"\n",
    "engine.execute(sql)\n",
    "\n",
    "sql = \"\"\"\n",
    "      EXPLAIN ANALYZE SELECT * FROM customers WHERE state='FO';\n",
    "      \"\"\"\n",
    "\n",
    "engine.execute(sql).fetchall()"
   ],
   "metadata": {
    "collapsed": false,
    "pycharm": {
     "name": "#%%\n"
    }
   }
  },
  {
   "cell_type": "markdown",
   "source": [
    "Aqui, podemos ver um aumento significativo de desempenho devido ao índice B-tree com um pequeno custo de configuração. Como a verificação de hash é executada? Dado que o tempo de execução caiu de 5,149 ms para **0,042 ms**, é razoável concluir que o aumento do custo de planejamento aumentou em aproximadamente 50%.\n",
    "\n",
    "10. Elimine o índice ix_state B-tree e crie uma varredura de hash:"
   ],
   "metadata": {
    "collapsed": false,
    "pycharm": {
     "name": "#%% md\n"
    }
   }
  },
  {
   "cell_type": "code",
   "execution_count": 11,
   "outputs": [
    {
     "data": {
      "text/plain": "<sqlalchemy.engine.cursor.LegacyCursorResult at 0x245072b1760>"
     },
     "execution_count": 11,
     "metadata": {},
     "output_type": "execute_result"
    }
   ],
   "source": [
    "sql = \"\"\"\n",
    "      DROP INDEX ix_state;\n",
    "      \"\"\"\n",
    "engine.execute(sql)\n",
    "\n",
    "sql = \"\"\"\n",
    "      CREATE INDEX ix_state ON customers USING HASH (state);\n",
    "      \"\"\"\n",
    "\n",
    "engine.execute(sql)"
   ],
   "metadata": {
    "collapsed": false,
    "pycharm": {
     "name": "#%%\n"
    }
   }
  },
  {
   "cell_type": "markdown",
   "source": [
    "11. Use **EXPLAIN e ANALYZE** para traçar o perfil do desempenho da varredura de hash:"
   ],
   "metadata": {
    "collapsed": false,
    "pycharm": {
     "name": "#%% md\n"
    }
   }
  },
  {
   "cell_type": "code",
   "execution_count": 12,
   "outputs": [
    {
     "data": {
      "text/plain": "[('Index Scan using ix_state on customers  (cost=0.00..8.02 rows=1 width=140) (actual time=0.015..0.015 rows=0 loops=1)',),\n (\"  Index Cond: (state = 'FO'::text)\",),\n ('Planning Time: 0.281 ms',),\n ('Execution Time: 0.027 ms',)]"
     },
     "execution_count": 12,
     "metadata": {},
     "output_type": "execute_result"
    }
   ],
   "source": [
    "sql = \"\"\"\n",
    "      EXPLAIN ANALYZE SELECT * FROM customers WHERE state='FO';\n",
    "      \"\"\"\n",
    "\n",
    "engine.execute(sql).fetchall()"
   ],
   "metadata": {
    "collapsed": false,
    "pycharm": {
     "name": "#%%\n"
    }
   }
  },
  {
   "cell_type": "markdown",
   "source": [
    "Podemos ver que, para esta consulta específica, um índice de hash é particularmente eficaz, reduzindo o tempo de planejamento/configuração e o custo do índice B-tree, além de reduzir o tempo de execução para menos de 1 ms de aproximadamente 25 ms.\n",
    "\n",
    "Neste exercício, usamos índices de hash para descobrir a eficácia de uma consulta específica. Vimos como o tempo de execução diminui ao usar um índice de hash em uma consulta."
   ],
   "metadata": {
    "collapsed": false,
    "pycharm": {
     "name": "#%% md\n"
    }
   }
  },
  {
   "cell_type": "markdown",
   "source": [
    "### Atividade 12: Implementando índices de hash\n",
    "Nesta atividade, investigaremos o uso de índices de hash para melhorar o desempenho usando a tabela de emails do banco de dados **sqlda**. Recebemos outra solicitação do departamento de marketing. Desta vez, eles gostariam que analisássemos o desempenho de uma campanha de email marketing. Dado que a taxa de sucesso das campanhas de e-mail é baixa, muitos e-mails diferentes são enviados para muitos clientes ao mesmo tempo. Use os comandos **EXPLAIN** e **ANALYZE** para determinar o tempo e o custo de planejamento, bem como o tempo e o custo de execução, da seleção de todas as linhas cujo assunto do e-mail seja **Economias de feriado chocantes em scooters elétricas** (*Shocking Holiday Savings on Electric Scooters*):\n",
    "1. Use os comandos **EXPLAIN** e **ANALYZE** para determinar o tempo e o custo de planejamento, bem como o tempo e o custo de execução, de selecionar todas as linhas em que o assunto do e-mail seja *Shocking Holiday Savings on Electric Scooters* na primeira consulta e na *Black Friday. Green Cars.* na segunda consulta.\n",
    "2. Crie uma verificação de hash na coluna **email_subject**.\n",
    "3. Repita a etapa 1. Compare a saída do planejador de consulta sem o índice de hash com o índice de hash. Que efeito a varredura de hash teve no desempenho das duas consultas?\n",
    "4. Crie uma verificação de hash na coluna **customer_id**.\n",
    "5. Use **EXPLAIN** e **ANALYZE** para estimar quanto tempo levaria para selecionar todas as linhas com um valor **customer_id** maior que 100. Que tipo de verificação foi usada e por quê?"
   ],
   "metadata": {
    "collapsed": false,
    "pycharm": {
     "name": "#%% md\n"
    }
   }
  },
  {
   "cell_type": "code",
   "execution_count": 16,
   "outputs": [
    {
     "data": {
      "text/plain": "[('Seq Scan on emails  (cost=0.00..10651.98 rows=20741 width=79) (actual time=6.466..44.951 rows=19873 loops=1)',),\n (\"  Filter: (email_subject = 'Shocking Holiday Savings On Electric Scooters'::text)\",),\n ('  Rows Removed by Filter: 398285',),\n ('Planning Time: 0.056 ms',),\n ('Execution Time: 45.340 ms',)]"
     },
     "execution_count": 16,
     "metadata": {},
     "output_type": "execute_result"
    }
   ],
   "source": [
    "# Nr 1 (Primeira Consulta)\n",
    "sql = \"\"\"\n",
    "      EXPLAIN ANALYZE SELECT * FROM emails WHERE email_subject='Shocking Holiday Savings On Electric Scooters';\n",
    "      \"\"\"\n",
    "\n",
    "engine.execute(sql).fetchall()"
   ],
   "metadata": {
    "collapsed": false,
    "pycharm": {
     "name": "#%%\n"
    }
   }
  },
  {
   "cell_type": "code",
   "execution_count": 17,
   "outputs": [
    {
     "data": {
      "text/plain": "[('Seq Scan on emails  (cost=0.00..10651.98 rows=40533 width=79) (actual time=19.327..38.069 rows=41399 loops=1)',),\n (\"  Filter: (email_subject = 'Black Friday. Green Cars.'::text)\",),\n ('  Rows Removed by Filter: 376759',),\n ('Planning Time: 0.057 ms',),\n ('Execution Time: 38.718 ms',)]"
     },
     "execution_count": 17,
     "metadata": {},
     "output_type": "execute_result"
    }
   ],
   "source": [
    "# Nr 1 (Segunda Consulta)\n",
    "sql = \"\"\"\n",
    "      EXPLAIN ANALYZE SELECT * FROM emails WHERE email_subject='Black Friday. Green Cars.';\n",
    "      \"\"\"\n",
    "\n",
    "engine.execute(sql).fetchall()"
   ],
   "metadata": {
    "collapsed": false,
    "pycharm": {
     "name": "#%%\n"
    }
   }
  },
  {
   "cell_type": "code",
   "execution_count": 18,
   "outputs": [
    {
     "data": {
      "text/plain": "<sqlalchemy.engine.cursor.LegacyCursorResult at 0x24505525fa0>"
     },
     "execution_count": 18,
     "metadata": {},
     "output_type": "execute_result"
    }
   ],
   "source": [
    "# Nr 2 - Criando uma varregura Hash para o campo email\n",
    "\n",
    "sql = \"\"\"\n",
    "      CREATE INDEX ix_email_subject ON emails USING HASH(email_subject);\n",
    "      \"\"\"\n",
    "\n",
    "engine.execute(sql)"
   ],
   "metadata": {
    "collapsed": false,
    "pycharm": {
     "name": "#%%\n"
    }
   }
  },
  {
   "cell_type": "code",
   "execution_count": 25,
   "outputs": [
    {
     "data": {
      "text/plain": "[('Bitmap Heap Scan on emails  (cost=668.74..6353.01 rows=20741 width=79) (actual time=0.413..2.454 rows=19873 loops=1)',),\n (\"  Recheck Cond: (email_subject = 'Shocking Holiday Savings On Electric Scooters'::text)\",),\n ('  Heap Blocks: exact=289',),\n ('  ->  Bitmap Index Scan on ix_email_subject  (cost=0.00..663.56 rows=20741 width=0) (actual time=0.386..0.386 rows=19873 loops=1)',),\n (\"        Index Cond: (email_subject = 'Shocking Holiday Savings On Electric Scooters'::text)\",),\n ('Planning Time: 0.061 ms',),\n ('Execution Time: 2.774 ms',)]"
     },
     "execution_count": 25,
     "metadata": {},
     "output_type": "execute_result"
    }
   ],
   "source": [
    "# Nr 3 Repita o passo 1 e compare as saídas (verá que reduziu muito os parâmetros de velocidade)\n",
    "sql = \"\"\"\n",
    "      EXPLAIN ANALYZE SELECT * FROM emails WHERE email_subject='Shocking Holiday Savings On Electric Scooters';\n",
    "      \"\"\"\n",
    "\n",
    "engine.execute(sql).fetchall()"
   ],
   "metadata": {
    "collapsed": false,
    "pycharm": {
     "name": "#%%\n"
    }
   }
  },
  {
   "cell_type": "code",
   "execution_count": 27,
   "outputs": [
    {
     "data": {
      "text/plain": "[('Bitmap Heap Scan on emails  (cost=1306.13..7237.79 rows=40533 width=79) (actual time=0.881..4.551 rows=41399 loops=1)',),\n (\"  Recheck Cond: (email_subject = 'Black Friday. Green Cars.'::text)\",),\n ('  Heap Blocks: exact=531',),\n ('  ->  Bitmap Index Scan on ix_email_subject  (cost=0.00..1296.00 rows=40533 width=0) (actual time=0.837..0.837 rows=41399 loops=1)',),\n (\"        Index Cond: (email_subject = 'Black Friday. Green Cars.'::text)\",),\n ('Planning Time: 0.065 ms',),\n ('Execution Time: 5.183 ms',)]"
     },
     "execution_count": 27,
     "metadata": {},
     "output_type": "execute_result"
    }
   ],
   "source": [
    "# Nr 3. Segunda consulta!!\n",
    "sql = \"\"\"\n",
    "      EXPLAIN ANALYZE SELECT * FROM emails WHERE email_subject='Black Friday. Green Cars.';\n",
    "      \"\"\"\n",
    "\n",
    "engine.execute(sql).fetchall()"
   ],
   "metadata": {
    "collapsed": false,
    "pycharm": {
     "name": "#%%\n"
    }
   }
  },
  {
   "cell_type": "code",
   "execution_count": 28,
   "outputs": [
    {
     "data": {
      "text/plain": "<sqlalchemy.engine.cursor.LegacyCursorResult at 0x2450624ebe0>"
     },
     "execution_count": 28,
     "metadata": {},
     "output_type": "execute_result"
    }
   ],
   "source": [
    "# Nr 4\n",
    "sql = \"\"\"\n",
    "      CREATE INDEX ix_customer_id ON emails USING HASH(customer_id);\n",
    "      \"\"\"\n",
    "\n",
    "engine.execute(sql)"
   ],
   "metadata": {
    "collapsed": false,
    "pycharm": {
     "name": "#%%\n"
    }
   }
  },
  {
   "cell_type": "code",
   "execution_count": 29,
   "outputs": [
    {
     "data": {
      "text/plain": "[('Seq Scan on emails  (cost=0.00..10651.98 rows=417365 width=79) (actual time=0.057..36.774 rows=417315 loops=1)',),\n ('  Filter: (customer_id > 100)',),\n ('  Rows Removed by Filter: 843',),\n ('Planning Time: 0.325 ms',),\n ('Execution Time: 43.104 ms',)]"
     },
     "execution_count": 29,
     "metadata": {},
     "output_type": "execute_result"
    }
   ],
   "source": [
    "# Nr 5\n",
    "sql = \"\"\"\n",
    "      EXPLAIN ANALYZE SELECT * FROM emails WHERE customer_id > 100;\n",
    "      \"\"\"\n",
    "\n",
    "engine.execute(sql).fetchall()"
   ],
   "metadata": {
    "collapsed": false,
    "pycharm": {
     "name": "#%%\n"
    }
   }
  },
  {
   "cell_type": "markdown",
   "source": [
    "### Uso efetivo do índice\n",
    "Até agora neste módulo, vimos vários métodos de varredura diferentes e o uso de varreduras de árvores B e hash como meio de reduzir os tempos de consulta. Também apresentamos vários exemplos diferentes de onde um índice foi criado para um campo ou condição e foi explicitamente não selecionado pelo planejador de consulta ao executar a consulta, pois foi considerada uma escolha mais ineficiente. Nesta seção, passaremos algum tempo discutindo o uso apropriado de índices para reduzir os tempos de consulta, pois, embora os índices possam parecer uma escolha óbvia para aumentar o desempenho da consulta, esse nem sempre é o caso. Considere as seguintes situações:\n",
    "\n",
    "* O campo que você usou para seu índice está mudando com frequência: nessa situação, onde você está inserindo ou excluindo linhas com frequência em uma tabela, o índice que você criou pode se tornar rapidamente ineficiente, pois foi construído para dados que não são mais relevante ou desde então teve uma alteração de valor. Considere o índice no final de um livro. Se você mudar a ordem dos capítulos, o índice não será mais válido e precisará ser republicado. Em tal situação, pode ser necessário reindexar periodicamente os dados para garantir que as referências aos dados estejam atualizadas. No SQL, podemos reconstruir os índices de dados usando o comando **REINDEX**, o que leva a um cenário em que você precisará considerar o custo, os meios e a estratégia de reindexação frequente versus outras considerações de desempenho, como os benefícios de consulta introduzidos por o índice, o tamanho do banco de dados ou mesmo se as alterações na estrutura do banco de dados poderiam evitar o problema por completo.\n",
    "* O índice está desatualizado e as referências existentes são inválidas ou existem segmentos de dados sem índice, impedindo o uso do índice pelo planejador de consulta: Em tal situação, o índice é tão antigo que não pode ser usado e portanto, precisa ser atualizado.\n",
    "* Você está frequentemente procurando registros contendo os mesmos critérios de pesquisa em um campo específico: Consideramos um exemplo semelhante a este ao procurar clientes em um banco de dados cujos registros continham valores de latitude menores que 38 e maiores que 30, usando **SELECT * FROM customers WHERE (latitude < 38) and (latitude > 30)**. Neste exemplo, pode ser mais eficiente criar um índice parcial usando o subconjunto de dados, como aqui: **CREATE INDEX ix_latitude_less ON customers(latitude) WHERE (latitude < 38) e (latitude > 30)**. Dessa forma, o índice é criado apenas com os dados que nos interessam e, portanto, é menor em tamanho, mais rápido de verificar, mais fácil de manter e também pode ser usado em consultas mais complexas.\n",
    "* O banco de dados não é particularmente grande: Em tal situação, a sobrecarga de criar e usar o índice pode simplesmente não valer a pena. As varreduras sequenciais, principalmente aquelas que usam dados já na RAM, são bastante rápidas e, se você criar um índice em um conjunto de dados pequeno, não há garantia de que o planejador de consultas o usará ou obterá algum benefício significativo ao usá-lo."
   ],
   "metadata": {
    "collapsed": false,
    "pycharm": {
     "name": "#%% md\n"
    }
   }
  },
  {
   "cell_type": "markdown",
   "source": [
    "## Participações de desempenho\n",
    "A funcionalidade **JOIN** em bancos de dados compatíveis com SQL fornece um método muito poderoso e eficiente de combinar dados de diferentes fontes, sem a necessidade de estruturas de loop complicadas ou uma série de instruções SQL individuais. Conforme sugerido pelo nome do comando, uma junção obtém informações de duas ou mais tabelas e usa o conteúdo dos registros em cada tabela para combinar os dois conjuntos de informações. Como estamos combinando essas informações sem o uso de estruturas de loop, isso pode ser feito com muita eficiência. Nesta seção, consideraremos o uso de junções como uma alternativa mais eficiente às estruturas de loop. A seguir está a tabela de **Customer Information**:"
   ],
   "metadata": {
    "collapsed": false,
    "pycharm": {
     "name": "#%% md\n"
    }
   }
  },
  {
   "cell_type": "code",
   "execution_count": 30,
   "outputs": [
    {
     "data": {
      "image/png": "[encoded data removed]",
      "text/plain": "<IPython.core.display.Image object>"
     },
     "execution_count": 30,
     "metadata": {},
     "output_type": "execute_result"
    }
   ],
   "source": [
    "Image('images/customer_information.PNG')"
   ],
   "metadata": {
    "collapsed": false,
    "pycharm": {
     "name": "#%%\n"
    }
   }
  },
  {
   "cell_type": "markdown",
   "source": [
    "A tabela a seguir mostra a tabela **Order Information**:"
   ],
   "metadata": {
    "collapsed": false,
    "pycharm": {
     "name": "#%% md\n"
    }
   }
  },
  {
   "cell_type": "code",
   "execution_count": 31,
   "outputs": [
    {
     "data": {
      "image/png": "[encoded data removed]",
      "text/plain": "<IPython.core.display.Image object>"
     },
     "execution_count": 31,
     "metadata": {},
     "output_type": "execute_result"
    }
   ],
   "source": [
    "Image('images/order_information.PNG')"
   ],
   "metadata": {
    "collapsed": false,
    "pycharm": {
     "name": "#%%\n"
    }
   }
  },
  {
   "cell_type": "markdown",
   "source": [
    "Então, com essas informações, podemos querer ver se existem algumas tendências nos itens que são vendidos com base no endereço do cliente. Podemos usar **JOIN** para reunir esses dois conjuntos de informações; usaremos a coluna **Customer ID** para combinar os dois conjuntos de dados e produzir as informações mostradas na tabela a seguir:"
   ],
   "metadata": {
    "collapsed": false,
    "pycharm": {
     "name": "#%% md\n"
    }
   }
  },
  {
   "cell_type": "code",
   "execution_count": 32,
   "outputs": [
    {
     "data": {
      "image/png": "[encoded data removed]",
      "text/plain": "<IPython.core.display.Image object>"
     },
     "execution_count": 32,
     "metadata": {},
     "output_type": "execute_result"
    }
   ],
   "source": [
    "Image('images/join_customers_id.PNG')"
   ],
   "metadata": {
    "collapsed": false,
    "pycharm": {
     "name": "#%%\n"
    }
   }
  },
  {
   "cell_type": "markdown",
   "source": [
    "Podemos ver no exemplo anterior que a junção incluiu todos os registros em que havia informações disponíveis para o cliente e o pedido. Como tal, o cliente **Meat Hook** foi omitido das informações combinadas, uma vez que nenhuma informação do pedido estava disponível. No exemplo, executamos **INNER JOIN**; há, no entanto, várias junções diferentes disponíveis, e passaremos algum tempo examinando cada uma delas. Veja a seguir um exemplo que mostra o uso de um **INNER JOIN** de **alto desempenho**:"
   ],
   "metadata": {
    "collapsed": false,
    "pycharm": {
     "name": "#%% md\n"
    }
   }
  },
  {
   "cell_type": "code",
   "execution_count": 36,
   "outputs": [],
   "source": [
    "sql = \"\"\"\n",
    "\t  EXPLAIN ANALYZE SELECT customers.*, order_info.order_id, order_info.product_code, order_info.qty\n",
    "\t  FROM customers\n",
    "\t  INNER JOIN order_info ON customers.customer_id=order_info.customer_id;\n",
    "\t  \"\"\""
   ],
   "metadata": {
    "collapsed": false,
    "pycharm": {
     "name": "#%%\n"
    }
   }
  },
  {
   "cell_type": "markdown",
   "source": [
    "### Exercício 29: Determinando o Uso de Inner Joins\n",
    "Neste exercício, investigaremos o uso de junções internas para selecionar com eficiência várias linhas de dados de duas tabelas diferentes. Digamos que nossos bons amigos do departamento de marketing nos deram dois bancos de dados separados: um do SalesForce e outro da Oracle. Poderíamos usar uma instrução JOIN para mesclar as informações correspondentes das duas fontes em uma única fonte. Aqui estão os passos a seguir:"
   ],
   "metadata": {
    "collapsed": false,
    "pycharm": {
     "name": "#%% md\n"
    }
   }
  },
  {
   "cell_type": "code",
   "execution_count": 14,
   "outputs": [
    {
     "data": {
      "text/plain": "   customer_id                                         first_name  \\\n0            5  Murray                                        ...   \n1            2                                            Captain   \n2            3                                           Griswold   \n3            4                                           Guybrush   \n4            1                                               Meat   \n\n              last_name                                   address  \n0  TheSkull              Plunder Island                            \n1  Blondebeard           Puerto Pollo                              \n2  Goodsoup              Blood Island                              \n3  Threepwood            Melee Island                              \n4  Hook                  Melee Island                              ",
      "text/html": "<div>\n<style scoped>\n    .dataframe tbody tr th:only-of-type {\n        vertical-align: middle;\n    }\n\n    .dataframe tbody tr th {\n        vertical-align: top;\n    }\n\n    .dataframe thead th {\n        text-align: right;\n    }\n</style>\n<table border=\"1\" class=\"dataframe\">\n  <thead>\n    <tr style=\"text-align: right;\">\n      <th></th>\n      <th>customer_id</th>\n      <th>first_name</th>\n      <th>last_name</th>\n      <th>address</th>\n    </tr>\n  </thead>\n  <tbody>\n    <tr>\n      <th>0</th>\n      <td>5</td>\n      <td>Murray                                        ...</td>\n      <td>TheSkull</td>\n      <td>Plunder Island</td>\n    </tr>\n    <tr>\n      <th>1</th>\n      <td>2</td>\n      <td>Captain</td>\n      <td>Blondebeard</td>\n      <td>Puerto Pollo</td>\n    </tr>\n    <tr>\n      <th>2</th>\n      <td>3</td>\n      <td>Griswold</td>\n      <td>Goodsoup</td>\n      <td>Blood Island</td>\n    </tr>\n    <tr>\n      <th>3</th>\n      <td>4</td>\n      <td>Guybrush</td>\n      <td>Threepwood</td>\n      <td>Melee Island</td>\n    </tr>\n    <tr>\n      <th>4</th>\n      <td>1</td>\n      <td>Meat</td>\n      <td>Hook</td>\n      <td>Melee Island</td>\n    </tr>\n  </tbody>\n</table>\n</div>"
     },
     "execution_count": 14,
     "metadata": {},
     "output_type": "execute_result"
    }
   ],
   "source": [
    "import pandas as pd\n",
    "from sqlalchemy import create_engine\n",
    "\n",
    "cnxn_string = (\"postgresql+psycopg2://{username}:{pswd}\"\n",
    "               \"@{host}:{port}/{database}\")\n",
    "\n",
    "# Instanciando a Função create_engine com a string de conexão\n",
    "engine = create_engine(cnxn_string.format(\n",
    "    username=\"postgres\",\n",
    "    pswd=\"admin\",\n",
    "    host=\"127.0.0.1\",\n",
    "    port=5432,\n",
    "    database=\"smalljoins\"))\n",
    "\n",
    "sql = \"\"\"\n",
    "\t\tSELECT *\n",
    "\t\tFROM customers\n",
    "\t\tLIMIT 5\n",
    "      \"\"\"\n",
    "\n",
    "pd.read_sql_query(sql=sql, con=engine)"
   ],
   "metadata": {
    "collapsed": false,
    "pycharm": {
     "name": "#%%\n"
    }
   }
  },
  {
   "cell_type": "markdown",
   "source": [
    "Execute uma junção interna onde recuperamos todas as colunas de ambas as tabelas sem duplicar a coluna **customer_id** para replicar os resultados anteriores. Vamos definir a tabela da esquerda como **customers** e a tabela da direita como **order_info**. Então, para ser claro, queremos todas as colunas de **customers** e as colunas **order_id**, **product_code** e **qty** de **order_info** quando um cliente fez um pedido. Escreva isso como uma instrução SQL:"
   ],
   "metadata": {
    "collapsed": false,
    "pycharm": {
     "name": "#%% md\n"
    }
   }
  },
  {
   "cell_type": "code",
   "execution_count": 13,
   "outputs": [
    {
     "data": {
      "text/plain": "   customer_id                                         first_name  \\\n0            4                                           Guybrush   \n1            4                                           Guybrush   \n2            3                                           Griswold   \n3            2                                            Captain   \n4            5  Murray                                        ...   \n\n              last_name                                   address  order_id  \\\n0  Threepwood            Melee Island                                  1620   \n1  Threepwood            Melee Island                                  1621   \n2  Goodsoup              Blood Island                                  1618   \n3  Blondebeard           Puerto Pollo                                  1619   \n4  TheSkull              Plunder Island                                1622   \n\n  product_code   qty  \n0       MON123   1.0  \n1       MON636   3.0  \n2        GROG1  12.0  \n3      POULET3   3.0  \n4       MON666   1.0  ",
      "text/html": "<div>\n<style scoped>\n    .dataframe tbody tr th:only-of-type {\n        vertical-align: middle;\n    }\n\n    .dataframe tbody tr th {\n        vertical-align: top;\n    }\n\n    .dataframe thead th {\n        text-align: right;\n    }\n</style>\n<table border=\"1\" class=\"dataframe\">\n  <thead>\n    <tr style=\"text-align: right;\">\n      <th></th>\n      <th>customer_id</th>\n      <th>first_name</th>\n      <th>last_name</th>\n      <th>address</th>\n      <th>order_id</th>\n      <th>product_code</th>\n      <th>qty</th>\n    </tr>\n  </thead>\n  <tbody>\n    <tr>\n      <th>0</th>\n      <td>4</td>\n      <td>Guybrush</td>\n      <td>Threepwood</td>\n      <td>Melee Island</td>\n      <td>1620</td>\n      <td>MON123</td>\n      <td>1.0</td>\n    </tr>\n    <tr>\n      <th>1</th>\n      <td>4</td>\n      <td>Guybrush</td>\n      <td>Threepwood</td>\n      <td>Melee Island</td>\n      <td>1621</td>\n      <td>MON636</td>\n      <td>3.0</td>\n    </tr>\n    <tr>\n      <th>2</th>\n      <td>3</td>\n      <td>Griswold</td>\n      <td>Goodsoup</td>\n      <td>Blood Island</td>\n      <td>1618</td>\n      <td>GROG1</td>\n      <td>12.0</td>\n    </tr>\n    <tr>\n      <th>3</th>\n      <td>2</td>\n      <td>Captain</td>\n      <td>Blondebeard</td>\n      <td>Puerto Pollo</td>\n      <td>1619</td>\n      <td>POULET3</td>\n      <td>3.0</td>\n    </tr>\n    <tr>\n      <th>4</th>\n      <td>5</td>\n      <td>Murray                                        ...</td>\n      <td>TheSkull</td>\n      <td>Plunder Island</td>\n      <td>1622</td>\n      <td>MON666</td>\n      <td>1.0</td>\n    </tr>\n  </tbody>\n</table>\n</div>"
     },
     "execution_count": 13,
     "metadata": {},
     "output_type": "execute_result"
    }
   ],
   "source": [
    "sql = \"\"\"\n",
    "      SELECT customers.*, order_info.order_id, order_info.product_code, order_info.qty\n",
    "      FROM customers\n",
    "      INNER JOIN order_info\n",
    "       ON customers.customer_id=order_info.customer_id;\n",
    "      \"\"\"\n",
    "\n",
    "pd.read_sql_query(sql=sql, con=engine)"
   ],
   "metadata": {
    "collapsed": false,
    "pycharm": {
     "name": "#%%\n"
    }
   }
  },
  {
   "cell_type": "markdown",
   "source": [
    "Salve os resultados desta consulta como uma tabela separada inserindo as palavras-chave **INTO table_name**:"
   ],
   "metadata": {
    "collapsed": false,
    "pycharm": {
     "name": "#%% md\n"
    }
   }
  },
  {
   "cell_type": "code",
   "execution_count": 9,
   "outputs": [
    {
     "data": {
      "text/plain": "<sqlalchemy.engine.cursor.LegacyCursorResult at 0x18ce0288ca0>"
     },
     "execution_count": 9,
     "metadata": {},
     "output_type": "execute_result"
    }
   ],
   "source": [
    "sql = \"\"\"\n",
    "      SELECT customers.*, order_info.order_id, order_info.product_code, order_info.qty\n",
    "      INTO join_results FROM customers INNER JOIN order_info\n",
    "            ON customers.customer_id=order_info.customer_id;\n",
    "      \"\"\"\n",
    "\n",
    "engine.execute(sql)"
   ],
   "metadata": {
    "collapsed": false,
    "pycharm": {
     "name": "#%%\n"
    }
   }
  },
  {
   "cell_type": "markdown",
   "source": [
    "Use **EXPLAIN ANALYZE** para obter uma estimativa do tempo necessário para executar a junção. Agora, quanto mais rápido é a junção?"
   ],
   "metadata": {
    "collapsed": false,
    "pycharm": {
     "name": "#%% md\n"
    }
   }
  },
  {
   "cell_type": "code",
   "execution_count": 10,
   "outputs": [
    {
     "data": {
      "text/plain": "[('Hash Join  (cost=1.11..22.01 rows=22 width=532) (actual time=0.030..0.033 rows=5 loops=1)',),\n ('  Hash Cond: (order_info.customer_id = customers.customer_id)',),\n ('  ->  Seq Scan on order_info  (cost=0.00..18.60 rows=860 width=66) (actual time=0.012..0.013 rows=5 loops=1)',),\n ('  ->  Hash  (cost=1.05..1.05 rows=5 width=474) (actual time=0.010..0.011 rows=5 loops=1)',),\n ('        Buckets: 1024  Batches: 1  Memory Usage: 9kB',),\n ('        ->  Seq Scan on customers  (cost=0.00..1.05 rows=5 width=474) (actual time=0.006..0.006 rows=5 loops=1)',),\n ('Planning Time: 0.214 ms',),\n ('Execution Time: 0.070 ms',)]"
     },
     "execution_count": 10,
     "metadata": {},
     "output_type": "execute_result"
    }
   ],
   "source": [
    "sql = \"\"\"\n",
    "      EXPLAIN ANALYZE SELECT customers.*, order_info.order_id,order_info.product_code, order_info.qty FROM customers INNER JOIN order_info ON customers.customer_id=order_info.customer_id;\n",
    "      \"\"\"\n",
    "\n",
    "engine.execute(sql).fetchall()"
   ],
   "metadata": {
    "collapsed": false,
    "pycharm": {
     "name": "#%%\n"
    }
   }
  },
  {
   "cell_type": "markdown",
   "source": [
    "Selecione todos os valores **customer_id** que estão em **order_info** e use **EXPLAIN ANALYZE** para descobrir quanto tempo leva para executar essas consultas individuais:"
   ],
   "metadata": {
    "collapsed": false,
    "pycharm": {
     "name": "#%% md\n"
    }
   }
  },
  {
   "cell_type": "code",
   "execution_count": 11,
   "outputs": [
    {
     "data": {
      "text/plain": "[('Hash Join  (cost=21.86..25.50 rows=2 width=474) (actual time=0.030..0.032 rows=4 loops=1)',),\n ('  Hash Cond: (order_info.customer_id = customers.customer_id)',),\n ('  ->  HashAggregate  (cost=20.75..22.75 rows=200 width=8) (actual time=0.010..0.011 rows=4 loops=1)',),\n ('        Group Key: order_info.customer_id',),\n ('        Batches: 1  Memory Usage: 40kB',),\n ('        ->  Seq Scan on order_info  (cost=0.00..18.60 rows=860 width=8) (actual time=0.003..0.003 rows=5 loops=1)',),\n ('  ->  Hash  (cost=1.05..1.05 rows=5 width=474) (actual time=0.014..0.014 rows=5 loops=1)',),\n ('        Buckets: 1024  Batches: 1  Memory Usage: 9kB',),\n ('        ->  Seq Scan on customers  (cost=0.00..1.05 rows=5 width=474) (actual time=0.009..0.010 rows=5 loops=1)',),\n ('Planning Time: 0.137 ms',),\n ('Execution Time: 0.062 ms',)]"
     },
     "execution_count": 11,
     "metadata": {},
     "output_type": "execute_result"
    }
   ],
   "source": [
    "sql = \"\"\"\n",
    "      EXPLAIN ANALYZE SELECT *\n",
    "      FROM customers\n",
    "      WHERE customer_id IN (SELECT customer_id FROM order_info);\n",
    "      \"\"\"\n",
    "\n",
    "engine.execute(sql).fetchall()"
   ],
   "metadata": {
    "collapsed": false,
    "pycharm": {
     "name": "#%%\n"
    }
   }
  },
  {
   "cell_type": "markdown",
   "source": [
    "Observando os resultados dos dois planejadores de consulta, podemos ver que não apenas a junção interna levou menos tempo da consulta sequencial (**0,062 ms** comparado com **0,070 ms**), mas também que retornamos mais informações pelo junção interna, com order_id, product_code e qty também sendo retornados.\n",
    "\n",
    "10. Execute uma junção à esquerda usando a tabela de clientes como a tabela da esquerda e order_info como a tabela da direita:"
   ],
   "metadata": {
    "collapsed": false,
    "pycharm": {
     "name": "#%% md\n"
    }
   }
  },
  {
   "cell_type": "code",
   "execution_count": 15,
   "outputs": [
    {
     "data": {
      "text/plain": "   customer_id                                         first_name  \\\n0            4                                           Guybrush   \n1            4                                           Guybrush   \n2            3                                           Griswold   \n3            2                                            Captain   \n4            5  Murray                                        ...   \n5            1                                               Meat   \n\n              last_name                                   address  order_id  \\\n0  Threepwood            Melee Island                                1620.0   \n1  Threepwood            Melee Island                                1621.0   \n2  Goodsoup              Blood Island                                1618.0   \n3  Blondebeard           Puerto Pollo                                1619.0   \n4  TheSkull              Plunder Island                              1622.0   \n5  Hook                  Melee Island                                   NaN   \n\n  product_code   qty  \n0       MON123   1.0  \n1       MON636   3.0  \n2        GROG1  12.0  \n3      POULET3   3.0  \n4       MON666   1.0  \n5         None   NaN  ",
      "text/html": "<div>\n<style scoped>\n    .dataframe tbody tr th:only-of-type {\n        vertical-align: middle;\n    }\n\n    .dataframe tbody tr th {\n        vertical-align: top;\n    }\n\n    .dataframe thead th {\n        text-align: right;\n    }\n</style>\n<table border=\"1\" class=\"dataframe\">\n  <thead>\n    <tr style=\"text-align: right;\">\n      <th></th>\n      <th>customer_id</th>\n      <th>first_name</th>\n      <th>last_name</th>\n      <th>address</th>\n      <th>order_id</th>\n      <th>product_code</th>\n      <th>qty</th>\n    </tr>\n  </thead>\n  <tbody>\n    <tr>\n      <th>0</th>\n      <td>4</td>\n      <td>Guybrush</td>\n      <td>Threepwood</td>\n      <td>Melee Island</td>\n      <td>1620.0</td>\n      <td>MON123</td>\n      <td>1.0</td>\n    </tr>\n    <tr>\n      <th>1</th>\n      <td>4</td>\n      <td>Guybrush</td>\n      <td>Threepwood</td>\n      <td>Melee Island</td>\n      <td>1621.0</td>\n      <td>MON636</td>\n      <td>3.0</td>\n    </tr>\n    <tr>\n      <th>2</th>\n      <td>3</td>\n      <td>Griswold</td>\n      <td>Goodsoup</td>\n      <td>Blood Island</td>\n      <td>1618.0</td>\n      <td>GROG1</td>\n      <td>12.0</td>\n    </tr>\n    <tr>\n      <th>3</th>\n      <td>2</td>\n      <td>Captain</td>\n      <td>Blondebeard</td>\n      <td>Puerto Pollo</td>\n      <td>1619.0</td>\n      <td>POULET3</td>\n      <td>3.0</td>\n    </tr>\n    <tr>\n      <th>4</th>\n      <td>5</td>\n      <td>Murray                                        ...</td>\n      <td>TheSkull</td>\n      <td>Plunder Island</td>\n      <td>1622.0</td>\n      <td>MON666</td>\n      <td>1.0</td>\n    </tr>\n    <tr>\n      <th>5</th>\n      <td>1</td>\n      <td>Meat</td>\n      <td>Hook</td>\n      <td>Melee Island</td>\n      <td>NaN</td>\n      <td>None</td>\n      <td>NaN</td>\n    </tr>\n  </tbody>\n</table>\n</div>"
     },
     "execution_count": 15,
     "metadata": {},
     "output_type": "execute_result"
    }
   ],
   "source": [
    "sql = \"\"\"\n",
    "      SELECT customers.*, order_info.order_id, order_info.product_code, order_info.qty\n",
    "      FROM customers\n",
    "      LEFT JOIN order_info\n",
    "        ON customers.customer_id=order_info.customer_id;\n",
    "      \"\"\"\n",
    "\n",
    "pd.read_sql_query(sql=sql, con=engine)"
   ],
   "metadata": {
    "collapsed": false,
    "pycharm": {
     "name": "#%%\n"
    }
   }
  },
  {
   "cell_type": "markdown",
   "source": [
    "Observe as diferenças entre a junção esquerda e a junção interna. A junção esquerda incluiu o resultado para **customer_id 4** duas vezes e incluiu o resultado para **Meat Hook** uma vez, embora não haja informações de pedido disponíveis. Ele incluiu os resultados da tabela da esquerda com entradas em branco para informações que não estão presentes na tabela da direita.\n",
    "\n",
    "Use **EXPLAIN ANALYZE** para determinar o tempo e o custo de execução da junção:"
   ],
   "metadata": {
    "collapsed": false,
    "pycharm": {
     "name": "#%% md\n"
    }
   }
  },
  {
   "cell_type": "code",
   "execution_count": 16,
   "outputs": [
    {
     "data": {
      "text/plain": "[('Hash Right Join  (cost=1.11..22.01 rows=22 width=532) (actual time=0.033..0.038 rows=6 loops=1)',),\n ('  Hash Cond: (order_info.customer_id = customers.customer_id)',),\n ('  ->  Seq Scan on order_info  (cost=0.00..18.60 rows=860 width=66) (actual time=0.004..0.005 rows=5 loops=1)',),\n ('  ->  Hash  (cost=1.05..1.05 rows=5 width=474) (actual time=0.022..0.022 rows=5 loops=1)',),\n ('        Buckets: 1024  Batches: 1  Memory Usage: 9kB',),\n ('        ->  Seq Scan on customers  (cost=0.00..1.05 rows=5 width=474) (actual time=0.015..0.016 rows=5 loops=1)',),\n ('Planning Time: 0.176 ms',),\n ('Execution Time: 0.063 ms',)]"
     },
     "execution_count": 16,
     "metadata": {},
     "output_type": "execute_result"
    }
   ],
   "source": [
    "sql = \"\"\"\n",
    "      EXPLAIN ANALYZE SELECT customers.*, order_info.order_id, order_info.product_code, order_info.qty\n",
    "      FROM customers\n",
    "      LEFT JOIN order_info\n",
    "      ON customers.customer_id=order_info.customer_id;\n",
    "      \"\"\"\n",
    "\n",
    "engine.execute(sql).fetchall()"
   ],
   "metadata": {
    "collapsed": false,
    "pycharm": {
     "name": "#%%\n"
    }
   }
  },
  {
   "cell_type": "markdown",
   "source": [
    "12. Substitua a junção esquerda da etapa 11 por uma junção direita e observe os resultados:"
   ],
   "metadata": {
    "collapsed": false,
    "pycharm": {
     "name": "#%% md\n"
    }
   }
  },
  {
   "cell_type": "code",
   "execution_count": 18,
   "outputs": [
    {
     "data": {
      "text/plain": "   customer_id                                         first_name  \\\n0            4                                           Guybrush   \n1            4                                           Guybrush   \n2            3                                           Griswold   \n3            2                                            Captain   \n4            5  Murray                                        ...   \n5            1                                               Meat   \n\n              last_name                                   address  order_id  \\\n0  Threepwood            Melee Island                                1620.0   \n1  Threepwood            Melee Island                                1621.0   \n2  Goodsoup              Blood Island                                1618.0   \n3  Blondebeard           Puerto Pollo                                1619.0   \n4  TheSkull              Plunder Island                              1622.0   \n5  Hook                  Melee Island                                   NaN   \n\n  product_code   qty  \n0       MON123   1.0  \n1       MON636   3.0  \n2        GROG1  12.0  \n3      POULET3   3.0  \n4       MON666   1.0  \n5         None   NaN  ",
      "text/html": "<div>\n<style scoped>\n    .dataframe tbody tr th:only-of-type {\n        vertical-align: middle;\n    }\n\n    .dataframe tbody tr th {\n        vertical-align: top;\n    }\n\n    .dataframe thead th {\n        text-align: right;\n    }\n</style>\n<table border=\"1\" class=\"dataframe\">\n  <thead>\n    <tr style=\"text-align: right;\">\n      <th></th>\n      <th>customer_id</th>\n      <th>first_name</th>\n      <th>last_name</th>\n      <th>address</th>\n      <th>order_id</th>\n      <th>product_code</th>\n      <th>qty</th>\n    </tr>\n  </thead>\n  <tbody>\n    <tr>\n      <th>0</th>\n      <td>4</td>\n      <td>Guybrush</td>\n      <td>Threepwood</td>\n      <td>Melee Island</td>\n      <td>1620.0</td>\n      <td>MON123</td>\n      <td>1.0</td>\n    </tr>\n    <tr>\n      <th>1</th>\n      <td>4</td>\n      <td>Guybrush</td>\n      <td>Threepwood</td>\n      <td>Melee Island</td>\n      <td>1621.0</td>\n      <td>MON636</td>\n      <td>3.0</td>\n    </tr>\n    <tr>\n      <th>2</th>\n      <td>3</td>\n      <td>Griswold</td>\n      <td>Goodsoup</td>\n      <td>Blood Island</td>\n      <td>1618.0</td>\n      <td>GROG1</td>\n      <td>12.0</td>\n    </tr>\n    <tr>\n      <th>3</th>\n      <td>2</td>\n      <td>Captain</td>\n      <td>Blondebeard</td>\n      <td>Puerto Pollo</td>\n      <td>1619.0</td>\n      <td>POULET3</td>\n      <td>3.0</td>\n    </tr>\n    <tr>\n      <th>4</th>\n      <td>5</td>\n      <td>Murray                                        ...</td>\n      <td>TheSkull</td>\n      <td>Plunder Island</td>\n      <td>1622.0</td>\n      <td>MON666</td>\n      <td>1.0</td>\n    </tr>\n    <tr>\n      <th>5</th>\n      <td>1</td>\n      <td>Meat</td>\n      <td>Hook</td>\n      <td>Melee Island</td>\n      <td>NaN</td>\n      <td>None</td>\n      <td>NaN</td>\n    </tr>\n  </tbody>\n</table>\n</div>"
     },
     "execution_count": 18,
     "metadata": {},
     "output_type": "execute_result"
    }
   ],
   "source": [
    "sql = \"\"\"\n",
    "     SELECT customers.*, order_info.order_id, order_info.product_code, order_info.qty\n",
    "     FROM customers\n",
    "     LEFT JOIN order_info\n",
    "     ON customers.customer_id=order_info.customer_id;\n",
    "      \"\"\"\n",
    "\n",
    "pd.read_sql_query(sql=sql, con=engine)"
   ],
   "metadata": {
    "collapsed": false,
    "pycharm": {
     "name": "#%%\n"
    }
   }
  },
  {
   "cell_type": "markdown",
   "source": [
    "13. Use **EXPLAIN ANALYZE** para determinar o tempo e o custo da junção correta:"
   ],
   "metadata": {
    "collapsed": false,
    "pycharm": {
     "name": "#%% md\n"
    }
   }
  },
  {
   "cell_type": "code",
   "execution_count": 17,
   "outputs": [
    {
     "data": {
      "text/plain": "[('Hash Left Join  (cost=1.11..22.01 rows=860 width=532) (actual time=0.023..0.025 rows=5 loops=1)',),\n ('  Hash Cond: (order_info.customer_id = customers.customer_id)',),\n ('  ->  Seq Scan on order_info  (cost=0.00..18.60 rows=860 width=66) (actual time=0.010..0.010 rows=5 loops=1)',),\n ('  ->  Hash  (cost=1.05..1.05 rows=5 width=474) (actual time=0.007..0.007 rows=5 loops=1)',),\n ('        Buckets: 1024  Batches: 1  Memory Usage: 9kB',),\n ('        ->  Seq Scan on customers  (cost=0.00..1.05 rows=5 width=474) (actual time=0.004..0.004 rows=5 loops=1)',),\n ('Planning Time: 0.119 ms',),\n ('Execution Time: 0.042 ms',)]"
     },
     "execution_count": 17,
     "metadata": {},
     "output_type": "execute_result"
    }
   ],
   "source": [
    "sql = \"\"\"\n",
    "      EXPLAIN ANALYZE SELECT customers.*, order_info.order_id, order_info.product_code, order_info.qty\n",
    "      FROM customers\n",
    "      RIGHT JOIN order_info\n",
    "        ON customers.customer_id=order_info.customer_id;\n",
    "      \"\"\"\n",
    "\n",
    "engine.execute(sql).fetchall()"
   ],
   "metadata": {
    "collapsed": false,
    "pycharm": {
     "name": "#%%\n"
    }
   }
  },
  {
   "cell_type": "markdown",
   "source": [
    "Podemos ver que a junção direita foi marginalmente mais rápida e mais econômica, o que pode ser atribuído ao retorno de uma linha a menos do que na junção esquerda.\n",
    "\n",
    "14. Insira uma linha adicional em **order_info** com um valor **customer_id** que não está presente na tabela de clientes:"
   ],
   "metadata": {
    "collapsed": false,
    "pycharm": {
     "name": "#%% md\n"
    }
   }
  },
  {
   "cell_type": "code",
   "execution_count": 20,
   "outputs": [
    {
     "data": {
      "text/plain": "<sqlalchemy.engine.cursor.LegacyCursorResult at 0x18ce2076d60>"
     },
     "execution_count": 20,
     "metadata": {},
     "output_type": "execute_result"
    }
   ],
   "source": [
    "sql = \"\"\"\n",
    "      INSERT INTO order_info (order_id, customer_id, product_code,qty)\n",
    "      VALUES (1623, 6, 'MEL386', 1);\n",
    "      \"\"\"\n",
    "\n",
    "engine.execute(sql)"
   ],
   "metadata": {
    "collapsed": false,
    "pycharm": {
     "name": "#%%\n"
    }
   }
  },
  {
   "cell_type": "code",
   "execution_count": 21,
   "outputs": [
    {
     "data": {
      "text/plain": "   customer_id                                         first_name  \\\n0          4.0                                           Guybrush   \n1          4.0                                           Guybrush   \n2          3.0                                           Griswold   \n3          2.0                                            Captain   \n4          5.0  Murray                                        ...   \n5          NaN                                               None   \n6          1.0                                               Meat   \n\n              last_name                                   address  order_id  \\\n0  Threepwood            Melee Island                                1620.0   \n1  Threepwood            Melee Island                                1621.0   \n2  Goodsoup              Blood Island                                1618.0   \n3  Blondebeard           Puerto Pollo                                1619.0   \n4  TheSkull              Plunder Island                              1622.0   \n5                  None                                      None    1623.0   \n6  Hook                  Melee Island                                   NaN   \n\n  product_code   qty  \n0       MON123   1.0  \n1       MON636   3.0  \n2        GROG1  12.0  \n3      POULET3   3.0  \n4       MON666   1.0  \n5       MEL386   1.0  \n6         None   NaN  ",
      "text/html": "<div>\n<style scoped>\n    .dataframe tbody tr th:only-of-type {\n        vertical-align: middle;\n    }\n\n    .dataframe tbody tr th {\n        vertical-align: top;\n    }\n\n    .dataframe thead th {\n        text-align: right;\n    }\n</style>\n<table border=\"1\" class=\"dataframe\">\n  <thead>\n    <tr style=\"text-align: right;\">\n      <th></th>\n      <th>customer_id</th>\n      <th>first_name</th>\n      <th>last_name</th>\n      <th>address</th>\n      <th>order_id</th>\n      <th>product_code</th>\n      <th>qty</th>\n    </tr>\n  </thead>\n  <tbody>\n    <tr>\n      <th>0</th>\n      <td>4.0</td>\n      <td>Guybrush</td>\n      <td>Threepwood</td>\n      <td>Melee Island</td>\n      <td>1620.0</td>\n      <td>MON123</td>\n      <td>1.0</td>\n    </tr>\n    <tr>\n      <th>1</th>\n      <td>4.0</td>\n      <td>Guybrush</td>\n      <td>Threepwood</td>\n      <td>Melee Island</td>\n      <td>1621.0</td>\n      <td>MON636</td>\n      <td>3.0</td>\n    </tr>\n    <tr>\n      <th>2</th>\n      <td>3.0</td>\n      <td>Griswold</td>\n      <td>Goodsoup</td>\n      <td>Blood Island</td>\n      <td>1618.0</td>\n      <td>GROG1</td>\n      <td>12.0</td>\n    </tr>\n    <tr>\n      <th>3</th>\n      <td>2.0</td>\n      <td>Captain</td>\n      <td>Blondebeard</td>\n      <td>Puerto Pollo</td>\n      <td>1619.0</td>\n      <td>POULET3</td>\n      <td>3.0</td>\n    </tr>\n    <tr>\n      <th>4</th>\n      <td>5.0</td>\n      <td>Murray                                        ...</td>\n      <td>TheSkull</td>\n      <td>Plunder Island</td>\n      <td>1622.0</td>\n      <td>MON666</td>\n      <td>1.0</td>\n    </tr>\n    <tr>\n      <th>5</th>\n      <td>NaN</td>\n      <td>None</td>\n      <td>None</td>\n      <td>None</td>\n      <td>1623.0</td>\n      <td>MEL386</td>\n      <td>1.0</td>\n    </tr>\n    <tr>\n      <th>6</th>\n      <td>1.0</td>\n      <td>Meat</td>\n      <td>Hook</td>\n      <td>Melee Island</td>\n      <td>NaN</td>\n      <td>None</td>\n      <td>NaN</td>\n    </tr>\n  </tbody>\n</table>\n</div>"
     },
     "execution_count": 21,
     "metadata": {},
     "output_type": "execute_result"
    }
   ],
   "source": [
    "sql = \"\"\"\n",
    "     SELECT customers.*, order_info.order_id, order_info.product_code, order_info.qty\n",
    "     FROM customers\n",
    "     FULL OUTER JOIN order_info\n",
    "      ON customers.customer_id=order_info.customer_id;\n",
    "      \"\"\"\n",
    "\n",
    "pd.read_sql_query(sql=sql, con=engine)"
   ],
   "metadata": {
    "collapsed": false,
    "pycharm": {
     "name": "#%%\n"
    }
   }
  },
  {
   "cell_type": "markdown",
   "source": [
    "Observe a linha que contém **product_code MEL386**, mas nenhuma informação referente ao cliente; há um caso semelhante para a linha para **customer_id Meat Hook**. A junção externa completa combinou todas as informações disponíveis, mesmo que algumas das informações não estejam disponíveis em nenhuma das tabelas."
   ],
   "metadata": {
    "collapsed": false,
    "pycharm": {
     "name": "#%% md\n"
    }
   }
  },
  {
   "cell_type": "markdown",
   "source": [
    "16. Use o comando **EXPLAIN ANALYZE** para determinar o desempenho da consulta."
   ],
   "metadata": {
    "collapsed": false,
    "pycharm": {
     "name": "#%% md\n"
    }
   }
  },
  {
   "cell_type": "code",
   "execution_count": 22,
   "outputs": [
    {
     "data": {
      "text/plain": "[('Hash Full Join  (cost=1.11..22.01 rows=860 width=532) (actual time=0.030..0.034 rows=7 loops=1)',),\n ('  Hash Cond: (order_info.customer_id = customers.customer_id)',),\n ('  ->  Seq Scan on order_info  (cost=0.00..18.60 rows=860 width=66) (actual time=0.005..0.005 rows=6 loops=1)',),\n ('  ->  Hash  (cost=1.05..1.05 rows=5 width=474) (actual time=0.018..0.018 rows=5 loops=1)',),\n ('        Buckets: 1024  Batches: 1  Memory Usage: 9kB',),\n ('        ->  Seq Scan on customers  (cost=0.00..1.05 rows=5 width=474) (actual time=0.013..0.013 rows=5 loops=1)',),\n ('Planning Time: 0.123 ms',),\n ('Execution Time: 0.054 ms',)]"
     },
     "execution_count": 22,
     "metadata": {},
     "output_type": "execute_result"
    }
   ],
   "source": [
    "sql = \"\"\"\n",
    "      EXPLAIN ANALYZE SELECT customers.*, order_info.order_id, order_info.product_code, order_info.qty\n",
    "      FROM customers\n",
    "      FULL OUTER JOIN order_info\n",
    "            ON customers.customer_id=order_info.customer_id;\n",
    "      \"\"\"\n",
    "\n",
    "engine.execute(sql).fetchall()"
   ],
   "metadata": {
    "collapsed": false,
    "pycharm": {
     "name": "#%%\n"
    }
   }
  },
  {
   "cell_type": "markdown",
   "source": [
    "Neste exercício, fomos apresentados aos benefícios de uso e desempenho das junções. Observamos a combinação de informações de duas tabelas separadas usando menos recursos do que as pesquisas individuais exigem, bem como o uso de **OUTER JOIN** para combinar todas as informações com eficiência. Na próxima atividade, desenvolveremos nossa compreensão de junções com um conjunto de dados muito maior.\n",
    "\n",
    "### Atividade 13: Implementando Junções\n",
    "Nesta atividade, nosso objetivo é implementar várias junções de desempenho. Nesta atividade, usaremos junções para combinar informações de uma tabela de clientes e informações de um conjunto de dados de email de marketing. Digamos que acabamos de coletar vários registros de e-mail diferentes de vários bancos de dados diferentes. Gostaríamos de destilar as informações em uma única tabela para que possamos realizar uma análise mais detalhada. Aqui estão os passos a seguir:\n",
    "1. Abra o **PostgreSQL** e conecte-se ao banco de dados **sqlda**.\n",
    "2. Determine uma lista de clientes (**customer_id**, **first_name** e **last_name**) que receberam um e-mail, incluindo informações sobre o assunto do e-mail e se abriram e clicaram no e-mail. A tabela resultante deve incluir as colunas **customer_id**, **first_name**, **last_name**, **email_subject**, **openend** e **clicked**.\n",
    "3. Salve a tabela resultante em uma nova tabela, **customer_emails**.\n",
    "4. Encontre os clientes que abriram ou clicaram em um e-mail.\n",
    "5. Encontre os clientes que possuem uma concessionária em sua cidade; os clientes que não possuem uma concessionária em sua cidade devem ter um valor em branco para as colunas **city**.\n",
    "6. Liste os clientes que não possuem concessionárias em sua cidade (dica: um campo em branco é **NULL**)."
   ],
   "metadata": {
    "collapsed": false,
    "pycharm": {
     "name": "#%% md\n"
    }
   }
  },
  {
   "cell_type": "code",
   "execution_count": 23,
   "outputs": [
    {
     "data": {
      "text/plain": "        customer_id first_name last_name opened clicked\n0                18     Mareah    Edgell      f       f\n1                30       Kath     Rivel      f       f\n2                41      Rycca   Oakwell      t       f\n3                52     Giusto     Backe      f       f\n4                59    Laurene     Lobbe      f       f\n...             ...        ...       ...    ...     ...\n418153        49996    Iseabal    Earlam      f       f\n418154        49997    Juditha   Caisley      t       f\n418155        49998    Chelsie   Plewman      f       f\n418156        49999      Danya     Wagon      t       f\n418157        50000   Courtnay    Keener      t       f\n\n[418158 rows x 5 columns]",
      "text/html": "<div>\n<style scoped>\n    .dataframe tbody tr th:only-of-type {\n        vertical-align: middle;\n    }\n\n    .dataframe tbody tr th {\n        vertical-align: top;\n    }\n\n    .dataframe thead th {\n        text-align: right;\n    }\n</style>\n<table border=\"1\" class=\"dataframe\">\n  <thead>\n    <tr style=\"text-align: right;\">\n      <th></th>\n      <th>customer_id</th>\n      <th>first_name</th>\n      <th>last_name</th>\n      <th>opened</th>\n      <th>clicked</th>\n    </tr>\n  </thead>\n  <tbody>\n    <tr>\n      <th>0</th>\n      <td>18</td>\n      <td>Mareah</td>\n      <td>Edgell</td>\n      <td>f</td>\n      <td>f</td>\n    </tr>\n    <tr>\n      <th>1</th>\n      <td>30</td>\n      <td>Kath</td>\n      <td>Rivel</td>\n      <td>f</td>\n      <td>f</td>\n    </tr>\n    <tr>\n      <th>2</th>\n      <td>41</td>\n      <td>Rycca</td>\n      <td>Oakwell</td>\n      <td>t</td>\n      <td>f</td>\n    </tr>\n    <tr>\n      <th>3</th>\n      <td>52</td>\n      <td>Giusto</td>\n      <td>Backe</td>\n      <td>f</td>\n      <td>f</td>\n    </tr>\n    <tr>\n      <th>4</th>\n      <td>59</td>\n      <td>Laurene</td>\n      <td>Lobbe</td>\n      <td>f</td>\n      <td>f</td>\n    </tr>\n    <tr>\n      <th>...</th>\n      <td>...</td>\n      <td>...</td>\n      <td>...</td>\n      <td>...</td>\n      <td>...</td>\n    </tr>\n    <tr>\n      <th>418153</th>\n      <td>49996</td>\n      <td>Iseabal</td>\n      <td>Earlam</td>\n      <td>f</td>\n      <td>f</td>\n    </tr>\n    <tr>\n      <th>418154</th>\n      <td>49997</td>\n      <td>Juditha</td>\n      <td>Caisley</td>\n      <td>t</td>\n      <td>f</td>\n    </tr>\n    <tr>\n      <th>418155</th>\n      <td>49998</td>\n      <td>Chelsie</td>\n      <td>Plewman</td>\n      <td>f</td>\n      <td>f</td>\n    </tr>\n    <tr>\n      <th>418156</th>\n      <td>49999</td>\n      <td>Danya</td>\n      <td>Wagon</td>\n      <td>t</td>\n      <td>f</td>\n    </tr>\n    <tr>\n      <th>418157</th>\n      <td>50000</td>\n      <td>Courtnay</td>\n      <td>Keener</td>\n      <td>t</td>\n      <td>f</td>\n    </tr>\n  </tbody>\n</table>\n<p>418158 rows × 5 columns</p>\n</div>"
     },
     "execution_count": 23,
     "metadata": {},
     "output_type": "execute_result"
    }
   ],
   "source": [
    "# Nr 1\n",
    "import pandas as pd\n",
    "from sqlalchemy import create_engine\n",
    "\n",
    "cnxn_string = (\"postgresql+psycopg2://{username}:{pswd}\"\n",
    "               \"@{host}:{port}/{database}\")\n",
    "\n",
    "# Instanciando a Função create_engine com a string de conexão\n",
    "engine = create_engine(cnxn_string.format(\n",
    "    username=\"postgres\",\n",
    "    pswd=\"admin\",\n",
    "    host=\"127.0.0.1\",\n",
    "    port=5432,\n",
    "    database=\"sqlda\"))\n",
    "\n",
    "# Nr 2\n",
    "\n",
    "sql = \"\"\"\n",
    "\t\tSELECT customers.customer_id, customers.first_name, customers.last_name, emails.opened, emails.clicked\n",
    "\t\tFROM customers\n",
    "\t\tINNER JOIN emails\n",
    "\t\tON customers.customer_id=emails.customer_id;\n",
    "\"\"\"\n",
    "\n",
    "pd.read_sql_query(sql=sql, con=engine)"
   ],
   "metadata": {
    "collapsed": false,
    "pycharm": {
     "name": "#%%\n"
    }
   }
  },
  {
   "cell_type": "code",
   "execution_count": 45,
   "outputs": [
    {
     "data": {
      "text/plain": "      customer_id first_name last_name  city\n0               1     Arlena   Riveles  None\n1              12       Tyne    Duggan  None\n2              21      Pryce     Geist  None\n3              24      Barbi  Lanegran  None\n4              30       Kath     Rivel  None\n...           ...        ...       ...   ...\n5462        49970    Tamarra     Pocke  None\n5463        49976     Perice   Maultby  None\n5464        49984    William  Coldwell  None\n5465        49993        Ada      Ince  None\n5466        50000   Courtnay    Keener  None\n\n[5467 rows x 4 columns]",
      "text/html": "<div>\n<style scoped>\n    .dataframe tbody tr th:only-of-type {\n        vertical-align: middle;\n    }\n\n    .dataframe tbody tr th {\n        vertical-align: top;\n    }\n\n    .dataframe thead th {\n        text-align: right;\n    }\n</style>\n<table border=\"1\" class=\"dataframe\">\n  <thead>\n    <tr style=\"text-align: right;\">\n      <th></th>\n      <th>customer_id</th>\n      <th>first_name</th>\n      <th>last_name</th>\n      <th>city</th>\n    </tr>\n  </thead>\n  <tbody>\n    <tr>\n      <th>0</th>\n      <td>1</td>\n      <td>Arlena</td>\n      <td>Riveles</td>\n      <td>None</td>\n    </tr>\n    <tr>\n      <th>1</th>\n      <td>12</td>\n      <td>Tyne</td>\n      <td>Duggan</td>\n      <td>None</td>\n    </tr>\n    <tr>\n      <th>2</th>\n      <td>21</td>\n      <td>Pryce</td>\n      <td>Geist</td>\n      <td>None</td>\n    </tr>\n    <tr>\n      <th>3</th>\n      <td>24</td>\n      <td>Barbi</td>\n      <td>Lanegran</td>\n      <td>None</td>\n    </tr>\n    <tr>\n      <th>4</th>\n      <td>30</td>\n      <td>Kath</td>\n      <td>Rivel</td>\n      <td>None</td>\n    </tr>\n    <tr>\n      <th>...</th>\n      <td>...</td>\n      <td>...</td>\n      <td>...</td>\n      <td>...</td>\n    </tr>\n    <tr>\n      <th>5462</th>\n      <td>49970</td>\n      <td>Tamarra</td>\n      <td>Pocke</td>\n      <td>None</td>\n    </tr>\n    <tr>\n      <th>5463</th>\n      <td>49976</td>\n      <td>Perice</td>\n      <td>Maultby</td>\n      <td>None</td>\n    </tr>\n    <tr>\n      <th>5464</th>\n      <td>49984</td>\n      <td>William</td>\n      <td>Coldwell</td>\n      <td>None</td>\n    </tr>\n    <tr>\n      <th>5465</th>\n      <td>49993</td>\n      <td>Ada</td>\n      <td>Ince</td>\n      <td>None</td>\n    </tr>\n    <tr>\n      <th>5466</th>\n      <td>50000</td>\n      <td>Courtnay</td>\n      <td>Keener</td>\n      <td>None</td>\n    </tr>\n  </tbody>\n</table>\n<p>5467 rows × 4 columns</p>\n</div>"
     },
     "execution_count": 45,
     "metadata": {},
     "output_type": "execute_result"
    }
   ],
   "source": [
    "sql = \"\"\"\n",
    "\t\tSELECT customers.customer_id, customers.first_name, customers.last_name, customers.city\n",
    "\t\tFROM customers\n",
    "\t\tLEFT JOIN dealerships on customers.city=dealerships.city\n",
    "\t\tWHERE customers.city IS NULL\n",
    "\"\"\"\n",
    "\n",
    "pd.read_sql_query(sql=sql, con=engine)"
   ],
   "metadata": {
    "collapsed": false,
    "pycharm": {
     "name": "#%%\n"
    }
   }
  },
  {
   "cell_type": "markdown",
   "source": [
    "## Funções e gatilhos\n",
    "Até agora neste módulo, descobrimos como quantificar o desempenho de consultas por meio do planejador de consultas, bem como os benefícios de usar junções para agrupar e extrair informações de várias tabelas de banco de dados. Nesta seção, construiremos consultas e instruções reutilizáveis por meio de funções, bem como a execução automática de funções por meio de retornos de chamada de gatilho.\n",
    "\n",
    "A combinação desses dois recursos SQL pode ser usada não apenas para executar consultas ou reindexar tabelas à medida que os dados são adicionados/atualizados/removidos do banco de dados, mas também para executar testes de hipóteses e acompanhar os resultados dos testes ao longo da vida do banco de dados."
   ],
   "metadata": {
    "collapsed": false,
    "pycharm": {
     "name": "#%% md\n"
    }
   }
  }
 ],
 "metadata": {
  "kernelspec": {
   "display_name": "Python 3",
   "language": "python",
   "name": "python3"
  },
  "language_info": {
   "codemirror_mode": {
    "name": "ipython",
    "version": 2
   },
   "file_extension": ".py",
   "mimetype": "text/x-python",
   "name": "python",
   "nbconvert_exporter": "python",
   "pygments_lexer": "ipython2",
   "version": "2.7.6"
  }
 },
 "nbformat": 4,
 "nbformat_minor": 0
}